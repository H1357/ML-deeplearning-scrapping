{
 "cells": [
  {
   "cell_type": "code",
   "execution_count": null,
   "metadata": {},
   "outputs": [],
   "source": [
    "dbase_='workbase_group_1.db'\n",
    "dbase='workbase_9.db'\n",
    "from pprint import pprint  \n",
    "import requests  \n",
    "import sqlite3\n",
    "\n",
    "import datetime\n",
    "from timeit import default_timer as timer\n"
   ]
  },
  {
   "cell_type": "code",
   "execution_count": null,
   "metadata": {},
   "outputs": [],
   "source": [
    "import sqlite3\n",
    "\n",
    "\n",
    "id_api_list=()\n",
    "\n",
    "# Создаем соединение с нашей базой данных\n",
    "# В нашем примере у нас это просто файл базы\n",
    "conn = sqlite3.connect(dbase)\n",
    "\n",
    "# Создаем курсор - это специальный объект который делает запросы и получает их результаты\n",
    "cursor = conn.cursor()\n",
    "\n",
    "cursor = conn.execute(\"SELECT id_api from USERS\")\n",
    "\n",
    "results = cursor.fetchall()\n",
    "    \n",
    "print (\"Operation done successfully\")\n",
    "\n",
    "\n",
    "# Не забываем закрыть соединение с базой данных\n",
    "conn.close()"
   ]
  },
  {
   "cell_type": "code",
   "execution_count": null,
   "metadata": {},
   "outputs": [],
   "source": [
    "print(len(results))\n",
    "#pprint(results[0][1])\n",
    "print(results[0:3])"
   ]
  },
  {
   "cell_type": "code",
   "execution_count": null,
   "metadata": {},
   "outputs": [],
   "source": [
    "list_for_request=list()\n",
    "try:\n",
    "    for ii in range(0,len(results)):\n",
    "        list_for_request.append(results[ii][0])\n",
    "except:\n",
    "    print('error___',ii, '____',results[ii][0])\n",
    "print(len(list_for_request))\n",
    "#print(list_for_request)"
   ]
  },
  {
   "cell_type": "code",
   "execution_count": null,
   "metadata": {},
   "outputs": [],
   "source": [
    "list_for_request.index('6634')"
   ]
  },
  {
   "cell_type": "code",
   "execution_count": null,
   "metadata": {},
   "outputs": [],
   "source": [
    "def write_to_group (LLL):\n",
    "    \n",
    "    #start = timer()\n",
    "    conn = sqlite3.connect(dbase_)\n",
    "    print (\"Opened database successfully\")\n",
    "    cursor = conn.cursor()\n",
    "\n",
    "    cursor.executemany(\"INSERT INTO G VALUES (?,?,?,?,?,?)\", LLL)\n",
    "\n",
    "    conn.commit()\n",
    "    print (\"Records created successfully\")\n",
    "    \n",
    "    #end = timer()\n",
    "    #print('write_to_',start-end)\n",
    "    conn.close()"
   ]
  },
  {
   "cell_type": "code",
   "execution_count": null,
   "metadata": {},
   "outputs": [],
   "source": [
    "def write_to_group_name (LLL):\n",
    "    conn = sqlite3.connect('groups_name.db')\n",
    "    #print (\"Opened database successfully\")\n",
    "    cursor = conn.cursor()\n",
    "\n",
    "    cursor.executemany(\"INSERT INTO GROUPS VALUES (?,?)\", LLL)\n",
    "\n",
    "    conn.commit()\n",
    "    #print (\"Records created successfully\")\n",
    "    conn.close()"
   ]
  },
  {
   "cell_type": "code",
   "execution_count": null,
   "metadata": {},
   "outputs": [],
   "source": [
    "list_of_groups=list()\n",
    "for i in groups_dict.keys():\n",
    "    temp=list()\n",
    "    temp.append(str(i))\n",
    "    temp.append(str(groups_dict[i]))\n",
    "    list_of_groups.append(temp)\n",
    "print(len(list_of_groups))"
   ]
  },
  {
   "cell_type": "code",
   "execution_count": null,
   "metadata": {},
   "outputs": [],
   "source": [
    "#list_of_groups=tuple(list_of_groups)\n",
    "list_of_groups[4]\n"
   ]
  },
  {
   "cell_type": "code",
   "execution_count": null,
   "metadata": {},
   "outputs": [],
   "source": [
    "for i in range(0,len(list_of_groups)):\n",
    "    write_to_group_name(list_of_groups[i])"
   ]
  },
  {
   "cell_type": "code",
   "execution_count": null,
   "metadata": {},
   "outputs": [],
   "source": [
    "conn = sqlite3.connect('groups_name.db')\n",
    "print (\"Opened database successfully\")\n",
    "\n",
    "conn.execute('''CREATE TABLE GROUPS\n",
    "         (\n",
    "         id, name\n",
    "         );''')\n",
    "print (\"Table created successfully\")\n",
    "\n",
    "conn.close()"
   ]
  },
  {
   "cell_type": "code",
   "execution_count": null,
   "metadata": {},
   "outputs": [],
   "source": [
    "write_to_friends(response_bucket)"
   ]
  },
  {
   "cell_type": "code",
   "execution_count": null,
   "metadata": {},
   "outputs": [],
   "source": [
    "conn = sqlite3.connect(dbase_)\n",
    "print (\"Opened database successfully\")\n",
    "\n",
    "conn.execute('''CREATE TABLE G\n",
    "         (\n",
    "         id, group_id, group_name, group_id_wall, group_name_wall, group_weight  TEXT\n",
    "         );''')\n",
    "print (\"Table created successfully\")\n",
    "\n",
    "conn.close()"
   ]
  },
  {
   "cell_type": "code",
   "execution_count": null,
   "metadata": {},
   "outputs": [],
   "source": []
  },
  {
   "cell_type": "code",
   "execution_count": null,
   "metadata": {},
   "outputs": [],
   "source": [
    "token = 'e48eff535ebc3c21d0abbd6c95d5c2e54115e4d3d11d6f8e53b5119b6e4cee4878cfade36e526a624cc99'\n",
    "#e48eff535ebc3c21d0abbd6c95d5c2e54115e4d3d11d6f8e53b5119b6e4cee4878cfade36e526a624cc99\n",
    "#https://oauth.vk.com/authorize?client_id=7437504&display=page&redirect_uri=https://oauth.vk.com/blank.html&scope=offline&response_type=token&v=5.103&state=123456\n",
    "\n",
    "\n",
    "def str_wall_for_user(id):\n",
    "    \n",
    "    #start = timer()\n",
    "    url = 'https://api.vk.com/method/wall.get' \n",
    "    params = {'owner_id': id,'v': 5.103,'access_token': token, 'lang': 'ru','filter':'owner', 'extended':1 }  \n",
    "    response_vk=requests.get(url, params=params)        \n",
    "    #print(response_vk)\n",
    "    #print(response_vk.json())\n",
    "    \n",
    "    #end = timer()\n",
    "    #print('wall.get',start-end)\n",
    "    \n",
    "    if 'response' in response_vk.json():\n",
    "        #print('chek')\n",
    "        response_v=response_vk.json()['response']\n",
    "        temp=list()\n",
    "        #temp.append(str(id))\n",
    "        temp.append(str(response_v['items']))\n",
    "        #response_bucket.append(temp) \n",
    "        \n",
    "        #if len(response_v)>2:\n",
    "        #print('id__',id,'count_',response_v['count'])\n",
    "        return temp[0]\n",
    "    else:\n",
    "        #print('id_without_group__',id)\n",
    "        return str('NULL_1')"
   ]
  },
  {
   "cell_type": "code",
   "execution_count": null,
   "metadata": {},
   "outputs": [],
   "source": [
    "pprint(str_wall_for_user(147065356)[:1000])\n",
    "kk=str_wall_for_user(147065356)"
   ]
  },
  {
   "cell_type": "code",
   "execution_count": null,
   "metadata": {},
   "outputs": [],
   "source": [
    "kk[:5000]"
   ]
  },
  {
   "cell_type": "code",
   "execution_count": null,
   "metadata": {},
   "outputs": [],
   "source": [
    "kkk=id_groups_from_wall(kk)"
   ]
  },
  {
   "cell_type": "code",
   "execution_count": null,
   "metadata": {},
   "outputs": [],
   "source": [
    "print(kkk)"
   ]
  },
  {
   "cell_type": "code",
   "execution_count": null,
   "metadata": {},
   "outputs": [],
   "source": []
  },
  {
   "cell_type": "code",
   "execution_count": null,
   "metadata": {},
   "outputs": [],
   "source": [
    "from collections import Counter\n",
    "\n",
    "def weight_estimator(kkk):\n",
    "    #start = timer()\n",
    "    kkkk=dict(Counter(kkk))\n",
    "    #print(kkkk)\n",
    "    \n",
    "    #for i in kkkk:\n",
    "        #weights.append(str(kkkk[i]))\n",
    "    \n",
    "    total=int()\n",
    "    for i in kkkk:\n",
    "        total=total+kkkk[i]\n",
    "    #print(total)\n",
    "    weights=list()\n",
    "    for i in kkkk:\n",
    "        kkkk[i]=round(float(kkkk[i]/total),2)\n",
    "        weights.append(str(kkkk[i]))\n",
    "    #print(kkkk)\n",
    "    #total_100=float()\n",
    "    #for i in kkkk:\n",
    "    #    total_100=total_100+kkkk[i]\n",
    "    #print(total_100)\n",
    "    \n",
    "    #end = timer()\n",
    "    #print('weight_estimator',start-end)\n",
    "    \n",
    "    return weights\n",
    "    \n",
    "    \n",
    "\n"
   ]
  },
  {
   "cell_type": "code",
   "execution_count": null,
   "metadata": {},
   "outputs": [],
   "source": [
    "pprint(groups_dict_funk(29559271))"
   ]
  },
  {
   "cell_type": "code",
   "execution_count": null,
   "metadata": {},
   "outputs": [],
   "source": [
    "\n",
    "token = 'e48eff535ebc3c21d0abbd6c95d5c2e54115e4d3d11d6f8e53b5119b6e4cee4878cfade36e526a624cc99'\n",
    "#e48eff535ebc3c21d0abbd6c95d5c2e54115e4d3d11d6f8e53b5119b6e4cee4878cfade36e526a624cc99\n",
    "#https://oauth.vk.com/authorize?client_id=7437504&display=page&redirect_uri=https://oauth.vk.com/blank.html&scope=offline&response_type=token&v=5.103&state=123456\n",
    "\n",
    "f = 'id, name, type, age_limits, description,is_hidden_from_feed,is_messages_blocked'\n",
    "#,'extended':0\n",
    "response_bucket=list()\n",
    "id=1\n",
    "\n",
    "def str_group_for_user(id):\n",
    "    #start = timer()\n",
    "    \n",
    "    url = 'https://api.vk.com/method/groups.get' \n",
    "    params = {'user_id': id,'v': 5.103,'access_token': token, 'lang': 'ru','extended':1, 'fields': f}  \n",
    "    response_vk=requests.get(url, params=params)        \n",
    "    #print(response_vk)\n",
    "    #print(response_vk.json())\n",
    "    #end = timer()\n",
    "    #print('groups.get',start-end)\n",
    "    \n",
    "    if 'response' in response_vk.json():\n",
    "        #print('chek')\n",
    "        response_v=response_vk.json()['response']\n",
    "        temp=list()\n",
    "        #temp.append(str(id))\n",
    "        temp.append(str(response_v['items']))\n",
    "        #response_bucket.append(temp) \n",
    "        \n",
    "        #if len(response_v)>2:\n",
    "        #print('id__',id,'count_',response_v['count'])\n",
    "        return temp[0]\n",
    "    else:\n",
    "        #print('id_without_group__',id)\n",
    "        return str('NULL_1')\n",
    "   \n",
    "        #print(response_v['items'])"
   ]
  },
  {
   "cell_type": "code",
   "execution_count": null,
   "metadata": {},
   "outputs": [],
   "source": [
    "str_group_for_user(1)"
   ]
  },
  {
   "cell_type": "code",
   "execution_count": null,
   "metadata": {},
   "outputs": [],
   "source": [
    "pprint(response_bucket[0][1])"
   ]
  },
  {
   "cell_type": "code",
   "execution_count": null,
   "metadata": {},
   "outputs": [],
   "source": [
    "k=str(response_bucket[0][1])\n",
    "print(k.rfind('{'))\n",
    "print(k.rfind('}'))\n",
    "kk=(k[k.rfind('{')+1:k.rfind('}')])"
   ]
  },
  {
   "cell_type": "code",
   "execution_count": null,
   "metadata": {},
   "outputs": [],
   "source": [
    "import re\n",
    "\n",
    "def id_groups_from_str(k):\n",
    "    #start=timer()\n",
    "    list_groups=list()\n",
    "    for m in re.finditer(r'\\'id\\': \\d*', k): \n",
    "        #print('Дата', m[0], 'начинается с позиции', m.start()) \n",
    "        x=m[0]\n",
    "        #print(x[x.rfind(': ')+2:])\n",
    "        list_groups.append(x[x.rfind(': ')+2:])\n",
    "    #end = timer()\n",
    "    #print('id_groups_from_str_',start-end)    \n",
    "    \n",
    "    return list_groups\n",
    "#for m in re.finditer(r'\\'name\\': \\'[^\\']*\\',', k): #\\',? \n",
    "#    print('Дата', m[0], 'начинается с позиции', m.start()) \n",
    "#    x=m[0]\n",
    "#    print(x[x.rfind(': ')+2:])\n",
    "    \n",
    "# -> Дата 19.01.2018 начинается с позиции 20 \n",
    "# -> Дата 01.09.2017 начинается с позиции 45\n",
    "\n",
    "def id_groups_from_wall(k):\n",
    "    #start=timer()\n",
    "    list_groups=list()\n",
    "    for m in re.finditer(r'\\'owner_id\\': -\\d*', k): \n",
    "        #print('Дата', m[0], 'начинается с позиции', m.start()) \n",
    "        x=m[0]\n",
    "        #print(x[x.rfind(': ')+2:])\n",
    "        list_groups.append(x[x.rfind(': ')+3:])\n",
    "    #end = timer()\n",
    "    #print('id_groups_from_wall_',start-end) \n",
    "    return list_groups\n"
   ]
  },
  {
   "cell_type": "code",
   "execution_count": null,
   "metadata": {},
   "outputs": [],
   "source": [
    "#не трогать!!\n",
    "groups_dict={}"
   ]
  },
  {
   "cell_type": "code",
   "execution_count": null,
   "metadata": {},
   "outputs": [],
   "source": [
    "import time\n",
    "\n",
    "groups_dict={}\n",
    "token = 'e48eff535ebc3c21d0abbd6c95d5c2e54115e4d3d11d6f8e53b5119b6e4cee4878cfade36e526a624cc99'\n",
    "#e48eff535ebc3c21d0abbd6c95d5c2e54115e4d3d11d6f8e53b5119b6e4cee4878cfade36e526a624cc99\n",
    "#https://oauth.vk.com/authorize?client_id=7437504&display=page&redirect_uri=https://oauth.vk.com/blank.html&scope=offline&response_type=token&v=5.103&state=123456\n",
    "\n",
    "def name_groups(id):\n",
    "    \n",
    "    #start = timer()\n",
    "    \n",
    "    url = 'https://api.vk.com/method/groups.getById' \n",
    "    params = {'group_ids': id,'v': 5.103,'access_token': token, 'lang': 'ru'}  \n",
    "    response_vk=requests.get(url, params=params)        \n",
    "    #print(response_vk)\n",
    "    #print(response_vk.json())\n",
    "    \n",
    "    #end = timer()\n",
    "    #print('name_groups',start-end)\n",
    "    \n",
    "    if 'response' in response_vk.json():\n",
    "        \n",
    "        response_v=response_vk.json()['response']\n",
    "        temp=str(response_v[0]['name'])\n",
    "        \n",
    "        groups_dict[(str(id))]=temp\n",
    "        \n",
    "        #temp=dict()\n",
    "        #temp[(str(id))]=str(response_v[0]['name'])\n",
    "    \n",
    "        return str(temp)  \n",
    "    else:\n",
    "        #print('id__',id,response_vk.text)\n",
    "        return 'NULL_2'\n",
    "        \n",
    "\n",
    "        \n",
    "def groups_dict_funk(id_group):\n",
    "    \n",
    "    \n",
    "    if id_group in groups_dict:\n",
    "        start=timer()\n",
    "        d=groups_dict[id_group]\n",
    "        end=timer\n",
    "        print('groups_dict__',start-end)\n",
    "        return d\n",
    "    else:\n",
    "        time.sleep(0.5)\n",
    "        return str(name_groups(id_group))\n",
    "    "
   ]
  },
  {
   "cell_type": "code",
   "execution_count": null,
   "metadata": {},
   "outputs": [],
   "source": [
    "\n",
    "list_to_base=list()\n",
    "\n",
    "for ii in range(1,6):\n",
    "    "
   ]
  },
  {
   "cell_type": "code",
   "execution_count": null,
   "metadata": {},
   "outputs": [],
   "source": [
    "len(groups_dict)"
   ]
  },
  {
   "cell_type": "code",
   "execution_count": null,
   "metadata": {},
   "outputs": [],
   "source": [
    "list_for_request.index('1410')"
   ]
  },
  {
   "cell_type": "code",
   "execution_count": null,
   "metadata": {},
   "outputs": [],
   "source": [
    "pprint(list_to_base[1])"
   ]
  },
  {
   "cell_type": "code",
   "execution_count": null,
   "metadata": {
    "scrolled": true
   },
   "outputs": [],
   "source": [
    "list_to_base=list()\n",
    "\n",
    "for j in range(1079,len(list_for_request)):\n",
    "    user_id=list_for_request[j]\n",
    "    #startU=timer()\n",
    "    \n",
    "    x1=str_group_for_user(user_id) #text\n",
    "    x2=id_groups_from_str(x1)      #list of groups\n",
    "    y1=str_wall_for_user(user_id)  #text wall\n",
    "    y2=id_groups_from_wall(y1)     #list of groups wall\n",
    "    \n",
    "    start=timer()\n",
    "    y2unic=set(y2)\n",
    "    end=timer()\n",
    "    print('set_',start-end)\n",
    "    \n",
    "    column1=list()\n",
    "    column2=list()\n",
    "    \n",
    "    column1y=list()\n",
    "    column2y=list()\n",
    "    \n",
    "    start = timer()\n",
    "    \n",
    "    for i in x2:            \n",
    "        \n",
    "        x3=groups_dict_funk(i)\n",
    "        #print('id_user__',user_id,'group_id',i,x3)\n",
    "        \n",
    "        column1.append(str(i))\n",
    "        column2.append(x3)\n",
    "    \n",
    "    end = timer()\n",
    "    print('for_1_',start-end)\n",
    "    start = timer()\n",
    "    \n",
    "    for i in y2unic:            \n",
    "        \n",
    "        y3=groups_dict_funk(i)\n",
    "        #print('id_user_wall_',user_id,'group_id',i,y3)\n",
    "        \n",
    "        column1y.append(i)\n",
    "        column2y.append(y3)\n",
    "        \n",
    "    end = timer()\n",
    "    print('for_2_',start-end)\n",
    "    start = timer()\n",
    "    \n",
    "    y4=weight_estimator(y2)\n",
    "    \n",
    "    tempX=list()   \n",
    "    tempX.append(str(user_id))\n",
    "    tempX.append(str(column1))\n",
    "    tempX.append(str(column2))\n",
    "    tempX.append(str(column1y))\n",
    "    tempX.append(str(column2y))\n",
    "    tempX.append(str(y4))\n",
    "    \n",
    "    if (len(tempX[1])>2 or len(tempX[2])>2 or len(tempX[3])>2 or len(tempX[4])>2):\n",
    "        list_to_base.append(tempX)\n",
    "    \n",
    "    end = timer()\n",
    "    print('tempX_',start-end)\n",
    "    #endU=timer()\n",
    "    #print('USER_ONE_',startU-endU)\n",
    "    \n",
    "    if (j)%10==0:\n",
    "        write_to_group(list_to_base)\n",
    "        list_to_base=list()\n",
    "        print('list_to_base_len__',len(list_to_base))"
   ]
  },
  {
   "cell_type": "code",
   "execution_count": null,
   "metadata": {},
   "outputs": [],
   "source": [
    "# пустой лист собирается 10 сек!!!\n",
    "list_to_base"
   ]
  },
  {
   "cell_type": "code",
   "execution_count": null,
   "metadata": {},
   "outputs": [],
   "source": [
    "list_to_base[3]"
   ]
  },
  {
   "cell_type": "code",
   "execution_count": null,
   "metadata": {},
   "outputs": [],
   "source": [
    "write_to_group (tuple(tempX))"
   ]
  },
  {
   "cell_type": "code",
   "execution_count": null,
   "metadata": {},
   "outputs": [],
   "source": [
    "y2"
   ]
  },
  {
   "cell_type": "code",
   "execution_count": null,
   "metadata": {},
   "outputs": [],
   "source": [
    "weight_estimator(y2)"
   ]
  },
  {
   "cell_type": "code",
   "execution_count": null,
   "metadata": {},
   "outputs": [],
   "source": [
    "from IPython.display import YouTubeVideo\n",
    "YouTubeVideo('qKgRbkCkRFY')"
   ]
  },
  {
   "cell_type": "code",
   "execution_count": null,
   "metadata": {},
   "outputs": [],
   "source": [
    "from tqdm import tqdm,trange\n",
    "import tqdm\n",
    "import time\n",
    "\n",
    "\n",
    "for j in trange(0,100, desc='load'):\n",
    "    time.sleep(0.01)"
   ]
  },
  {
   "cell_type": "code",
   "execution_count": null,
   "metadata": {},
   "outputs": [],
   "source": [
    "conda install -c conda-forge ipywidgets\n"
   ]
  },
  {
   "cell_type": "code",
   "execution_count": null,
   "metadata": {},
   "outputs": [],
   "source": []
  },
  {
   "cell_type": "code",
   "execution_count": null,
   "metadata": {},
   "outputs": [],
   "source": [
    "pip freeze\n",
    "sudo pip3 install opencv-python\n",
    "pip install opencv-python\n",
    "conda install -c conda-forge nb_conda\n",
    "conda update anaconda-navigator  \n",
    "conda update navigator-updater\n",
    "conda install -c conda-forge opencv\n",
    "conda install -c conda-forge/label/broken opencv\n",
    "conda install -c https://conda.binstar.org/menpo opencv"
   ]
  },
  {
   "cell_type": "code",
   "execution_count": null,
   "metadata": {},
   "outputs": [],
   "source": [
    "#install opencv ok\n",
    "#install cuda\n",
    "#install dlib\n",
    "#install face recog\n",
    "\n",
    "pip install face_recognition"
   ]
  },
  {
   "cell_type": "code",
   "execution_count": 15,
   "metadata": {},
   "outputs": [
    {
     "name": "stdout",
     "output_type": "stream",
     "text": [
      "Collecting face_recognition\n",
      "  Using cached face_recognition-1.3.0-py2.py3-none-any.whl (15 kB)\n",
      "Requirement already satisfied: face-recognition-models>=0.3.0 in /Users/romanpodoynitsyn/opt/anaconda3/lib/python3.7/site-packages (from face_recognition) (0.3.0)\n",
      "Collecting dlib>=19.7\n",
      "  Using cached dlib-19.19.0.tar.gz (3.2 MB)\n",
      "Requirement already satisfied: Pillow in /Users/romanpodoynitsyn/opt/anaconda3/lib/python3.7/site-packages (from face_recognition) (6.2.0)\n",
      "Requirement already satisfied: Click>=6.0 in /Users/romanpodoynitsyn/opt/anaconda3/lib/python3.7/site-packages (from face_recognition) (7.0)\n",
      "Requirement already satisfied: numpy in /Users/romanpodoynitsyn/opt/anaconda3/lib/python3.7/site-packages (from face_recognition) (1.17.2)\n",
      "Building wheels for collected packages: dlib\n",
      "  Building wheel for dlib (setup.py) ... \u001b[?25lerror\n",
      "\u001b[31m  ERROR: Command errored out with exit status 1:\n",
      "   command: /Users/romanpodoynitsyn/opt/anaconda3/bin/python -u -c 'import sys, setuptools, tokenize; sys.argv[0] = '\"'\"'/private/var/folders/kh/29kw_lzn6h5dc8v06gsqxf1m0000gn/T/pip-install-o4uqlbst/dlib/setup.py'\"'\"'; __file__='\"'\"'/private/var/folders/kh/29kw_lzn6h5dc8v06gsqxf1m0000gn/T/pip-install-o4uqlbst/dlib/setup.py'\"'\"';f=getattr(tokenize, '\"'\"'open'\"'\"', open)(__file__);code=f.read().replace('\"'\"'\\r\\n'\"'\"', '\"'\"'\\n'\"'\"');f.close();exec(compile(code, __file__, '\"'\"'exec'\"'\"'))' bdist_wheel -d /private/var/folders/kh/29kw_lzn6h5dc8v06gsqxf1m0000gn/T/pip-wheel-gmq2gfcw\n",
      "       cwd: /private/var/folders/kh/29kw_lzn6h5dc8v06gsqxf1m0000gn/T/pip-install-o4uqlbst/dlib/\n",
      "  Complete output (53 lines):\n",
      "  running bdist_wheel\n",
      "  running build\n",
      "  running build_py\n",
      "  package init file 'dlib/__init__.py' not found (or not a regular file)\n",
      "  running build_ext\n",
      "  Traceback (most recent call last):\n",
      "    File \"/private/var/folders/kh/29kw_lzn6h5dc8v06gsqxf1m0000gn/T/pip-install-o4uqlbst/dlib/setup.py\", line 120, in get_cmake_version\n",
      "      out = subprocess.check_output(['cmake', '--version'])\n",
      "    File \"/Users/romanpodoynitsyn/opt/anaconda3/lib/python3.7/subprocess.py\", line 395, in check_output\n",
      "      **kwargs).stdout\n",
      "    File \"/Users/romanpodoynitsyn/opt/anaconda3/lib/python3.7/subprocess.py\", line 472, in run\n",
      "      with Popen(*popenargs, **kwargs) as process:\n",
      "    File \"/Users/romanpodoynitsyn/opt/anaconda3/lib/python3.7/subprocess.py\", line 775, in __init__\n",
      "      restore_signals, start_new_session)\n",
      "    File \"/Users/romanpodoynitsyn/opt/anaconda3/lib/python3.7/subprocess.py\", line 1522, in _execute_child\n",
      "      raise child_exception_type(errno_num, err_msg, err_filename)\n",
      "  FileNotFoundError: [Errno 2] No such file or directory: 'cmake': 'cmake'\n",
      "  \n",
      "  During handling of the above exception, another exception occurred:\n",
      "  \n",
      "  Traceback (most recent call last):\n",
      "    File \"<string>\", line 1, in <module>\n",
      "    File \"/private/var/folders/kh/29kw_lzn6h5dc8v06gsqxf1m0000gn/T/pip-install-o4uqlbst/dlib/setup.py\", line 261, in <module>\n",
      "      'Topic :: Software Development',\n",
      "    File \"/Users/romanpodoynitsyn/opt/anaconda3/lib/python3.7/site-packages/setuptools/__init__.py\", line 145, in setup\n",
      "      return distutils.core.setup(**attrs)\n",
      "    File \"/Users/romanpodoynitsyn/opt/anaconda3/lib/python3.7/distutils/core.py\", line 148, in setup\n",
      "      dist.run_commands()\n",
      "    File \"/Users/romanpodoynitsyn/opt/anaconda3/lib/python3.7/distutils/dist.py\", line 966, in run_commands\n",
      "      self.run_command(cmd)\n",
      "    File \"/Users/romanpodoynitsyn/opt/anaconda3/lib/python3.7/distutils/dist.py\", line 985, in run_command\n",
      "      cmd_obj.run()\n",
      "    File \"/Users/romanpodoynitsyn/opt/anaconda3/lib/python3.7/site-packages/wheel/bdist_wheel.py\", line 192, in run\n",
      "      self.run_command('build')\n",
      "    File \"/Users/romanpodoynitsyn/opt/anaconda3/lib/python3.7/distutils/cmd.py\", line 313, in run_command\n",
      "      self.distribution.run_command(command)\n",
      "    File \"/Users/romanpodoynitsyn/opt/anaconda3/lib/python3.7/distutils/dist.py\", line 985, in run_command\n",
      "      cmd_obj.run()\n",
      "    File \"/Users/romanpodoynitsyn/opt/anaconda3/lib/python3.7/distutils/command/build.py\", line 135, in run\n",
      "      self.run_command(cmd_name)\n",
      "    File \"/Users/romanpodoynitsyn/opt/anaconda3/lib/python3.7/distutils/cmd.py\", line 313, in run_command\n",
      "      self.distribution.run_command(command)\n",
      "    File \"/Users/romanpodoynitsyn/opt/anaconda3/lib/python3.7/distutils/dist.py\", line 985, in run_command\n",
      "      cmd_obj.run()\n",
      "    File \"/private/var/folders/kh/29kw_lzn6h5dc8v06gsqxf1m0000gn/T/pip-install-o4uqlbst/dlib/setup.py\", line 129, in run\n",
      "      cmake_version = self.get_cmake_version()\n",
      "    File \"/private/var/folders/kh/29kw_lzn6h5dc8v06gsqxf1m0000gn/T/pip-install-o4uqlbst/dlib/setup.py\", line 125, in get_cmake_version\n",
      "      \"\\n*******************************************************************\\n\")\n",
      "  RuntimeError:\n",
      "  *******************************************************************\n",
      "   CMake must be installed to build the following extensions: dlib\n",
      "  *******************************************************************\n",
      "  \n",
      "  ----------------------------------------\u001b[0m\n",
      "\u001b[31m  ERROR: Failed building wheel for dlib\u001b[0m\n",
      "\u001b[?25h  Running setup.py clean for dlib\n",
      "Failed to build dlib\n",
      "Installing collected packages: dlib, face-recognition\n",
      "    Running setup.py install for dlib ... \u001b[?25lerror\n",
      "\u001b[31m    ERROR: Command errored out with exit status 1:\n",
      "     command: /Users/romanpodoynitsyn/opt/anaconda3/bin/python -u -c 'import sys, setuptools, tokenize; sys.argv[0] = '\"'\"'/private/var/folders/kh/29kw_lzn6h5dc8v06gsqxf1m0000gn/T/pip-install-o4uqlbst/dlib/setup.py'\"'\"'; __file__='\"'\"'/private/var/folders/kh/29kw_lzn6h5dc8v06gsqxf1m0000gn/T/pip-install-o4uqlbst/dlib/setup.py'\"'\"';f=getattr(tokenize, '\"'\"'open'\"'\"', open)(__file__);code=f.read().replace('\"'\"'\\r\\n'\"'\"', '\"'\"'\\n'\"'\"');f.close();exec(compile(code, __file__, '\"'\"'exec'\"'\"'))' install --record /private/var/folders/kh/29kw_lzn6h5dc8v06gsqxf1m0000gn/T/pip-record-q34x6a6p/install-record.txt --single-version-externally-managed --compile --install-headers /Users/romanpodoynitsyn/opt/anaconda3/include/python3.7m/dlib\n",
      "         cwd: /private/var/folders/kh/29kw_lzn6h5dc8v06gsqxf1m0000gn/T/pip-install-o4uqlbst/dlib/\n",
      "    Complete output (55 lines):\n",
      "    running install\n",
      "    running build\n",
      "    running build_py\n",
      "    package init file 'dlib/__init__.py' not found (or not a regular file)\n",
      "    running build_ext\n",
      "    Traceback (most recent call last):\n",
      "      File \"/private/var/folders/kh/29kw_lzn6h5dc8v06gsqxf1m0000gn/T/pip-install-o4uqlbst/dlib/setup.py\", line 120, in get_cmake_version\n",
      "        out = subprocess.check_output(['cmake', '--version'])\n",
      "      File \"/Users/romanpodoynitsyn/opt/anaconda3/lib/python3.7/subprocess.py\", line 395, in check_output\n",
      "        **kwargs).stdout\n",
      "      File \"/Users/romanpodoynitsyn/opt/anaconda3/lib/python3.7/subprocess.py\", line 472, in run\n",
      "        with Popen(*popenargs, **kwargs) as process:\n",
      "      File \"/Users/romanpodoynitsyn/opt/anaconda3/lib/python3.7/subprocess.py\", line 775, in __init__\n",
      "        restore_signals, start_new_session)\n",
      "      File \"/Users/romanpodoynitsyn/opt/anaconda3/lib/python3.7/subprocess.py\", line 1522, in _execute_child\n",
      "        raise child_exception_type(errno_num, err_msg, err_filename)\n",
      "    FileNotFoundError: [Errno 2] No such file or directory: 'cmake': 'cmake'\n",
      "    \n",
      "    During handling of the above exception, another exception occurred:\n",
      "    \n",
      "    Traceback (most recent call last):\n",
      "      File \"<string>\", line 1, in <module>\n",
      "      File \"/private/var/folders/kh/29kw_lzn6h5dc8v06gsqxf1m0000gn/T/pip-install-o4uqlbst/dlib/setup.py\", line 261, in <module>\n",
      "        'Topic :: Software Development',\n",
      "      File \"/Users/romanpodoynitsyn/opt/anaconda3/lib/python3.7/site-packages/setuptools/__init__.py\", line 145, in setup\n",
      "        return distutils.core.setup(**attrs)\n",
      "      File \"/Users/romanpodoynitsyn/opt/anaconda3/lib/python3.7/distutils/core.py\", line 148, in setup\n",
      "        dist.run_commands()\n",
      "      File \"/Users/romanpodoynitsyn/opt/anaconda3/lib/python3.7/distutils/dist.py\", line 966, in run_commands\n",
      "        self.run_command(cmd)\n",
      "      File \"/Users/romanpodoynitsyn/opt/anaconda3/lib/python3.7/distutils/dist.py\", line 985, in run_command\n",
      "        cmd_obj.run()\n",
      "      File \"/Users/romanpodoynitsyn/opt/anaconda3/lib/python3.7/site-packages/setuptools/command/install.py\", line 61, in run\n",
      "        return orig.install.run(self)\n",
      "      File \"/Users/romanpodoynitsyn/opt/anaconda3/lib/python3.7/distutils/command/install.py\", line 545, in run\n",
      "        self.run_command('build')\n",
      "      File \"/Users/romanpodoynitsyn/opt/anaconda3/lib/python3.7/distutils/cmd.py\", line 313, in run_command\n",
      "        self.distribution.run_command(command)\n",
      "      File \"/Users/romanpodoynitsyn/opt/anaconda3/lib/python3.7/distutils/dist.py\", line 985, in run_command\n",
      "        cmd_obj.run()\n",
      "      File \"/Users/romanpodoynitsyn/opt/anaconda3/lib/python3.7/distutils/command/build.py\", line 135, in run\n",
      "        self.run_command(cmd_name)\n",
      "      File \"/Users/romanpodoynitsyn/opt/anaconda3/lib/python3.7/distutils/cmd.py\", line 313, in run_command\n",
      "        self.distribution.run_command(command)\n",
      "      File \"/Users/romanpodoynitsyn/opt/anaconda3/lib/python3.7/distutils/dist.py\", line 985, in run_command\n",
      "        cmd_obj.run()\n",
      "      File \"/private/var/folders/kh/29kw_lzn6h5dc8v06gsqxf1m0000gn/T/pip-install-o4uqlbst/dlib/setup.py\", line 129, in run\n",
      "        cmake_version = self.get_cmake_version()\n",
      "      File \"/private/var/folders/kh/29kw_lzn6h5dc8v06gsqxf1m0000gn/T/pip-install-o4uqlbst/dlib/setup.py\", line 125, in get_cmake_version\n",
      "        \"\\n*******************************************************************\\n\")\n",
      "    RuntimeError:\n",
      "    *******************************************************************\n",
      "     CMake must be installed to build the following extensions: dlib\n",
      "    *******************************************************************\n",
      "    \n",
      "    ----------------------------------------\u001b[0m\n",
      "\u001b[31mERROR: Command errored out with exit status 1: /Users/romanpodoynitsyn/opt/anaconda3/bin/python -u -c 'import sys, setuptools, tokenize; sys.argv[0] = '\"'\"'/private/var/folders/kh/29kw_lzn6h5dc8v06gsqxf1m0000gn/T/pip-install-o4uqlbst/dlib/setup.py'\"'\"'; __file__='\"'\"'/private/var/folders/kh/29kw_lzn6h5dc8v06gsqxf1m0000gn/T/pip-install-o4uqlbst/dlib/setup.py'\"'\"';f=getattr(tokenize, '\"'\"'open'\"'\"', open)(__file__);code=f.read().replace('\"'\"'\\r\\n'\"'\"', '\"'\"'\\n'\"'\"');f.close();exec(compile(code, __file__, '\"'\"'exec'\"'\"'))' install --record /private/var/folders/kh/29kw_lzn6h5dc8v06gsqxf1m0000gn/T/pip-record-q34x6a6p/install-record.txt --single-version-externally-managed --compile --install-headers /Users/romanpodoynitsyn/opt/anaconda3/include/python3.7m/dlib Check the logs for full command output.\u001b[0m\n",
      "\u001b[?25hNote: you may need to restart the kernel to use updated packages.\n"
     ]
    }
   ],
   "source": [
    "pip install face_recognition"
   ]
  },
  {
   "cell_type": "code",
   "execution_count": null,
   "metadata": {},
   "outputs": [],
   "source": []
  }
 ],
 "metadata": {
  "kernelspec": {
   "display_name": "Python 3",
   "language": "python",
   "name": "python3"
  },
  "language_info": {
   "codemirror_mode": {
    "name": "ipython",
    "version": 3
   },
   "file_extension": ".py",
   "mimetype": "text/x-python",
   "name": "python",
   "nbconvert_exporter": "python",
   "pygments_lexer": "ipython3",
   "version": "3.7.4"
  }
 },
 "nbformat": 4,
 "nbformat_minor": 4
}
