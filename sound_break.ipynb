{
 "cells": [
  {
   "cell_type": "code",
   "execution_count": 13,
   "metadata": {},
   "outputs": [],
   "source": [
    "from gtts import gTTS\n",
    "import playsound"
   ]
  },
  {
   "cell_type": "code",
   "execution_count": null,
   "metadata": {},
   "outputs": [],
   "source": []
  },
  {
   "cell_type": "code",
   "execution_count": 14,
   "metadata": {},
   "outputs": [],
   "source": [
    "from gtts import gTTS\n",
    "import playsound\n",
    "\n",
    "def speak(text):\n",
    "    tts = gTTS(text=text, lang='en')\n",
    "    filename = '/Users/romanpodoynitsyn/voice.mp3'\n",
    "    tts.save(filename)\n",
    "    \n",
    "    playsound.playsound(filename)"
   ]
  },
  {
   "cell_type": "code",
   "execution_count": 19,
   "metadata": {},
   "outputs": [],
   "source": [
    "speak('skvidvart andrey')"
   ]
  },
  {
   "cell_type": "code",
   "execution_count": 20,
   "metadata": {},
   "outputs": [
    {
     "name": "stdout",
     "output_type": "stream",
     "text": [
      "Collecting optuna\n",
      "\u001b[?25l  Downloading https://files.pythonhosted.org/packages/85/ee/2688cce5ced0597e12832d1ec4f4383a468f6bddff768eeaa3b5bf4f6500/optuna-1.3.0.tar.gz (163kB)\n",
      "\u001b[K     |████████████████████████████████| 163kB 532kB/s eta 0:00:01\n",
      "\u001b[?25hCollecting alembic (from optuna)\n",
      "\u001b[?25l  Downloading https://files.pythonhosted.org/packages/60/1e/cabc75a189de0fbb2841d0975243e59bde8b7822bacbb95008ac6fe9ad47/alembic-1.4.2.tar.gz (1.1MB)\n",
      "\u001b[K     |████████████████████████████████| 1.1MB 5.8MB/s eta 0:00:01\n",
      "\u001b[?25h  Installing build dependencies ... \u001b[?25ldone\n",
      "\u001b[?25h  Getting requirements to build wheel ... \u001b[?25ldone\n",
      "\u001b[?25h    Preparing wheel metadata ... \u001b[?25ldone\n",
      "\u001b[?25hCollecting cliff (from optuna)\n",
      "\u001b[?25l  Downloading https://files.pythonhosted.org/packages/b9/17/57187872842bf9f65815b6969b515528ec7fd754137d2d3f49e3bc016175/cliff-3.1.0-py3-none-any.whl (80kB)\n",
      "\u001b[K     |████████████████████████████████| 81kB 3.6MB/s eta 0:00:01\n",
      "\u001b[?25hCollecting cmaes (from optuna)\n",
      "  Downloading https://files.pythonhosted.org/packages/03/de/6ed34ebc0e5c34ed371d898540bca36edb4afe5bb2ca382483054e573c75/cmaes-0.5.0-py3-none-any.whl\n",
      "Collecting colorlog (from optuna)\n",
      "  Downloading https://files.pythonhosted.org/packages/00/0d/22c73c2eccb21dd3498df7d22c0b1d4a30f5a5fb3feb64e1ce06bc247747/colorlog-4.1.0-py2.py3-none-any.whl\n",
      "Requirement already satisfied: joblib in /Users/romanpodoynitsyn/opt/anaconda3/lib/python3.7/site-packages (from optuna) (0.13.2)\n",
      "Requirement already satisfied: numpy in /Users/romanpodoynitsyn/opt/anaconda3/lib/python3.7/site-packages (from optuna) (1.17.2)\n",
      "Requirement already satisfied: scipy!=1.4.0 in /Users/romanpodoynitsyn/opt/anaconda3/lib/python3.7/site-packages (from optuna) (1.4.1)\n",
      "Requirement already satisfied: sqlalchemy>=1.1.0 in /Users/romanpodoynitsyn/opt/anaconda3/lib/python3.7/site-packages (from optuna) (1.3.9)\n",
      "Requirement already satisfied: tqdm in /Users/romanpodoynitsyn/opt/anaconda3/lib/python3.7/site-packages (from optuna) (4.36.1)\n",
      "Requirement already satisfied: python-dateutil in /Users/romanpodoynitsyn/opt/anaconda3/lib/python3.7/site-packages (from alembic->optuna) (2.8.0)\n",
      "Collecting Mako (from alembic->optuna)\n",
      "\u001b[?25l  Downloading https://files.pythonhosted.org/packages/50/78/f6ade1e18aebda570eed33b7c534378d9659351cadce2fcbc7b31be5f615/Mako-1.1.2-py2.py3-none-any.whl (75kB)\n",
      "\u001b[K     |████████████████████████████████| 81kB 6.0MB/s eta 0:00:01\n",
      "\u001b[?25hCollecting python-editor>=0.3 (from alembic->optuna)\n",
      "  Downloading https://files.pythonhosted.org/packages/c6/d3/201fc3abe391bbae6606e6f1d598c15d367033332bd54352b12f35513717/python_editor-1.0.4-py3-none-any.whl\n",
      "Requirement already satisfied: PyYAML>=3.12 in /Users/romanpodoynitsyn/opt/anaconda3/lib/python3.7/site-packages (from cliff->optuna) (5.1.2)\n",
      "Requirement already satisfied: pyparsing>=2.1.0 in /Users/romanpodoynitsyn/opt/anaconda3/lib/python3.7/site-packages (from cliff->optuna) (2.4.2)\n",
      "Requirement already satisfied: six>=1.10.0 in /Users/romanpodoynitsyn/opt/anaconda3/lib/python3.7/site-packages (from cliff->optuna) (1.12.0)\n",
      "Collecting stevedore>=1.20.0 (from cliff->optuna)\n",
      "\u001b[?25l  Downloading https://files.pythonhosted.org/packages/e6/49/a35dd566626892d577e426dbe5ea424dd7fbe10645f2c1070dcba474eca9/stevedore-1.32.0-py2.py3-none-any.whl (43kB)\n",
      "\u001b[K     |████████████████████████████████| 51kB 6.3MB/s eta 0:00:01\n",
      "\u001b[?25hCollecting PrettyTable<0.8,>=0.7.2 (from cliff->optuna)\n",
      "  Downloading https://files.pythonhosted.org/packages/ef/30/4b0746848746ed5941f052479e7c23d2b56d174b82f4fd34a25e389831f5/prettytable-0.7.2.tar.bz2\n",
      "Collecting pbr!=2.1.0,>=2.0.0 (from cliff->optuna)\n",
      "\u001b[?25l  Downloading https://files.pythonhosted.org/packages/96/ba/aa953a11ec014b23df057ecdbc922fdb40ca8463466b1193f3367d2711a6/pbr-5.4.5-py2.py3-none-any.whl (110kB)\n",
      "\u001b[K     |████████████████████████████████| 112kB 3.7MB/s eta 0:00:01\n",
      "\u001b[?25hCollecting cmd2!=0.8.3,<0.9.0,>=0.8.0 (from cliff->optuna)\n",
      "\u001b[?25l  Downloading https://files.pythonhosted.org/packages/e9/40/a71caa2aaff10c73612a7106e2d35f693e85b8cf6e37ab0774274bca3cf9/cmd2-0.8.9-py2.py3-none-any.whl (53kB)\n",
      "\u001b[K     |████████████████████████████████| 61kB 5.7MB/s eta 0:00:01\n",
      "\u001b[?25hRequirement already satisfied: MarkupSafe>=0.9.2 in /Users/romanpodoynitsyn/opt/anaconda3/lib/python3.7/site-packages (from Mako->alembic->optuna) (1.1.1)\n",
      "Collecting pyperclip (from cmd2!=0.8.3,<0.9.0,>=0.8.0->cliff->optuna)\n",
      "  Downloading https://files.pythonhosted.org/packages/f6/5b/55866e1cde0f86f5eec59dab5de8a66628cb0d53da74b8dbc15ad8dabda3/pyperclip-1.8.0.tar.gz\n",
      "Requirement already satisfied: wcwidth; sys_platform != \"win32\" in /Users/romanpodoynitsyn/opt/anaconda3/lib/python3.7/site-packages (from cmd2!=0.8.3,<0.9.0,>=0.8.0->cliff->optuna) (0.1.7)\n",
      "Building wheels for collected packages: alembic\n",
      "  Building wheel for alembic (PEP 517) ... \u001b[?25ldone\n",
      "\u001b[?25h  Created wheel for alembic: filename=alembic-1.4.2-cp37-none-any.whl size=159543 sha256=d7588dd921f2e5f66320340cf1932d9c935ff8bd6d95b8a14f1f509ab46a33cb\n",
      "  Stored in directory: /Users/romanpodoynitsyn/Library/Caches/pip/wheels/1f/04/83/76023f7a4c14688c0b5c2682a96392cfdd3ee4449eaaa287ef\n",
      "Successfully built alembic\n",
      "Building wheels for collected packages: optuna, PrettyTable, pyperclip\n",
      "  Building wheel for optuna (setup.py) ... \u001b[?25ldone\n",
      "\u001b[?25h  Created wheel for optuna: filename=optuna-1.3.0-cp37-none-any.whl size=221119 sha256=0a04b5dda2cb6fa9aef628b5b31ba909cd99dd331374ea52ae0cff2ae7727fb1\n",
      "  Stored in directory: /Users/romanpodoynitsyn/Library/Caches/pip/wheels/62/fd/dd/71cfd4cee14164152b952f477a16dac42ba413cfb1981585e4\n",
      "  Building wheel for PrettyTable (setup.py) ... \u001b[?25ldone\n",
      "\u001b[?25h  Created wheel for PrettyTable: filename=prettytable-0.7.2-cp37-none-any.whl size=13700 sha256=1b799fbc141c9224d7e3b1bbd394fb1edf2ff74fed9e4c427569682e60b175e0\n",
      "  Stored in directory: /Users/romanpodoynitsyn/Library/Caches/pip/wheels/80/34/1c/3967380d9676d162cb59513bd9dc862d0584e045a162095606\n",
      "  Building wheel for pyperclip (setup.py) ... \u001b[?25ldone\n",
      "\u001b[?25h  Created wheel for pyperclip: filename=pyperclip-1.8.0-cp37-none-any.whl size=8692 sha256=1cad8c215ce093694278bb5a5db3fa8b773f6dd453a694e09477828ead35804d\n",
      "  Stored in directory: /Users/romanpodoynitsyn/Library/Caches/pip/wheels/b2/ac/0a/b784f0afe26eaf52e88a7e15c7369090deea0354fa1c6fc689\n",
      "Successfully built optuna PrettyTable pyperclip\n",
      "Installing collected packages: Mako, python-editor, alembic, pbr, stevedore, PrettyTable, pyperclip, cmd2, cliff, cmaes, colorlog, optuna\n",
      "Successfully installed Mako-1.1.2 PrettyTable-0.7.2 alembic-1.4.2 cliff-3.1.0 cmaes-0.5.0 cmd2-0.8.9 colorlog-4.1.0 optuna-1.3.0 pbr-5.4.5 pyperclip-1.8.0 python-editor-1.0.4 stevedore-1.32.0\n",
      "Note: you may need to restart the kernel to use updated packages.\n"
     ]
    }
   ],
   "source": [
    "pip install optuna"
   ]
  },
  {
   "cell_type": "code",
   "execution_count": null,
   "metadata": {},
   "outputs": [],
   "source": []
  }
 ],
 "metadata": {
  "kernelspec": {
   "display_name": "Python 3",
   "language": "python",
   "name": "python3"
  },
  "language_info": {
   "codemirror_mode": {
    "name": "ipython",
    "version": 3
   },
   "file_extension": ".py",
   "mimetype": "text/x-python",
   "name": "python",
   "nbconvert_exporter": "python",
   "pygments_lexer": "ipython3",
   "version": "3.7.4"
  }
 },
 "nbformat": 4,
 "nbformat_minor": 4
}
