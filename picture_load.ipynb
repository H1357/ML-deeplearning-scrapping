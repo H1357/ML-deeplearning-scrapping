{
 "cells": [
  {
   "cell_type": "code",
   "execution_count": null,
   "metadata": {},
   "outputs": [],
   "source": [
    "dbase='workbase_9.db'\n",
    "from pprint import pprint  \n",
    "import requests  \n",
    "import sqlite3"
   ]
  },
  {
   "cell_type": "code",
   "execution_count": 98,
   "metadata": {},
   "outputs": [
    {
     "name": "stdout",
     "output_type": "stream",
     "text": [
      "Operation done successfully\n"
     ]
    }
   ],
   "source": [
    "import sqlite3\n",
    "\n",
    "\n",
    "id_api_list=()\n",
    "photo_100_list=()\n",
    "\n",
    "# Создаем соединение с нашей базой данных\n",
    "# В нашем примере у нас это просто файл базы\n",
    "conn = sqlite3.connect(dbase)\n",
    "\n",
    "# Создаем курсор - это специальный объект который делает запросы и получает их результаты\n",
    "cursor = conn.cursor()\n",
    "\n",
    "cursor = conn.execute(\"SELECT id_api, photo_max_orig from USERS\")\n",
    "\n",
    "results = cursor.fetchall()\n",
    "\n",
    "\n",
    "    \n",
    "print (\"Operation done successfully\")\n",
    "\n",
    "\n",
    "# Не забываем закрыть соединение с базой данных\n",
    "conn.close()"
   ]
  },
  {
   "cell_type": "code",
   "execution_count": 100,
   "metadata": {},
   "outputs": [
    {
     "name": "stdout",
     "output_type": "stream",
     "text": [
      "21161726\n",
      "'https://sun9-50.userapi.com/c836333/v836333001/31190/RMbqDaZJd-0.jpg?ava=1'\n",
      "[('1', 'https://sun9-50.userapi.com/c836333/v836333001/31190/RMbqDaZJd-0.jpg?ava=1'), ('2', 'https://sun9-38.userapi.com/c857420/v857420273/10f347/tx7FZ0esfYk.jpg?ava=1'), ('5', 'https://sun9-16.userapi.com/c846416/v846416135/197456/R6fC9Kkji5E.jpg?ava=1')]\n"
     ]
    }
   ],
   "source": [
    "print(len(results))\n",
    "pprint(results[0][1])\n",
    "print(results[0:3])"
   ]
  },
  {
   "cell_type": "code",
   "execution_count": null,
   "metadata": {},
   "outputs": [],
   "source": [
    "list_for_request=list()\n",
    "for ii in range(0,len(results)):\n",
    "    ss=results[ii][1]\n",
    "    if ss!='https://vk.com/images/camera_400.png?ava=1':\n",
    "        list_for_request.append(results[ii][0])\n",
    "print(len(list_for_request))"
   ]
  },
  {
   "cell_type": "code",
   "execution_count": null,
   "metadata": {},
   "outputs": [],
   "source": [
    "print(list_for_request[0:10])"
   ]
  },
  {
   "cell_type": "code",
   "execution_count": null,
   "metadata": {},
   "outputs": [],
   "source": []
  },
  {
   "cell_type": "code",
   "execution_count": null,
   "metadata": {},
   "outputs": [],
   "source": [
    "token = '74cc2fc574cc2fc574cc2fc51674bd0ddd774cc74cc2fc52a52f6d01cd4498f9b895e70'"
   ]
  },
  {
   "cell_type": "code",
   "execution_count": 104,
   "metadata": {},
   "outputs": [
    {
     "data": {
      "text/plain": [
       "1000"
      ]
     },
     "execution_count": 104,
     "metadata": {},
     "output_type": "execute_result"
    }
   ],
   "source": [
    "len(response_bucket)"
   ]
  },
  {
   "cell_type": "code",
   "execution_count": 102,
   "metadata": {},
   "outputs": [
    {
     "name": "stdout",
     "output_type": "stream",
     "text": [
      "'https://sun9-42.userapi.com/c836333/v836333001/31191/qC6rVW5YSD8.jpg?ava=1'\n"
     ]
    }
   ],
   "source": [
    "pprint(results[0][1])"
   ]
  },
  {
   "cell_type": "code",
   "execution_count": null,
   "metadata": {},
   "outputs": [],
   "source": [
    "print(\",\".join(map(str, list_for_request[k:k+multi])))"
   ]
  },
  {
   "cell_type": "code",
   "execution_count": null,
   "metadata": {},
   "outputs": [],
   "source": [
    "import requests, shutil, os\n",
    "my_path='/Users/romanpodoynitsyn/userfotobase/'\n",
    "\n",
    "\n",
    "\n",
    "for s in range(0,len(results)):    \n",
    "    #ss=adress_list[s]\n",
    "    ss=results[s][1]\n",
    "    if ss!='https://vk.com/images/camera_400.png?ava=1':\n",
    "\n",
    "        k=ss.rfind('?ava=1')\n",
    "        if k!=-1:    \n",
    "            ss=ss[0:k]\n",
    "\n",
    "            (dirname, filename) = os.path.split(ss)\n",
    "            r = requests.get(ss, stream=True)\n",
    "            if r.status_code == 200:\n",
    "\n",
    "                #uuid.uuid4()\n",
    "                #str(uuid.uuid4())\n",
    "                #uuid.uuid4().hex\n",
    "                newname=my_path+str(results[s][0])+'_'+'.jpg' \n",
    "                \n",
    "                with open(newname, 'wb') as f:\n",
    "                    r.raw.decode_content = True\n",
    "                    shutil.copyfileobj(r.raw, f)\n",
    "                    del r\n",
    "                    print(str(results[s][0]))"
   ]
  },
  {
   "cell_type": "code",
   "execution_count": null,
   "metadata": {},
   "outputs": [],
   "source": [
    "conda install -c conda-forge jupyternotify"
   ]
  },
  {
   "cell_type": "code",
   "execution_count": null,
   "metadata": {},
   "outputs": [],
   "source": [
    "import uuid\n",
    "uuid.uuid4()\n",
    "str(uuid.uuid4())\n",
    "uuid.uuid4().hex\n"
   ]
  },
  {
   "cell_type": "code",
   "execution_count": null,
   "metadata": {},
   "outputs": [],
   "source": [
    "print(s.rfind('9999'))\n",
    "print(len(s))"
   ]
  },
  {
   "cell_type": "code",
   "execution_count": null,
   "metadata": {},
   "outputs": [],
   "source": [
    "s1=s[0:68]"
   ]
  },
  {
   "cell_type": "code",
   "execution_count": null,
   "metadata": {},
   "outputs": [],
   "source": [
    "print(s1)"
   ]
  },
  {
   "cell_type": "code",
   "execution_count": null,
   "metadata": {},
   "outputs": [],
   "source": [
    "k=-2\n",
    "if k!=-1:\n",
    "    print('dd')"
   ]
  },
  {
   "cell_type": "code",
   "execution_count": 88,
   "metadata": {},
   "outputs": [],
   "source": [
    "import time\n",
    "import requests\n",
    "\n",
    "#miss_list=('deactivated', 'is_closed', 'can_access_closed','blacklisted,counters','photo_50,photo_200_orig', 'photo_200', 'photo_400_orig', 'photo_max', 'timezone', 'trendin', 'verified', 'wall_default')\n",
    "\n",
    "\n",
    "\n",
    "\n",
    "multi=500 #размер запроса\n",
    "\n",
    "response_bucket=list()\n",
    "\n",
    "for k in range(0,2): #количество запросов = порядковый номер юзера len(list_for_request)/multi\n",
    "        \n",
    "        url = 'https://api.vk.com/method/users.get' \n",
    "        token = '74cc2fc574cc2fc574cc2fc51674bd0ddd774cc74cc2fc52a52f6d01cd4498f9b895e70'\n",
    "        f='id, photo_200'  \n",
    "        ids = \",\".join(map(str, list_for_request[k*multi:(k+1)*multi]))\n",
    "\n",
    "        params = {'user_ids': ids, 'v': 5.103, 'fields': f, 'access_token': token, 'lang': 'ru'}  \n",
    "\n",
    "        response_vk=requests.get(url, params=params) \n",
    "        \n",
    "        response_v=response_vk.json()['response']\n",
    "        \n",
    "        response_bucket=response_bucket+response_v   \n",
    "        #print(response_v)\n",
    "        \n",
    "        #if k%1 ==0:\n",
    "            \n",
    "            "
   ]
  },
  {
   "cell_type": "code",
   "execution_count": 101,
   "metadata": {},
   "outputs": [
    {
     "name": "stdout",
     "output_type": "stream",
     "text": [
      "[[1, 'https://sun9-42.userapi.com/c836333/v836333001/31191/qC6rVW5YSD8.jpg?ava=1'], [2, 'https://sun9-25.userapi.com/c857420/v857420273/10f349/JB-o04j6C4Y.jpg?ava=1'], [5, 'https://sun9-66.userapi.com/c846416/v846416135/197457/FmfBmTiwTYY.jpg?ava=1']]\n"
     ]
    }
   ],
   "source": [
    "results=list()\n",
    "for i in range(0,len(response_bucket)):\n",
    "    temp=list()\n",
    "    temp.append(response_bucket[i]['id'])\n",
    "    temp.append(response_bucket[i]['photo_200'])\n",
    "    \n",
    "    results.append(temp)\n",
    "print(results[0:3])"
   ]
  },
  {
   "cell_type": "code",
   "execution_count": 105,
   "metadata": {},
   "outputs": [
    {
     "ename": "NameError",
     "evalue": "name 'dbase_friends' is not defined",
     "output_type": "error",
     "traceback": [
      "\u001b[0;31m---------------------------------------------------------------------------\u001b[0m",
      "\u001b[0;31mNameError\u001b[0m                                 Traceback (most recent call last)",
      "\u001b[0;32m<ipython-input-105-9e57c56211e2>\u001b[0m in \u001b[0;36m<module>\u001b[0;34m\u001b[0m\n\u001b[0;32m----> 1\u001b[0;31m \u001b[0mconn\u001b[0m \u001b[0;34m=\u001b[0m \u001b[0msqlite3\u001b[0m\u001b[0;34m.\u001b[0m\u001b[0mconnect\u001b[0m\u001b[0;34m(\u001b[0m\u001b[0mdbase_friends\u001b[0m\u001b[0;34m)\u001b[0m\u001b[0;34m\u001b[0m\u001b[0;34m\u001b[0m\u001b[0m\n\u001b[0m\u001b[1;32m      2\u001b[0m \u001b[0mprint\u001b[0m \u001b[0;34m(\u001b[0m\u001b[0;34m\"Opened database successfully\"\u001b[0m\u001b[0;34m)\u001b[0m\u001b[0;34m\u001b[0m\u001b[0;34m\u001b[0m\u001b[0m\n\u001b[1;32m      3\u001b[0m \u001b[0;34m\u001b[0m\u001b[0m\n\u001b[1;32m      4\u001b[0m conn.execute('''CREATE TABLE F\n\u001b[1;32m      5\u001b[0m          (\n",
      "\u001b[0;31mNameError\u001b[0m: name 'dbase_friends' is not defined"
     ]
    }
   ],
   "source": []
  },
  {
   "cell_type": "code",
   "execution_count": null,
   "metadata": {},
   "outputs": [],
   "source": []
  }
 ],
 "metadata": {
  "kernelspec": {
   "display_name": "Python 3",
   "language": "python",
   "name": "python3"
  },
  "language_info": {
   "codemirror_mode": {
    "name": "ipython",
    "version": 3
   },
   "file_extension": ".py",
   "mimetype": "text/x-python",
   "name": "python",
   "nbconvert_exporter": "python",
   "pygments_lexer": "ipython3",
   "version": "3.7.4"
  }
 },
 "nbformat": 4,
 "nbformat_minor": 4
}
