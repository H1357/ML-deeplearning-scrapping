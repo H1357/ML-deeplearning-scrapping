{
 "cells": [
  {
   "cell_type": "code",
   "execution_count": 39,
   "metadata": {},
   "outputs": [
    {
     "name": "stdout",
     "output_type": "stream",
     "text": [
      "Opened database successfully\n",
      "Table created successfully\n"
     ]
    }
   ],
   "source": [
    "import sqlite3\n",
    "\n",
    "conn = sqlite3.connect('test33.db')\n",
    "print (\"Opened database successfully\")\n",
    "\n",
    "conn.execute('''CREATE TABLE COMPAN\n",
    "         (\n",
    "         idvk, first_name, last_name, deactivated, is_closed, can_access_closed, about, activities, bdate, blacklisted, books, career, city, skype, facebook, twitter, livejournal, Instagram, contacts, mobile_phone, home_phone, counters, country, domain, education, followers_count, games, home_town, interests, last_seen, maiden_name, military, movies, music, nickname, occupation, personal, photo_50, photo_100, photo_200_orig, photo_200, photo_400_orig, photo_max, photo_max_orig, quotes, relatives, relation, schools, screen_name, sex, site, status, timezone, trendin, tv, universities, verified, university, university_name, faculty, faculty_name, chair_name, graduation, education_form, education_status, political, langs, religion, inspired_by, people_main, life_main, smoking, alcohol, city_name, country_name, university_name_, faculty_name_, graduation_, platform, last_time, relation_name,  occupation_type, occupation_place   TEXT    \n",
    "         \n",
    "         );''')\n",
    "print (\"Table created successfully\")\n",
    "\n",
    "#school_1_country, school_1_city, school_1_name, school_1_year_from, school_1_year_to, school_1_year_graduated, school_1_class, school_1_speciality, school_1_type_str, school_2_country, school_2_city, school_2_name, school_2_year_from, school_2_year_to, school_2_year_graduated, school_2_class, school_2_speciality, school_2_type_str,\n",
    "\n",
    "\n",
    "conn.close()"
   ]
  },
  {
   "cell_type": "code",
   "execution_count": 1,
   "metadata": {},
   "outputs": [
    {
     "name": "stdout",
     "output_type": "stream",
     "text": [
      "1000,1001,1002,1003,1004,1005,1006,1007,1008,1009\n",
      "200\n"
     ]
    }
   ],
   "source": [
    "from pprint import pprint  \n",
    "import requests  \n",
    " \n",
    "ids = \",\".join(map(str, range(1000,1010)))     \n",
    "    \n",
    "url = 'https://api.vk.com/method/users.get' \n",
    "token = '74cc2fc574cc2fc574cc2fc51674bd0ddd774cc74cc2fc52a52f6d01cd4498f9b895e70'\n",
    "f='id, first_name, last_name, deactivated, is_closed, can_access_closed, about, activities, bdate, blacklisted, books, career, city, skype, facebook, twitter, livejournal, Instagram, contacts, mobile_phone, home_phone, counters, country, domain, education, followers_count, games, home_town, interests, last_seen, maiden_name, military, movies, music, nickname, occupation, personal, photo_50, photo_100, photo_200_orig, photo_200, photo_400_orig, photo_max, photo_max_orig, quotes, relatives, relation, schools, screen_name, sex, site, status, timezone, trendin, tv, universities, verified, university, university_name, faculty, faculty_name, chair_name, graduation, education_form, education_status'\n",
    "\n",
    "print(ids)\n",
    "params = {'user_ids':ids, 'v': 5.103, 'fields': f, 'access_token': token, 'lang': 'ru'}  \n",
    "         \n",
    "response=requests.get(url, params=params) \n",
    "\n",
    "print(response.status_code)\n",
    "#print(response.text)\n",
    "response=response.json()['response']\n",
    "                  \n",
    "\n",
    "\n",
    "#user = response\n",
    "\n",
    "\n",
    "\n",
    "#pprint(user)"
   ]
  },
  {
   "cell_type": "code",
   "execution_count": 5,
   "metadata": {},
   "outputs": [
    {
     "data": {
      "text/plain": [
       "'https://sun9-5.userapi.com/c841226/v841226792/3ee4b/YKDv0dJEwL4.jpg?ava=1'"
      ]
     },
     "execution_count": 5,
     "metadata": {},
     "output_type": "execute_result"
    }
   ],
   "source": [
    "response[0]['photo_100']"
   ]
  },
  {
   "cell_type": "code",
   "execution_count": 78,
   "metadata": {},
   "outputs": [],
   "source": [
    "for i in range (0,len(response)):\n",
    "    if 'deactivated' in response[i]:\n",
    "        continue\n",
    "    else:\n",
    "        print(response[i])"
   ]
  },
  {
   "cell_type": "code",
   "execution_count": 17,
   "metadata": {},
   "outputs": [
    {
     "name": "stdout",
     "output_type": "stream",
     "text": [
      "<Response [200]>\n"
     ]
    },
    {
     "data": {
      "text/plain": [
       "requests.models.Response"
      ]
     },
     "execution_count": 17,
     "metadata": {},
     "output_type": "execute_result"
    }
   ],
   "source": [
    "print(response)\n",
    "type(response)\n",
    "#len(response)"
   ]
  },
  {
   "cell_type": "code",
   "execution_count": 89,
   "metadata": {},
   "outputs": [
    {
     "data": {
      "text/plain": [
       "29"
      ]
     },
     "execution_count": 89,
     "metadata": {},
     "output_type": "execute_result"
    }
   ],
   "source": [
    "len(response)"
   ]
  },
  {
   "cell_type": "code",
   "execution_count": 42,
   "metadata": {},
   "outputs": [],
   "source": [
    "def city_id (city_id):\n",
    "    url = 'https://api.vk.com/method/database.getCitiesById' \n",
    "    token = '72610ce872610ce872610ce82e72102ef07726172610ce82cfc64ea1fc8e05a475d5949'\n",
    "\n",
    "    params = {'city_ids':city_id,'v': 5.103,'access_token': token}  \n",
    "\n",
    "    response_city=requests.get(url, params=params) \n",
    "    response_city=response_city.json()['response']#['title']\n",
    "    X= response_city[0]['title']\n",
    "    if X =='':\n",
    "        X='NULL'\n",
    "    return X\n",
    "\n",
    "\n",
    "    url = 'https://api.vk.com/method/database.getCountriesById' \n",
    "    token = '72610ce872610ce872610ce82e72102ef07726172610ce82cfc64ea1fc8e05a475d5949'\n",
    "\n",
    "    params = {'city_ids':country_id,'v': 5.103,'access_token': token}  \n",
    "\n",
    "    response_country=requests.get(url, params=params) \n",
    "    response_country=response_country.json()#['response']#['title']\n",
    "    X= response_country\n",
    "    #if X =='':\n",
    "    #    X='NULL'\n",
    "    return X\n",
    "\n"
   ]
  },
  {
   "cell_type": "code",
   "execution_count": null,
   "metadata": {},
   "outputs": [],
   "source": [
    "city_id (16)\n",
    "#country_id(88)"
   ]
  },
  {
   "cell_type": "code",
   "execution_count": 43,
   "metadata": {},
   "outputs": [
    {
     "data": {
      "text/plain": [
       "[{'id': 5432810,\n",
       "  'title': 'Aa',\n",
       "  'area': 'Lüganuse vald',\n",
       "  'region': 'Ida-Viru maakond'},\n",
       " {'id': 5437597,\n",
       "  'title': 'Aabra',\n",
       "  'area': 'Rõuge vald',\n",
       "  'region': 'Võru maakond'},\n",
       " {'id': 5436389,\n",
       "  'title': 'Aadami',\n",
       "  'area': 'Haaslava vald',\n",
       "  'region': 'Tartu maakond'}]"
      ]
     },
     "execution_count": 43,
     "metadata": {},
     "output_type": "execute_result"
    }
   ],
   "source": [
    "def city_list_for_country(id_country):  \n",
    "    url = 'https://api.vk.com/method/database.getCities' \n",
    "    token = '72610ce872610ce872610ce82e72102ef07726172610ce82cfc64ea1fc8e05a475d5949'\n",
    "\n",
    "    params = {'need_all': 1,'country_id':id_country,'v': 5.103,'access_token': token}  \n",
    "\n",
    "    response_city=requests.get(url, params=params) \n",
    "    response_city=response_city.json()['response']['items']\n",
    "    return response_city\n",
    "city_list_for_country(14)[0:3]"
   ]
  },
  {
   "cell_type": "code",
   "execution_count": null,
   "metadata": {},
   "outputs": [],
   "source": []
  },
  {
   "cell_type": "code",
   "execution_count": null,
   "metadata": {},
   "outputs": [],
   "source": []
  },
  {
   "cell_type": "code",
   "execution_count": null,
   "metadata": {},
   "outputs": [],
   "source": []
  },
  {
   "cell_type": "code",
   "execution_count": 44,
   "metadata": {},
   "outputs": [
    {
     "name": "stdout",
     "output_type": "stream",
     "text": [
      "{'id': 30, 'title': 'Afghanistan'}\n"
     ]
    },
    {
     "data": {
      "text/plain": [
       "'Afghanistan'"
      ]
     },
     "execution_count": 44,
     "metadata": {},
     "output_type": "execute_result"
    }
   ],
   "source": [
    "# создание функции country_id \n",
    "\n",
    "url = 'https://api.vk.com/method/database.getCountries' \n",
    "token = '72610ce872610ce872610ce82e72102ef07726172610ce82cfc64ea1fc8e05a475d5949'\n",
    "\n",
    "params = {'need_all': 1,'v': 5.103,'access_token': token, 'count':1000}  \n",
    "\n",
    "response_county=requests.get(url, params=params) \n",
    "response_county=response_county.json()['response']#['title']\n",
    "pprint(response_county['items'][0])\n",
    "\n",
    "country_dict={}\n",
    "for i in range(0,234):\n",
    "    country_dict[response_county['items'][i]['id']]=response_county['items'][i]['title']\n",
    "\n",
    "def country_id (country_id):\n",
    "    return country_dict[country_id]\n",
    "\n",
    "country_id (30)"
   ]
  },
  {
   "cell_type": "code",
   "execution_count": 45,
   "metadata": {},
   "outputs": [],
   "source": [
    "len(response_county['items'])\n",
    "country_dict={}\n",
    "for i in range(0,234):\n",
    "    country_dict[response_county['items'][i]['id']]=response_county['items'][i]['title']"
   ]
  },
  {
   "cell_type": "code",
   "execution_count": 46,
   "metadata": {},
   "outputs": [
    {
     "data": {
      "text/plain": [
       "'Italy'"
      ]
     },
     "execution_count": 46,
     "metadata": {},
     "output_type": "execute_result"
    }
   ],
   "source": [
    "def country_id (country_id):\n",
    "    return country_dict[country_id]\n",
    "\n",
    "country_id (88)"
   ]
  },
  {
   "cell_type": "code",
   "execution_count": null,
   "metadata": {},
   "outputs": [],
   "source": [
    "\n",
    "    "
   ]
  },
  {
   "cell_type": "code",
   "execution_count": null,
   "metadata": {},
   "outputs": [],
   "source": []
  },
  {
   "cell_type": "code",
   "execution_count": null,
   "metadata": {},
   "outputs": [],
   "source": [
    "d = {a: a ** 2 for a in range(7)}\n",
    "\n",
    "print(d)"
   ]
  },
  {
   "cell_type": "code",
   "execution_count": 69,
   "metadata": {},
   "outputs": [],
   "source": [
    "education_=['university_name', 'faculty_name', 'graduation']\n",
    "education_NULL=['NULL','NULL','NULL']\n",
    "\n",
    "personal_ = ['political','langs','religion','inspired_by','people_main','life_main','smoking','alcohol']\n",
    "personal_NULL=['NULL','NULL','NULL','NULL','NULL','NULL','NULL','NULL']\n",
    "\n",
    "occupation_=['type','name']\n",
    "occupation_NULL=['NULL','NULL']\n",
    "\n",
    "school_=['country','city','name','year_from','year_to','year_graduated','class','speciality','type_str']\n",
    "school_NULL=['NULL','NULL','NULL','NULL','NULL','NULL','NULL','NULL','NULL']\n",
    "\n",
    "political_dict={'0' : 'NULL',\n",
    "    '1' : 'коммунистические',\n",
    "'2' : 'социалистические',\n",
    "'3' : 'умеренные',\n",
    "'4' : 'либеральные',\n",
    "'5' : 'консервативные',\n",
    "'6' : 'монархические',\n",
    "'7' : 'ультраконсервативные',\n",
    "'8' : 'индифферентные',\n",
    "'9' : 'либертарианские'}\n",
    "\n",
    "people_main_dict={'0' : 'NULL',\n",
    "                  '1' : 'ум и креативность',\n",
    "'2' : 'доброта и честность',\n",
    "'3' : 'красота и здоровье',\n",
    "'4' : 'власть и богатство',\n",
    "'5' : 'смелость и упорство',\n",
    "'6' : 'юмор и жизнелюбие'\n",
    "}\n",
    "\n",
    "life_main_dict={'0' : 'NULL',\n",
    "                '1':'семья и дети',\n",
    "'2':'карьера и деньги',\n",
    "'3':'развлечения и отдых',\n",
    "'4':'наука и исследования',\n",
    "'5':'совершенствование мира',\n",
    "'6':'саморазвитие',\n",
    "'7':'красота и искусство',\n",
    "'8':'слава и влияние'}\n",
    "\n",
    "smoking_dict={'0' : 'NULL',\n",
    "'1' :'резко негативное',\n",
    "'2' : 'негативное',\n",
    "'3' : 'компромиссное',\n",
    "'4' : 'нейтральное',\n",
    "'5' : 'положительное'}\n",
    "alcohol_dict={'0' : 'NULL',\n",
    "'1' :'резко негативное',\n",
    "'2' : 'негативное',\n",
    "'3' : 'компромиссное',\n",
    "'4' : 'нейтральное',\n",
    "'5' : 'положительное'}\n",
    "\n",
    "platform_dict={\n",
    "'1':  'мобильная версия',\n",
    "'2':  'приложение для iPhone',\n",
    "'3':  'приложение для iPad',\n",
    "'4':  'приложение для Android',\n",
    "'5':  'приложение для Windows Phone',\n",
    "'6':  'приложение для Windows 10',\n",
    "'7':  'полная версия сайта',\n",
    "}\n",
    "\n",
    "\n",
    "relation_dict={ \n",
    "'1' : 'не женат/не замужем',\n",
    "'2' : 'есть друг/есть подруга',\n",
    "'3' : 'помолвлен/помолвлена',\n",
    "'4' : 'женат/замужем',\n",
    "'5' : 'всё сложно',\n",
    "'6' : 'в активном поиске',\n",
    "'7' : 'влюблён/влюблена',\n",
    "'8' : 'в гражданском браке',\n",
    "'0' : 'NULL'}\n",
    "\n",
    "\n",
    "def personal_result_funk (user):\n",
    "\n",
    "    personal_result=list()\n",
    "\n",
    "    if 'personal' in user:\n",
    "        personallist=user['personal']\n",
    "\n",
    "        for X in personal_:\n",
    "            if X in personallist:\n",
    "                if (X=='political' and personallist[X] in political_dict.keys()):\n",
    "                    personal_result.append(political_dict[str(personallist[X])])\n",
    "                    continue\n",
    "                if (X=='people_main' and personallist[X] in people_main_dict.keys()):\n",
    "                    personal_result.append(people_main_dict[str(personallist[X])])\n",
    "                    continue\n",
    "                if (X=='life_main' and personallist[X] in life_main_dict.keys()):\n",
    "                    personal_result.append(life_main_dict[str(personallist[X])])\n",
    "                    continue\n",
    "                if (X=='smoking' and personallist[X] in smoking_dict.keys()):              \n",
    "                    personal_result.append(smoking_dict[str(personallist[X])])\n",
    "                    continue\n",
    "                if (X=='alcohol' and personallist[X] in alcohol_dict.keys()):\n",
    "                    personal_result.append(alcohol_dict[str(personallist[X])])\n",
    "                    continue\n",
    "                else:\n",
    "                    personal_result.append(str(personallist[X]))\n",
    "               # print('yes')\n",
    "            else:\n",
    "                personal_result.append('NULL')\n",
    "                \n",
    "                \n",
    "    else: \n",
    "        personal_result=personal_result+personal_NULL\n",
    "    return personal_result\n",
    "\n",
    "\n",
    "def education_funk (user):\n",
    "\n",
    "    _result=list()\n",
    "\n",
    "    if 'education' in user:\n",
    "        educationlist=user['education']\n",
    "\n",
    "        for X in education_:\n",
    "            if X in educationlist:\n",
    "                _result.append(str(educationlist[X]))\n",
    "                         \n",
    "            else:\n",
    "                _result.append('NULL')\n",
    "                \n",
    "                \n",
    "    else: \n",
    "        _result=_result+education_NULL\n",
    "    return _result\n",
    "\n",
    "def occupation_funk (user):\n",
    "\n",
    "    _result=list()\n",
    "\n",
    "    if 'occupation' in user:\n",
    "        occupationlist=user['occupation']\n",
    "\n",
    "        for X in occupation_:\n",
    "            if X in occupationlist:\n",
    "                _result.append(str(occupationlist[X]))\n",
    "                         \n",
    "            else:\n",
    "                _result.append('NULL')\n",
    "                \n",
    "                \n",
    "    else: \n",
    "        _result=_result+occupation_NULL\n",
    "    return _result\n",
    "\n",
    "def city_funk (user):\n",
    "    if 'city' in user:\n",
    "        city_result=user['city']['title']\n",
    "        \n",
    "    else:\n",
    "        city_result='NULL'\n",
    "    return str(city_result)\n",
    "\n",
    "def country_funk (user):\n",
    "    if 'country' in user:\n",
    "        result=user['country']['title']\n",
    "        \n",
    "    else:\n",
    "        result='NULL'\n",
    "    return str(result)\n",
    "\n",
    "\n",
    "import datetime\n",
    "\n",
    "def last_seen_funk (user):\n",
    "    time_result=list()\n",
    "    if 'last_seen' in user:    \n",
    "        if 'platform' in user['last_seen']:\n",
    "            time_result.append(platform_dict[str(user['last_seen']['platform'])])\n",
    "        else:\n",
    "            time_result.append('NULL')\n",
    "        if 'time' in user['last_seen']:\n",
    "        \n",
    "            time_seen=datetime.datetime.fromtimestamp(user['last_seen']['time'])\n",
    "            time_result.append(time_seen.strftime('%Y-%m-%d %H:%M:%S'))\n",
    "        else:\n",
    "            time_result.append('NULL')\n",
    "    else:\n",
    "        time_result.append('NULL')\n",
    "        time_result.append('NULL')\n",
    "    return time_result\n",
    "\n",
    "def relation_funk (user):\n",
    "   \n",
    "    if ('relation' in user and user['relation'] in relation_dict.keys()) :    \n",
    "      \n",
    "        _result=relation_dict[str(user['relation'])]\n",
    "      \n",
    "    else:\n",
    "        _result=relation_dict['0']\n",
    "       \n",
    "    return _result\n",
    "\n",
    "\n",
    "\n",
    "def school_funk (user):\n",
    "\n",
    "    _result_1=list()\n",
    "   \n",
    "\n",
    "    if 'schools' in user:\n",
    "        school_that=user['schools']\n",
    "        \n",
    "        if len(school_that)>1:\n",
    "            for i in range(0,len(school_that)):\n",
    "\n",
    "                school_that_that=school_that[i]\n",
    "                _result_2=list()\n",
    "\n",
    "                for X in school_:\n",
    "                    if X in school_that_that:\n",
    "                        if X=='city':\n",
    "                            _result_2.append(city_id(str(school_that_that[X])))\n",
    "                            #print(1, X,'___',city_id(str(school_that_that[X])))\n",
    "                        if X=='country':\n",
    "                            _result_2.append(country_id(school_that_that[X]))\n",
    "                            #print(2, X,'___',country_id(school_that_that[X]))\n",
    "                        if ((X!= 'country') and (X!='city')):\n",
    "                            _result_2.append(str(school_that_that[X]))\n",
    "                            #print(3, X,'___',school_that_that[X])\n",
    "\n",
    "                    else:\n",
    "                        _result_2.append('NULL')\n",
    "                        #print(4, X,'___','NULL')\n",
    "                _result_1.append(_result_2)\n",
    "        \n",
    "        if len(school_that)==1:\n",
    "            school_that_that=school_that[0]\n",
    "            _result_2=list()\n",
    "\n",
    "            for X in school_:\n",
    "                if X in school_that_that:\n",
    "                    _result_2.append(str(school_that_that[X]))\n",
    "                    #print(5, X,'___',school_that_that[X])\n",
    "                else:\n",
    "                    _result_2.append('NULL')\n",
    "                    #print(6, X,'___','NULL')\n",
    "            _result_1.append(_result_2)\n",
    "            _result_1.append(school_NULL)\n",
    "        if len(school_that)==0:\n",
    "            _result_1.append(school_NULL)\n",
    "            _result_1.append(school_NULL)\n",
    "        \n",
    "    else: \n",
    "        _result_1.append(school_NULL)\n",
    "        _result_1.append(school_NULL)\n",
    "    return _result_1\n",
    "\n",
    "#не работает!\n",
    "def replace_city_country (user):\n",
    "    if len(user)==1:\n",
    "        if 'country_id' in user:\n",
    "            user['country_id']=country_id(user['country_id'])\n",
    "        if 'city_id' in user:\n",
    "            user['city_id']=city_id(user['city_id'])\n",
    "        return user\n",
    "    \n",
    "    if len(user)>1:\n",
    "        \n",
    "        if ('country_id' or 'city_id') in user:\n",
    "            if 'country_id' in user:\n",
    "                user['country_id']=country_id(user['country_id'])\n",
    "            if 'city_id' in user:\n",
    "                user['city_id']=city_id(user['city_id'])\n",
    "            return user\n",
    "        else:\n",
    "            for i in range(0,len(user)):    \n",
    "                replace_city_country (user[i])\n",
    "            \n",
    "    if len(user)==0:\n",
    "        return 'NULL'\n"
   ]
  },
  {
   "cell_type": "code",
   "execution_count": null,
   "metadata": {},
   "outputs": [],
   "source": [
    "for i in range(0,2):\n",
    "    print(i)"
   ]
  },
  {
   "cell_type": "code",
   "execution_count": null,
   "metadata": {},
   "outputs": [],
   "source": [
    "print(response[0]['schools'])"
   ]
  },
  {
   "cell_type": "code",
   "execution_count": null,
   "metadata": {},
   "outputs": [],
   "source": [
    "print(school_funk(response[0]))\n",
    "#print(XXX_funk(response[0]))"
   ]
  },
  {
   "cell_type": "code",
   "execution_count": null,
   "metadata": {},
   "outputs": [],
   "source": [
    "for i in range (0,30):\n",
    "    if 'occupation' in response[i]:\n",
    "        print(response[i]['occupation'])\n",
    "        \n",
    "#response[1]['occupation']"
   ]
  },
  {
   "cell_type": "code",
   "execution_count": 90,
   "metadata": {},
   "outputs": [],
   "source": [
    "L=f.split(', ')\n",
    "LLx=list()\n",
    "\n",
    "def robot(response):\n",
    "    for ii in range(0,len(response)):\n",
    "        LL=list()\n",
    "        user = response[ii]\n",
    "        if 'deactivated' in user:\n",
    "            continue\n",
    "        print(ii)\n",
    "        print(LL)\n",
    "        \n",
    "        for X in L:\n",
    "            if X in user:\n",
    "                LL.append(str(user[X]))\n",
    "               # print('yes')\n",
    "            else:\n",
    "                LL.append('NULL')\n",
    "                #print('no')\n",
    "\n",
    "\n",
    "        #print(ii, school_funk (user)[0],school_funk (user)[1])\n",
    "\n",
    "        LL=LL+personal_result_funk (user)\n",
    "        LL.append(city_funk(user))\n",
    "        LL.append(country_funk(user))\n",
    "        LL=LL+education_funk(user)\n",
    "        LL=LL+last_seen_funk(user)\n",
    "        LL.append(relation_funk(user))\n",
    "\n",
    "        \n",
    "       # LL=LL+school_funk (user)[0]\n",
    "        #LL=LL+school_funk (user)[1]\n",
    "        LL=LL+occupation_funk(user)\n",
    "\n",
    "        LLx.append(LL)\n",
    "\n",
    "    LLL=tuple(LLx)\n",
    "    return LLL\n",
    "\n",
    "LLL = robot(response)"
   ]
  },
  {
   "cell_type": "code",
   "execution_count": 84,
   "metadata": {},
   "outputs": [
    {
     "data": {
      "text/plain": [
       "'либертарианские'"
      ]
     },
     "execution_count": 84,
     "metadata": {},
     "output_type": "execute_result"
    }
   ],
   "source": [
    "political_dict[str(9)]"
   ]
  },
  {
   "cell_type": "code",
   "execution_count": 86,
   "metadata": {},
   "outputs": [
    {
     "name": "stdout",
     "output_type": "stream",
     "text": [
      "[]\n"
     ]
    }
   ],
   "source": [
    "print(LLx)"
   ]
  },
  {
   "cell_type": "code",
   "execution_count": null,
   "metadata": {},
   "outputs": [],
   "source": []
  },
  {
   "cell_type": "code",
   "execution_count": null,
   "metadata": {},
   "outputs": [],
   "source": [
    "for i in range (1,1):       \n",
    "    print(i)"
   ]
  },
  {
   "cell_type": "code",
   "execution_count": null,
   "metadata": {},
   "outputs": [],
   "source": [
    "ek=response[0]\n",
    "\n",
    "#if 'schools' in ek:\n",
    "#    print(ek['schools'])\n",
    "\n",
    "print(school_funk (ek)[0],school_funk (ek)[1])\n",
    "\n",
    "#print(len(ek['schools']))\n",
    "#print(ek['schools'][0])\n",
    "#print(ek['schools'][1])\n"
   ]
  },
  {
   "cell_type": "code",
   "execution_count": null,
   "metadata": {},
   "outputs": [],
   "source": [
    "for i in range (0,100):\n",
    "    u=response[i]\n",
    "    if 'schools' in u:\n",
    "        \n",
    "        print(len(school_funk(u)[0]),'___',len(u['schools']))"
   ]
  },
  {
   "cell_type": "code",
   "execution_count": null,
   "metadata": {},
   "outputs": [],
   "source": [
    "  "
   ]
  },
  {
   "cell_type": "code",
   "execution_count": null,
   "metadata": {},
   "outputs": [],
   "source": []
  },
  {
   "cell_type": "code",
   "execution_count": null,
   "metadata": {},
   "outputs": [],
   "source": [
    "#LLL=tuple([LLx[0],LLx[1],LLx[2],LLx[3],LLx[4]])\n"
   ]
  },
  {
   "cell_type": "code",
   "execution_count": null,
   "metadata": {},
   "outputs": [],
   "source": [
    "for i in range(0,10):\n",
    "    print(len(LLx[i]))"
   ]
  },
  {
   "cell_type": "code",
   "execution_count": null,
   "metadata": {},
   "outputs": [],
   "source": [
    "type(LLL)"
   ]
  },
  {
   "cell_type": "code",
   "execution_count": null,
   "metadata": {},
   "outputs": [],
   "source": [
    "len(LLL)"
   ]
  },
  {
   "cell_type": "code",
   "execution_count": 56,
   "metadata": {},
   "outputs": [
    {
     "name": "stdout",
     "output_type": "stream",
     "text": [
      "Opened database successfully\n",
      "Records created successfully\n"
     ]
    }
   ],
   "source": [
    "\n",
    "\n",
    "conn = sqlite3.connect('test33.db')\n",
    "print (\"Opened database successfully\")\n",
    "cursor = conn.cursor()\n",
    "\n",
    "\n",
    "cursor.executemany(\"INSERT INTO COMPAN VALUES (?,?,?,?,?,?,?,?,?,?,?,?,?,?,?,?,?,?,?,?,?,?,?,?,?,?,?,?,?,?,?,?,?,?,?,?,?,?,?,?,?,?,?,?,?,?,?,?,?,?,?,?,?,?,?,?,?,?,?,?,?,?,?,?,?,?,?,?,?,?,?,?,?,?,?,?,?,?,?,?,?,?,?)\", LLL)\n",
    "\n",
    "\n",
    "\n",
    "conn.commit()\n",
    "print (\"Records created successfully\")\n",
    "conn.close()"
   ]
  },
  {
   "cell_type": "code",
   "execution_count": null,
   "metadata": {},
   "outputs": [],
   "source": [
    "user = response.json()['response'][3]\n",
    "pprint(user)"
   ]
  },
  {
   "cell_type": "code",
   "execution_count": null,
   "metadata": {},
   "outputs": [],
   "source": [
    "gg='idvk, first_name, last_name, deactivated, is_closed, can_access_closed, about, activities, bdate, blacklisted, books, career, city, skype, facebook, twitter, livejournal, Instagram, contacts, mobile_phone, home_phone, counters, country, domain, education, followers_count, games, home_town, interests, last_seen, maiden_name, military, movies, music, nickname, occupation, personal, photo_50, photo_100, photo_200_orig, photo_200, photo_400_orig, photo_max, photo_max_orig, quotes, relatives, relation, schools, screen_name, sex, site, status, timezone, trendin, tv, universities, verified, university, university_name, faculty, faculty_name, chair_name, graduation, education_form, education_status, political, langs, religion, inspired_by, people_main, life_main, smoking, alcohol, city_name, country_name, university_name_, faculty_name_, graduation_, platform, last_time, relation_name, school_1_country, school_1_city, school_1_name, school_1_year_from, school_1_year_to, school_1_year_graduated, school_1_class, school_1_speciality, school_1_type_str, school_2_country, school_2_city, school_2_name, school_2_year_from, school_2_year_to, school_2_year_graduated, school_2_class, school_2_speciality, school_2_type_str'    \n",
    "GG=gg.split(',')              "
   ]
  },
  {
   "cell_type": "code",
   "execution_count": null,
   "metadata": {},
   "outputs": [],
   "source": [
    "len(GG)"
   ]
  },
  {
   "cell_type": "code",
   "execution_count": null,
   "metadata": {},
   "outputs": [],
   "source": [
    "for i in range (0,100):\n",
    "    \n",
    "    print(len(LLx[0][i]))\n"
   ]
  },
  {
   "cell_type": "code",
   "execution_count": null,
   "metadata": {},
   "outputs": [],
   "source": [
    "for i in range (0,100):\n",
    "    print(LLx[0][i],'___',GG[i])"
   ]
  },
  {
   "cell_type": "code",
   "execution_count": null,
   "metadata": {},
   "outputs": [],
   "source": []
  }
 ],
 "metadata": {
  "kernelspec": {
   "display_name": "Python 3",
   "language": "python",
   "name": "python3"
  },
  "language_info": {
   "codemirror_mode": {
    "name": "ipython",
    "version": 3
   },
   "file_extension": ".py",
   "mimetype": "text/x-python",
   "name": "python",
   "nbconvert_exporter": "python",
   "pygments_lexer": "ipython3",
   "version": "3.7.4"
  }
 },
 "nbformat": 4,
 "nbformat_minor": 4
}
