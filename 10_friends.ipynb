{
 "cells": [
  {
   "cell_type": "code",
   "execution_count": 1,
   "metadata": {},
   "outputs": [],
   "source": [
    "dbase_friends='/Users/romanpodoynitsyn/workbase/work/workbase_friends_10.db'\n",
    "dbase='/Users/romanpodoynitsyn/workbase/work/workbase_10.db'\n",
    "from pprint import pprint  \n",
    "import requests  \n",
    "import sqlite3\n",
    "import time\n"
   ]
  },
  {
   "cell_type": "code",
   "execution_count": 2,
   "metadata": {},
   "outputs": [
    {
     "name": "stdout",
     "output_type": "stream",
     "text": [
      "Operation done successfully\n"
     ]
    }
   ],
   "source": [
    "import sqlite3\n",
    "\n",
    "\n",
    "id_api_list=()\n",
    "\n",
    "# Создаем соединение с нашей базой данных\n",
    "# В нашем примере у нас это просто файл базы\n",
    "conn = sqlite3.connect(dbase)\n",
    "\n",
    "# Создаем курсор - это специальный объект который делает запросы и получает их результаты\n",
    "cursor = conn.cursor()\n",
    "\n",
    "cursor = conn.execute(\"SELECT id_api from USERS\")\n",
    "\n",
    "results = cursor.fetchall()\n",
    "    \n",
    "print (\"Operation done successfully\")\n",
    "\n",
    "\n",
    "# Не забываем закрыть соединение с базой данных\n",
    "conn.close()"
   ]
  },
  {
   "cell_type": "code",
   "execution_count": 4,
   "metadata": {},
   "outputs": [
    {
     "name": "stdout",
     "output_type": "stream",
     "text": [
      "28768703\n",
      "[('100000671',), ('100000673',), ('100000676',)]\n"
     ]
    }
   ],
   "source": [
    "print(len(results))\n",
    "#pprint(results[0][1])\n",
    "print(results[0:3])"
   ]
  },
  {
   "cell_type": "code",
   "execution_count": 5,
   "metadata": {},
   "outputs": [
    {
     "name": "stdout",
     "output_type": "stream",
     "text": [
      "28768703\n"
     ]
    }
   ],
   "source": [
    "list_for_request=list()\n",
    "try:\n",
    "    for ii in range(0,len(results)):\n",
    "        list_for_request.append(results[ii][0])\n",
    "except:\n",
    "    print('error___',ii, '____',results[ii][0])\n",
    "print(len(list_for_request))\n",
    "#print(list_for_request)"
   ]
  },
  {
   "cell_type": "code",
   "execution_count": 7,
   "metadata": {},
   "outputs": [
    {
     "ename": "ValueError",
     "evalue": "'7457041' is not in list",
     "output_type": "error",
     "traceback": [
      "\u001b[0;31m---------------------------------------------------------------------------\u001b[0m",
      "\u001b[0;31mValueError\u001b[0m                                Traceback (most recent call last)",
      "\u001b[0;32m<ipython-input-7-d42a6305ed7f>\u001b[0m in \u001b[0;36m<module>\u001b[0;34m\u001b[0m\n\u001b[0;32m----> 1\u001b[0;31m \u001b[0mlist_for_request\u001b[0m\u001b[0;34m.\u001b[0m\u001b[0mindex\u001b[0m\u001b[0;34m(\u001b[0m\u001b[0;34m'7457041'\u001b[0m\u001b[0;34m)\u001b[0m\u001b[0;34m\u001b[0m\u001b[0;34m\u001b[0m\u001b[0m\n\u001b[0m",
      "\u001b[0;31mValueError\u001b[0m: '7457041' is not in list"
     ]
    }
   ],
   "source": [
    "list_for_request.index('7457041')"
   ]
  },
  {
   "cell_type": "code",
   "execution_count": 7,
   "metadata": {},
   "outputs": [],
   "source": [
    "def write_to_friends (LLL):\n",
    "    conn = sqlite3.connect(dbase_friends)\n",
    "    #print (\"Opened database successfully\")\n",
    "    cursor = conn.cursor()\n",
    "\n",
    "    cursor.executemany(\"INSERT INTO F VALUES (?,?)\", LLL)\n",
    "\n",
    "    conn.commit()\n",
    "    #print (\"Records created successfully\")\n",
    "    conn.close()"
   ]
  },
  {
   "cell_type": "code",
   "execution_count": null,
   "metadata": {},
   "outputs": [],
   "source": []
  },
  {
   "cell_type": "code",
   "execution_count": null,
   "metadata": {
    "scrolled": true
   },
   "outputs": [
    {
     "name": "stderr",
     "output_type": "stream",
     "text": [
      "  0%|          | 11347/28768703 [2:10:51<1768435:43:43, 221.38s/it]"
     ]
    },
    {
     "name": "stdout",
     "output_type": "stream",
     "text": [
      "sleep\n"
     ]
    },
    {
     "name": "stderr",
     "output_type": "stream",
     "text": [
      "  0%|          | 76180/28768703 [12:17:07<18293:50:59,  2.30s/it]  "
     ]
    },
    {
     "name": "stdout",
     "output_type": "stream",
     "text": [
      "sleep\n"
     ]
    },
    {
     "name": "stderr",
     "output_type": "stream",
     "text": [
      "  0%|          | 119925/28768703 [23:33:30<19750:04:29,  2.48s/it]  "
     ]
    }
   ],
   "source": [
    "url = 'https://api.vk.com/method/friends.get' \n",
    "token = '74cc2fc574cc2fc574cc2fc51674bd0ddd774cc74cc2fc52a52f6d01cd4498f9b895e70'\n",
    "from tqdm import tqdm,trange\n",
    "\n",
    "x_timer=0\n",
    "yyy=0\n",
    "#id=11\n",
    "#'order': 'hints', 'count':100\n",
    "response_bucket=list()\n",
    "\n",
    "def friends_get(id):\n",
    "    try:\n",
    "        params = {'user_id': id,'v': 5.103,'access_token': token, 'lang': 'ru'}  \n",
    "        response_vk_=requests.get(url, params=params)\n",
    "    except:\n",
    "        time.sleep(5)\n",
    "        print('sleep')\n",
    "        return friends_get(id)\n",
    "    return response_vk_\n",
    "\n",
    "\n",
    "\n",
    "\n",
    "for id in tqdm(list_for_request[0:]):\n",
    "    if 1==1:\n",
    "        \n",
    "        \n",
    "        response_vk=friends_get(id)\n",
    "        #print(response_vk)\n",
    "        #print(response_vk.json())\n",
    "        if 'response' in response_vk.json() and response_vk.json()['response']['count']!=0:\n",
    "            #print('chek')\n",
    "            response_v=response_vk.json()['response']\n",
    "            temp=list()\n",
    "            temp.append(str(id))\n",
    "            temp.append(str(response_v['items']))\n",
    "            #temp.append(str(0))\n",
    "            response_bucket.append(temp) \n",
    "\n",
    "            #if len(response_v)>2:\n",
    "            #print('id__',id,'count_',response_v['count'])\n",
    "            yyy=yyy+1\n",
    "        \n",
    "        if yyy%100==0:\n",
    "            #print('len_to_write_',len(response_bucket))\n",
    "            write_to_friends(response_bucket)\n",
    "            response_bucket=list()\n",
    "    "
   ]
  },
  {
   "cell_type": "code",
   "execution_count": null,
   "metadata": {},
   "outputs": [],
   "source": []
  },
  {
   "cell_type": "code",
   "execution_count": null,
   "metadata": {},
   "outputs": [],
   "source": []
  },
  {
   "cell_type": "code",
   "execution_count": 136,
   "metadata": {},
   "outputs": [],
   "source": [
    "write_to_friends(response_bucket)"
   ]
  },
  {
   "cell_type": "code",
   "execution_count": 3,
   "metadata": {},
   "outputs": [
    {
     "name": "stdout",
     "output_type": "stream",
     "text": [
      "Opened database successfully\n",
      "Table created successfully\n"
     ]
    }
   ],
   "source": [
    "conn = sqlite3.connect(dbase_friends)\n",
    "print (\"Opened database successfully\")\n",
    "\n",
    "conn.execute('''CREATE TABLE F\n",
    "         (\n",
    "         id, friends_list TEXT\n",
    "         );''')\n",
    "print (\"Table created successfully\")\n",
    "\n",
    "conn.close()"
   ]
  },
  {
   "cell_type": "code",
   "execution_count": 156,
   "metadata": {},
   "outputs": [
    {
     "name": "stdout",
     "output_type": "stream",
     "text": [
      "<Response [200]>\n",
      "{'error': {'error_code': 30, 'error_msg': 'This profile is private', 'request_params': [{'key': 'user_id', 'value': '6629'}, {'key': 'v', 'value': '5.103'}, {'key': 'order', 'value': 'hints'}, {'key': 'lang', 'value': 'ru'}, {'key': 'method', 'value': 'friends.get'}, {'key': 'oauth', 'value': '1'}]}}\n",
      "id_without_friends__ 6742\n"
     ]
    }
   ],
   "source": [
    "url = 'https://api.vk.com/method/friends.get' \n",
    "token = '74cc2fc574cc2fc574cc2fc51674bd0ddd774cc74cc2fc52a52f6d01cd4498f9b895e70'\n",
    "\n",
    "if 1==1:\n",
    "\n",
    "    params = {'user_id': 6629,'v': 5.103,'order': 'hints','access_token': token, 'lang': 'ru'}  \n",
    "    response_vk=requests.get(url, params=params)        \n",
    "    print(response_vk)\n",
    "    print(response_vk.json())\n",
    "    if 'response' in response_vk.json():\n",
    "        #print('chek')\n",
    "        response_v=response_vk.json()['response']\n",
    "        temp=list()\n",
    "        temp.append(str(id))\n",
    "        temp.append(str(response_v['items']))\n",
    "        response_bucket.append(temp) \n",
    "        \n",
    "        #if len(response_v)>2:\n",
    "        #print('id__',id,'count_',response_v['count'])\n",
    "        yyy=yyy+1\n",
    "    else:\n",
    "        print('id_without_friends__',id)\n",
    "        \n",
    "        \n",
    "        #print(response_v['items'])"
   ]
  },
  {
   "cell_type": "code",
   "execution_count": null,
   "metadata": {},
   "outputs": [],
   "source": [
    "hh"
   ]
  },
  {
   "cell_type": "code",
   "execution_count": null,
   "metadata": {},
   "outputs": [],
   "source": []
  }
 ],
 "metadata": {
  "kernelspec": {
   "display_name": "Python 3",
   "language": "python",
   "name": "python3"
  },
  "language_info": {
   "codemirror_mode": {
    "name": "ipython",
    "version": 3
   },
   "file_extension": ".py",
   "mimetype": "text/x-python",
   "name": "python",
   "nbconvert_exporter": "python",
   "pygments_lexer": "ipython3",
   "version": "3.7.4"
  }
 },
 "nbformat": 4,
 "nbformat_minor": 4
}
