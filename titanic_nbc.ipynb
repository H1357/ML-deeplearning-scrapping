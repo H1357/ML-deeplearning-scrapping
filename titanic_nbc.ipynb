{
 "cells": [
  {
   "cell_type": "markdown",
   "metadata": {},
   "source": [
    "Давайте построим простую классификацию для пассажиров Титаника\n",
    "\n",
    "По данным пассажира будет пытаться угадать, выжил он или нет\n",
    "\n",
    "В этом ноутбуке сделаем предобработку тренировочных данных, а построение классификатора и вычисление метрик качества на тестовых данных будут домашним заданием\n",
    "\n",
    "Вам понадобятся датасеты Titanic_train.csv и Titanic_test.csv"
   ]
  },
  {
   "cell_type": "code",
   "execution_count": 1,
   "metadata": {},
   "outputs": [],
   "source": [
    "import pandas as pd\n",
    "from sklearn.naive_bayes import GaussianNB"
   ]
  },
  {
   "cell_type": "code",
   "execution_count": 2,
   "metadata": {},
   "outputs": [],
   "source": [
    "# Считаем тренировочный датасет\n",
    "df = pd.read_csv('Titanic_train.csv')"
   ]
  },
  {
   "cell_type": "code",
   "execution_count": null,
   "metadata": {},
   "outputs": [],
   "source": [
    "# посмотрим, как обращаться к колонкам датасета\n",
    "df.columns"
   ]
  },
  {
   "cell_type": "markdown",
   "metadata": {},
   "source": [
    "В первом блоке анализа мы посмотрим, какие у нас есть данные, какие данные пропущены"
   ]
  },
  {
   "cell_type": "code",
   "execution_count": null,
   "metadata": {},
   "outputs": [],
   "source": [
    "# полюбуемся на фрагмент датасета\n",
    "df.sample(5)"
   ]
  },
  {
   "cell_type": "code",
   "execution_count": null,
   "metadata": {},
   "outputs": [],
   "source": [
    "# выясним, в каких столбцах не хватает данных\n",
    "df.isna().sum()"
   ]
  },
  {
   "cell_type": "markdown",
   "metadata": {},
   "source": [
    "Данных не хватает в столбцах Age, Cabin, Embarked:\n",
    "    1. У 143 пассажиров не известен возраст\n",
    "    2. у 552 пассажиров не известен номер каюты\n",
    "    3. У 2 пассажиров не известен порт посадки"
   ]
  },
  {
   "cell_type": "code",
   "execution_count": 3,
   "metadata": {},
   "outputs": [
    {
     "name": "stdout",
     "output_type": "stream",
     "text": [
      "средний возраст пассажира:  29.539402460456945\n"
     ]
    }
   ],
   "source": [
    "# Недостающие данные по возрасту заполним средним арифметическим\n",
    "mean_age = df['Age'].mean() # здесь вычисляем\n",
    "print ('средний возраст пассажира: ',mean_age)\n",
    "df['Age'].fillna(mean_age , inplace=True) # здесь заполняем"
   ]
  },
  {
   "cell_type": "code",
   "execution_count": null,
   "metadata": {},
   "outputs": [],
   "source": [
    "# Посмотрим, из какого порта отправилось большинство пассажиров\n",
    "# будет логично предположить, что 2 пассажира с неизвестным портом отправления сели там же\n",
    "print(df['Embarked'].value_counts())"
   ]
  },
  {
   "cell_type": "code",
   "execution_count": 4,
   "metadata": {},
   "outputs": [],
   "source": [
    "# Больше всего пассажиров отправились в путь на Титанике из порта S - Southampton\n",
    "# Назначим это значение пассажирам, чей порт посадки не известен\n",
    "df['Embarked'].fillna('S',inplace=True)"
   ]
  },
  {
   "cell_type": "markdown",
   "metadata": {},
   "source": [
    "В столбцах Unnamed: 0' и 'PassengerId содержатся порядковые номера пассажиров, они нам не нужны\n",
    "\n",
    "'Cabin' содержит слишком много пропущенных значений, заполнять их бессмысленно, хотя\n",
    "из этих данных, вернее, из их наличия можно было бы извлечь полезную информацию: единственный список с номерами кают есть был найден только для пассажиров 1 класса , а вот у пассажиров 2 и 3 класса наличие номера каюты означает, что этот пассажир, скорее всего выжил. Это может стать точкой роста для классификатора, но сейчас мы все равно избавимся от этого столбца\n",
    "\n",
    "Из 'Name' и 'Ticket' (идентификатор билета) тоже можно вытащить полезную информацию, однако сейчас опять же эти данные рассматривать не будем"
   ]
  },
  {
   "cell_type": "code",
   "execution_count": 5,
   "metadata": {},
   "outputs": [],
   "source": [
    "# удаляем лишние столбцы из датасета\n",
    "del df['Unnamed: 0']\n",
    "del df['PassengerId']\n",
    "del df['Name']\n",
    "del df['Cabin']\n",
    "del df['Ticket']"
   ]
  },
  {
   "cell_type": "code",
   "execution_count": 6,
   "metadata": {},
   "outputs": [],
   "source": [
    "#  сделаем предобработку данных по полу и порту посадки\n",
    "# они заданы как категории, нам же для обучения нужны числа\n",
    "# есть разные способы превратить категории в числа, один из них \n",
    "# - задать числовые категории по словарю\n",
    "\n",
    "# создаем словари\n",
    "dict_Sex = {'male': 1, 'female': 0}\n",
    "dict_Embarked = {'S': 0, 'C': 1, 'Q':2}\n",
    "\n",
    "# преобразуем данные при помощи map\n",
    "df['Sex'] = df ['Sex'].map(dict_Sex )\n",
    "df['Embarked'] = df ['Embarked'].map(dict_Embarked )\n",
    "\n"
   ]
  },
  {
   "cell_type": "code",
   "execution_count": 7,
   "metadata": {},
   "outputs": [
    {
     "data": {
      "text/html": [
       "<div>\n",
       "<style scoped>\n",
       "    .dataframe tbody tr th:only-of-type {\n",
       "        vertical-align: middle;\n",
       "    }\n",
       "\n",
       "    .dataframe tbody tr th {\n",
       "        vertical-align: top;\n",
       "    }\n",
       "\n",
       "    .dataframe thead th {\n",
       "        text-align: right;\n",
       "    }\n",
       "</style>\n",
       "<table border=\"1\" class=\"dataframe\">\n",
       "  <thead>\n",
       "    <tr style=\"text-align: right;\">\n",
       "      <th></th>\n",
       "      <th>Survived</th>\n",
       "      <th>Pclass</th>\n",
       "      <th>Sex</th>\n",
       "      <th>Age</th>\n",
       "      <th>SibSp</th>\n",
       "      <th>Parch</th>\n",
       "      <th>Fare</th>\n",
       "      <th>Embarked</th>\n",
       "    </tr>\n",
       "  </thead>\n",
       "  <tbody>\n",
       "    <tr>\n",
       "      <th>0</th>\n",
       "      <td>0</td>\n",
       "      <td>3</td>\n",
       "      <td>1</td>\n",
       "      <td>47.000000</td>\n",
       "      <td>0</td>\n",
       "      <td>0</td>\n",
       "      <td>9.0000</td>\n",
       "      <td>0</td>\n",
       "    </tr>\n",
       "    <tr>\n",
       "      <th>1</th>\n",
       "      <td>1</td>\n",
       "      <td>3</td>\n",
       "      <td>1</td>\n",
       "      <td>29.539402</td>\n",
       "      <td>0</td>\n",
       "      <td>0</td>\n",
       "      <td>7.7500</td>\n",
       "      <td>2</td>\n",
       "    </tr>\n",
       "    <tr>\n",
       "      <th>2</th>\n",
       "      <td>0</td>\n",
       "      <td>2</td>\n",
       "      <td>1</td>\n",
       "      <td>34.000000</td>\n",
       "      <td>1</td>\n",
       "      <td>0</td>\n",
       "      <td>26.0000</td>\n",
       "      <td>0</td>\n",
       "    </tr>\n",
       "    <tr>\n",
       "      <th>3</th>\n",
       "      <td>1</td>\n",
       "      <td>1</td>\n",
       "      <td>0</td>\n",
       "      <td>44.000000</td>\n",
       "      <td>0</td>\n",
       "      <td>1</td>\n",
       "      <td>57.9792</td>\n",
       "      <td>1</td>\n",
       "    </tr>\n",
       "    <tr>\n",
       "      <th>4</th>\n",
       "      <td>0</td>\n",
       "      <td>3</td>\n",
       "      <td>0</td>\n",
       "      <td>47.000000</td>\n",
       "      <td>1</td>\n",
       "      <td>0</td>\n",
       "      <td>14.5000</td>\n",
       "      <td>0</td>\n",
       "    </tr>\n",
       "  </tbody>\n",
       "</table>\n",
       "</div>"
      ],
      "text/plain": [
       "   Survived  Pclass  Sex        Age  SibSp  Parch     Fare  Embarked\n",
       "0         0       3    1  47.000000      0      0   9.0000         0\n",
       "1         1       3    1  29.539402      0      0   7.7500         2\n",
       "2         0       2    1  34.000000      1      0  26.0000         0\n",
       "3         1       1    0  44.000000      0      1  57.9792         1\n",
       "4         0       3    0  47.000000      1      0  14.5000         0"
      ]
     },
     "execution_count": 7,
     "metadata": {},
     "output_type": "execute_result"
    }
   ],
   "source": [
    "# полюбуемся на то, что у нас получилось\n",
    "df.head()"
   ]
  },
  {
   "cell_type": "code",
   "execution_count": null,
   "metadata": {},
   "outputs": [],
   "source": [
    "# разделим данные на признаки и целевую переменную\n",
    "x_train = df.drop(['Survived'], axis = 1)\n",
    "y_train = df[['Survived']]"
   ]
  },
  {
   "cell_type": "markdown",
   "metadata": {},
   "source": [
    "Ваше задание:\n",
    "1. Сделать точно такую же предобработку тестовых данных. Подумайте, на какие значения будет корректно заменять пропуски в графах \"возраст\" и \"порт посадки\" в тестовой выборке.\n",
    "2. Обучить НБК. Какую модель вы выберете?\n",
    "3. Вычислить confusion matrix на тестовых данных\n",
    "4. Вычислить метрики качества модели\n",
    "5. Подумайте, каких пассажиров модель классифицирует лучше - выживших или не выживших\n",
    "6. Подумайте, как проинтерпретировать ошибку второго рода"
   ]
  },
  {
   "cell_type": "code",
   "execution_count": null,
   "metadata": {},
   "outputs": [],
   "source": []
  }
 ],
 "metadata": {
  "kernelspec": {
   "display_name": "Python 3",
   "language": "python",
   "name": "python3"
  },
  "language_info": {
   "codemirror_mode": {
    "name": "ipython",
    "version": 3
   },
   "file_extension": ".py",
   "mimetype": "text/x-python",
   "name": "python",
   "nbconvert_exporter": "python",
   "pygments_lexer": "ipython3",
   "version": "3.7.4"
  }
 },
 "nbformat": 4,
 "nbformat_minor": 4
}
