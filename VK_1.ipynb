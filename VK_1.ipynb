{
 "cells": [
  {
   "cell_type": "code",
   "execution_count": 150,
   "metadata": {},
   "outputs": [
    {
     "data": {
      "text/plain": [
       "dict_keys(['id', 'first_name', 'last_name', 'is_closed', 'can_access_closed', 'sex', 'nickname', 'domain', 'screen_name', 'city', 'country', 'photo_50', 'photo_100', 'photo_200', 'photo_200_orig', 'photo_max', 'photo_max_orig', 'mobile_phone', 'site', 'status', 'last_seen', 'verified', 'followers_count', 'blacklisted', 'occupation', 'career', 'university', 'university_name', 'faculty', 'faculty_name', 'graduation', 'education_form', 'education_status', 'home_town', 'relation', 'personal', 'interests', 'music', 'activities', 'movies', 'tv', 'books', 'games', 'universities', 'schools', 'about', 'relatives', 'quotes'])"
      ]
     },
     "execution_count": 150,
     "metadata": {},
     "output_type": "execute_result"
    }
   ],
   "source": [
    "from pprint import pprint  \n",
    "import requests  \n",
    " \n",
    "ids = \",\".join(map(str, range(1, 11)))     \n",
    "    \n",
    "url = 'https://api.vk.com/method/users.get' \n",
    "token = 'ef3274d3ef3274d3ef3274d310ef4356cbeef32ef3274d3b1a8b48e4f2ef5643faf6fde'\n",
    "f='id, first_name, last_name, deactivated, is_closed, can_access_closed, about, activities, bdate, blacklisted, books, career, city, skype, facebook, twitter, livejournal, Instagram, contacts, mobile_phone, home_phone, counters, country, domain, education, followers_count, games, home_town, interests, last_seen, maiden_name, military, movies, music, nickname, occupation, personal, photo_50, photo_100, photo_200_orig, photo_200, photo_400_orig, photo_max, photo_max_orig, quotes, relatives, relation, schools, screen_name, sex, site, status, timezone, trendin, tv, universities, verified, university, university_name, faculty, faculty_name, chair_name, graduation, education_form, education_status'\n",
    "\n",
    "f1='sex,bdate'\n",
    "params = {'user_ids': ids, 'v': 5.95, 'fields': f, 'access_token': token, 'lang': 'ru'}  \n",
    "  \n",
    "# Мы можем выставить параметры запроса через аргумент params  \n",
    "response = requests.get(url, params=params)  \n",
    "#pprint(response.json()) \n",
    "\n",
    "user = response.json()['response'][7]\n",
    "\n",
    "user.keys()\n",
    "\n",
    "#pprint(user)\n",
    "  \n",
    "# Выведем дату рождения \n",
    "#if 'bdate' in user:\n",
    "#    print(user['bdate']) \n",
    "#else: \n",
    "#    print('fuck')\n",
    "# => 10.10.1984  \n",
    "\n",
    "\n",
    "#for kkey in user:\n",
    " #   pprint(user[kkey])\n",
    "  \n",
    "# Выведем имя  \n",
    "#print(user['first_name'])  \n",
    "# => Павел  "
   ]
  },
  {
   "cell_type": "code",
   "execution_count": null,
   "metadata": {},
   "outputs": [],
   "source": [
    "L=f.split(', ')\n",
    "LL=list()\n",
    "i=0\n",
    "for X in L:\n",
    "    if X in user:\n",
    "        LL.append(user[X])\n",
    "    else:\n",
    "        LL.append('NULL')\n",
    "    i=i+1\n",
    "\n",
    "print(LL[0:10])    "
   ]
  },
  {
   "cell_type": "code",
   "execution_count": null,
   "metadata": {},
   "outputs": [],
   "source": [
    "print(LL) "
   ]
  },
  {
   "cell_type": "code",
   "execution_count": null,
   "metadata": {},
   "outputs": [],
   "source": [
    "type(LL)"
   ]
  },
  {
   "cell_type": "code",
   "execution_count": null,
   "metadata": {},
   "outputs": [],
   "source": [
    "LLL=tuple(LL)"
   ]
  },
  {
   "cell_type": "code",
   "execution_count": null,
   "metadata": {},
   "outputs": [],
   "source": []
  },
  {
   "cell_type": "code",
   "execution_count": null,
   "metadata": {},
   "outputs": [],
   "source": []
  },
  {
   "cell_type": "code",
   "execution_count": null,
   "metadata": {},
   "outputs": [],
   "source": []
  },
  {
   "cell_type": "code",
   "execution_count": null,
   "metadata": {},
   "outputs": [],
   "source": [
    "T=f.split(', ')"
   ]
  },
  {
   "cell_type": "code",
   "execution_count": null,
   "metadata": {},
   "outputs": [],
   "source": [
    "print(T)"
   ]
  },
  {
   "cell_type": "code",
   "execution_count": null,
   "metadata": {},
   "outputs": [],
   "source": []
  },
  {
   "cell_type": "code",
   "execution_count": null,
   "metadata": {},
   "outputs": [],
   "source": [
    "print(L)"
   ]
  },
  {
   "cell_type": "code",
   "execution_count": null,
   "metadata": {},
   "outputs": [],
   "source": [
    "type(K)"
   ]
  },
  {
   "cell_type": "code",
   "execution_count": null,
   "metadata": {},
   "outputs": [],
   "source": [
    "K=user.keys()"
   ]
  },
  {
   "cell_type": "code",
   "execution_count": null,
   "metadata": {},
   "outputs": [],
   "source": [
    "print(list(K))"
   ]
  },
  {
   "cell_type": "code",
   "execution_count": null,
   "metadata": {},
   "outputs": [],
   "source": [
    "ff=f.split(', ')\n",
    "for XX in ff:\n",
    "    if XX not in K:\n",
    "        print (XX)\n",
    "    "
   ]
  },
  {
   "cell_type": "code",
   "execution_count": null,
   "metadata": {},
   "outputs": [],
   "source": [
    "for XX in K:\n",
    "    if XX not in ff:\n",
    "        print (XX)"
   ]
  },
  {
   "cell_type": "code",
   "execution_count": null,
   "metadata": {},
   "outputs": [],
   "source": []
  },
  {
   "cell_type": "code",
   "execution_count": null,
   "metadata": {},
   "outputs": [],
   "source": []
  }
 ],
 "metadata": {
  "kernelspec": {
   "display_name": "Python 3",
   "language": "python",
   "name": "python3"
  },
  "language_info": {
   "codemirror_mode": {
    "name": "ipython",
    "version": 3
   },
   "file_extension": ".py",
   "mimetype": "text/x-python",
   "name": "python",
   "nbconvert_exporter": "python",
   "pygments_lexer": "ipython3",
   "version": "3.7.4"
  }
 },
 "nbformat": 4,
 "nbformat_minor": 4
}
