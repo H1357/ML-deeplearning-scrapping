{
 "cells": [
  {
   "cell_type": "code",
   "execution_count": 2,
   "metadata": {},
   "outputs": [
    {
     "name": "stdout",
     "output_type": "stream",
     "text": [
      "Collecting CMake\n",
      "  Downloading cmake-3.17.2-py3-none-macosx_10_6_x86_64.whl (41.8 MB)\n",
      "\u001b[K     |████████████████████████████████| 41.8 MB 5.5 MB/s eta 0:00:01\n",
      "\u001b[?25hInstalling collected packages: CMake\n",
      "Successfully installed CMake-3.17.2\n",
      "Note: you may need to restart the kernel to use updated packages.\n"
     ]
    }
   ],
   "source": [
    "pip install CMake"
   ]
  },
  {
   "cell_type": "code",
   "execution_count": 3,
   "metadata": {},
   "outputs": [
    {
     "name": "stdout",
     "output_type": "stream",
     "text": [
      "Collecting dlib\n",
      "  Using cached dlib-19.19.0.tar.gz (3.2 MB)\n",
      "Building wheels for collected packages: dlib\n",
      "  Building wheel for dlib (setup.py) ... \u001b[?25ldone\n",
      "\u001b[?25h  Created wheel for dlib: filename=dlib-19.19.0-cp37-cp37m-macosx_10_9_x86_64.whl size=3207621 sha256=3f30b8d66acd97f4922c0f3a7d0aa08b6a749d65d469d8e5dd1bf95dfb8d762a\n",
      "  Stored in directory: /Users/romanpodoynitsyn/Library/Caches/pip/wheels/37/f0/61/23636e491ad55b8f9952f87233515947a8b16404b530c9f506\n",
      "Successfully built dlib\n",
      "Installing collected packages: dlib\n",
      "Successfully installed dlib-19.19.0\n",
      "Note: you may need to restart the kernel to use updated packages.\n"
     ]
    }
   ],
   "source": [
    "pip install dlib"
   ]
  },
  {
   "cell_type": "code",
   "execution_count": 9,
   "metadata": {},
   "outputs": [
    {
     "name": "stdout",
     "output_type": "stream",
     "text": [
      "Collecting face_recognition\n",
      "  Using cached face_recognition-1.3.0-py2.py3-none-any.whl (15 kB)\n",
      "Requirement already satisfied: Pillow in /Users/romanpodoynitsyn/opt/anaconda3/lib/python3.7/site-packages (from face_recognition) (6.2.0)\n",
      "Requirement already satisfied: numpy in /Users/romanpodoynitsyn/opt/anaconda3/lib/python3.7/site-packages (from face_recognition) (1.17.2)\n",
      "Requirement already satisfied: face-recognition-models>=0.3.0 in /Users/romanpodoynitsyn/opt/anaconda3/lib/python3.7/site-packages (from face_recognition) (0.3.0)\n",
      "Requirement already satisfied: Click>=6.0 in /Users/romanpodoynitsyn/opt/anaconda3/lib/python3.7/site-packages (from face_recognition) (7.0)\n",
      "Requirement already satisfied: dlib>=19.7 in /Users/romanpodoynitsyn/opt/anaconda3/lib/python3.7/site-packages (from face_recognition) (19.19.0)\n",
      "Installing collected packages: face-recognition\n",
      "Successfully installed face-recognition-1.3.0\n",
      "Note: you may need to restart the kernel to use updated packages.\n"
     ]
    }
   ],
   "source": [
    "pip install face_recognition"
   ]
  },
  {
   "cell_type": "code",
   "execution_count": 1,
   "metadata": {},
   "outputs": [],
   "source": [
    "import cv2"
   ]
  },
  {
   "cell_type": "code",
   "execution_count": null,
   "metadata": {},
   "outputs": [],
   "source": []
  },
  {
   "cell_type": "code",
   "execution_count": null,
   "metadata": {},
   "outputs": [],
   "source": []
  }
 ],
 "metadata": {
  "kernelspec": {
   "display_name": "Python 3",
   "language": "python",
   "name": "python3"
  },
  "language_info": {
   "codemirror_mode": {
    "name": "ipython",
    "version": 3
   },
   "file_extension": ".py",
   "mimetype": "text/x-python",
   "name": "python",
   "nbconvert_exporter": "python",
   "pygments_lexer": "ipython3",
   "version": "3.7.4"
  }
 },
 "nbformat": 4,
 "nbformat_minor": 4
}
