{
 "cells": [
  {
   "cell_type": "code",
   "execution_count": 2,
   "metadata": {},
   "outputs": [],
   "source": [
    "dbase_friends='/Users/romanpodoynitsyn/workbase/work/workbase_friends_2.db'\n",
    "dbase='/Users/romanpodoynitsyn/workbase/work/workbase_9.db'\n",
    "from pprint import pprint  \n",
    "import requests  \n",
    "import sqlite3\n",
    "import time\n"
   ]
  },
  {
   "cell_type": "code",
   "execution_count": 3,
   "metadata": {},
   "outputs": [
    {
     "name": "stdout",
     "output_type": "stream",
     "text": [
      "Operation done successfully\n"
     ]
    }
   ],
   "source": [
    "import sqlite3\n",
    "\n",
    "\n",
    "id_api_list=()\n",
    "\n",
    "# Создаем соединение с нашей базой данных\n",
    "# В нашем примере у нас это просто файл базы\n",
    "conn = sqlite3.connect(dbase)\n",
    "\n",
    "# Создаем курсор - это специальный объект который делает запросы и получает их результаты\n",
    "cursor = conn.cursor()\n",
    "\n",
    "cursor = conn.execute(\"SELECT id_api from USERS\")\n",
    "\n",
    "results = cursor.fetchall()\n",
    "    \n",
    "print (\"Operation done successfully\")\n",
    "\n",
    "\n",
    "# Не забываем закрыть соединение с базой данных\n",
    "conn.close()"
   ]
  },
  {
   "cell_type": "code",
   "execution_count": 4,
   "metadata": {},
   "outputs": [
    {
     "name": "stdout",
     "output_type": "stream",
     "text": [
      "58914428\n",
      "[('1',), ('2',), ('5',)]\n"
     ]
    }
   ],
   "source": [
    "print(len(results))\n",
    "#pprint(results[0][1])\n",
    "print(results[0:3])"
   ]
  },
  {
   "cell_type": "code",
   "execution_count": 5,
   "metadata": {},
   "outputs": [
    {
     "name": "stdout",
     "output_type": "stream",
     "text": [
      "58914428\n"
     ]
    }
   ],
   "source": [
    "list_for_request=list()\n",
    "try:\n",
    "    for ii in range(0,len(results)):\n",
    "        list_for_request.append(results[ii][0])\n",
    "except:\n",
    "    print('error___',ii, '____',results[ii][0])\n",
    "print(len(list_for_request))\n",
    "#print(list_for_request)"
   ]
  },
  {
   "cell_type": "code",
   "execution_count": 8,
   "metadata": {},
   "outputs": [
    {
     "data": {
      "text/plain": [
       "4844795"
      ]
     },
     "execution_count": 8,
     "metadata": {},
     "output_type": "execute_result"
    }
   ],
   "source": [
    "list_for_request.index('7457041')"
   ]
  },
  {
   "cell_type": "code",
   "execution_count": 7,
   "metadata": {},
   "outputs": [],
   "source": [
    "def write_to_friends (LLL):\n",
    "    conn = sqlite3.connect(dbase_friends)\n",
    "    #print (\"Opened database successfully\")\n",
    "    cursor = conn.cursor()\n",
    "\n",
    "    cursor.executemany(\"INSERT INTO F VALUES (?,?,?)\", LLL)\n",
    "\n",
    "    conn.commit()\n",
    "    #print (\"Records created successfully\")\n",
    "    conn.close()"
   ]
  },
  {
   "cell_type": "code",
   "execution_count": null,
   "metadata": {},
   "outputs": [],
   "source": []
  },
  {
   "cell_type": "code",
   "execution_count": null,
   "metadata": {
    "scrolled": true
   },
   "outputs": [
    {
     "name": "stderr",
     "output_type": "stream",
     "text": [
      "  0%|          | 86711/54069633 [16:37:10<3288254:38:27, 219.29s/it]"
     ]
    },
    {
     "name": "stdout",
     "output_type": "stream",
     "text": [
      "STOP_x_timer 86710\n"
     ]
    },
    {
     "name": "stderr",
     "output_type": "stream",
     "text": [
      "  0%|          | 103577/54069633 [19:28:42<3580100:45:24, 238.82s/it]"
     ]
    },
    {
     "name": "stdout",
     "output_type": "stream",
     "text": [
      "STOP_x_timer 103575\n"
     ]
    },
    {
     "name": "stderr",
     "output_type": "stream",
     "text": [
      "  0%|          | 145643/54069633 [26:55:30<2263765:04:17, 151.13s/it]"
     ]
    },
    {
     "name": "stdout",
     "output_type": "stream",
     "text": [
      "STOP_x_timer 145639\n"
     ]
    },
    {
     "name": "stderr",
     "output_type": "stream",
     "text": [
      "  0%|          | 188406/54069633 [38:02:48<17204:29:49,  1.15s/it]   "
     ]
    }
   ],
   "source": [
    "url = 'https://api.vk.com/method/friends.get' \n",
    "token = '74cc2fc574cc2fc574cc2fc51674bd0ddd774cc74cc2fc52a52f6d01cd4498f9b895e70'\n",
    "from tqdm import tqdm,trange\n",
    "\n",
    "x_timer=0\n",
    "yyy=0\n",
    "#id=11\n",
    "#'order': 'hints', 'count':100\n",
    "response_bucket=list()\n",
    "for id in tqdm(list_for_request[4844795:]):\n",
    "    try:\n",
    "        if x_timer%5000==0:\n",
    "            time.sleep(60)\n",
    "        params = {'user_id': id,'v': 5.103,'order': 'hints','access_token': token, 'lang': 'ru'}  \n",
    "        response_vk=requests.get(url, params=params)\n",
    "        x_timer=x_timer+1\n",
    "        #print(response_vk)\n",
    "        #print(response_vk.json())\n",
    "        if 'response' in response_vk.json() and response_vk.json()['response']['count']!=0:\n",
    "            #print('chek')\n",
    "            response_v=response_vk.json()['response']\n",
    "            temp=list()\n",
    "            temp.append(str(id))\n",
    "            temp.append(str(response_v['items']))\n",
    "            temp.append(str(0))\n",
    "            response_bucket.append(temp) \n",
    "\n",
    "            #if len(response_v)>2:\n",
    "            #print('id__',id,'count_',response_v['count'])\n",
    "            yyy=yyy+1\n",
    "        else:\n",
    "            #print('id_without_friends__',id)\n",
    "            temp=list()\n",
    "            temp.append(str(id))\n",
    "            temp.append(str(0))\n",
    "            temp.append(str(1))\n",
    "            response_bucket.append(temp) \n",
    "            yyy=yyy+1\n",
    "        if yyy%1000==0:\n",
    "            #print('len_to_write_',len(response_bucket))\n",
    "            write_to_friends(response_bucket)\n",
    "            response_bucket=list()\n",
    "    except:\n",
    "        print('STOP_x_timer',x_timer)\n",
    "        #print(response_v['items'])"
   ]
  },
  {
   "cell_type": "code",
   "execution_count": null,
   "metadata": {},
   "outputs": [],
   "source": []
  },
  {
   "cell_type": "code",
   "execution_count": null,
   "metadata": {},
   "outputs": [],
   "source": []
  },
  {
   "cell_type": "code",
   "execution_count": 136,
   "metadata": {},
   "outputs": [],
   "source": [
    "write_to_friends(response_bucket)"
   ]
  },
  {
   "cell_type": "code",
   "execution_count": 152,
   "metadata": {},
   "outputs": [
    {
     "name": "stdout",
     "output_type": "stream",
     "text": [
      "Opened database successfully\n",
      "Table created successfully\n"
     ]
    }
   ],
   "source": [
    "conn = sqlite3.connect(dbase_friends)\n",
    "print (\"Opened database successfully\")\n",
    "\n",
    "conn.execute('''CREATE TABLE F\n",
    "         (\n",
    "         id, friends_list, private_status TEXT\n",
    "         );''')\n",
    "print (\"Table created successfully\")\n",
    "\n",
    "conn.close()"
   ]
  },
  {
   "cell_type": "code",
   "execution_count": 156,
   "metadata": {},
   "outputs": [
    {
     "name": "stdout",
     "output_type": "stream",
     "text": [
      "<Response [200]>\n",
      "{'error': {'error_code': 30, 'error_msg': 'This profile is private', 'request_params': [{'key': 'user_id', 'value': '6629'}, {'key': 'v', 'value': '5.103'}, {'key': 'order', 'value': 'hints'}, {'key': 'lang', 'value': 'ru'}, {'key': 'method', 'value': 'friends.get'}, {'key': 'oauth', 'value': '1'}]}}\n",
      "id_without_friends__ 6742\n"
     ]
    }
   ],
   "source": [
    "url = 'https://api.vk.com/method/friends.get' \n",
    "token = '74cc2fc574cc2fc574cc2fc51674bd0ddd774cc74cc2fc52a52f6d01cd4498f9b895e70'\n",
    "\n",
    "if 1==1:\n",
    "\n",
    "    params = {'user_id': 6629,'v': 5.103,'order': 'hints','access_token': token, 'lang': 'ru'}  \n",
    "    response_vk=requests.get(url, params=params)        \n",
    "    print(response_vk)\n",
    "    print(response_vk.json())\n",
    "    if 'response' in response_vk.json():\n",
    "        #print('chek')\n",
    "        response_v=response_vk.json()['response']\n",
    "        temp=list()\n",
    "        temp.append(str(id))\n",
    "        temp.append(str(response_v['items']))\n",
    "        response_bucket.append(temp) \n",
    "        \n",
    "        #if len(response_v)>2:\n",
    "        #print('id__',id,'count_',response_v['count'])\n",
    "        yyy=yyy+1\n",
    "    else:\n",
    "        print('id_without_friends__',id)\n",
    "        \n",
    "        \n",
    "        #print(response_v['items'])"
   ]
  },
  {
   "cell_type": "code",
   "execution_count": null,
   "metadata": {},
   "outputs": [],
   "source": [
    "hh"
   ]
  },
  {
   "cell_type": "code",
   "execution_count": null,
   "metadata": {},
   "outputs": [],
   "source": []
  }
 ],
 "metadata": {
  "kernelspec": {
   "display_name": "Python 3",
   "language": "python",
   "name": "python3"
  },
  "language_info": {
   "codemirror_mode": {
    "name": "ipython",
    "version": 3
   },
   "file_extension": ".py",
   "mimetype": "text/x-python",
   "name": "python",
   "nbconvert_exporter": "python",
   "pygments_lexer": "ipython3",
   "version": "3.7.4"
  }
 },
 "nbformat": 4,
 "nbformat_minor": 4
}
