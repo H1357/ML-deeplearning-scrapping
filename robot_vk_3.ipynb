{
 "cells": [
  {
   "cell_type": "code",
   "execution_count": 62,
   "metadata": {},
   "outputs": [
    {
     "name": "stdout",
     "output_type": "stream",
     "text": [
      "Opened database successfully\n",
      "Table created successfully\n"
     ]
    }
   ],
   "source": [
    "import sqlite3\n",
    "dbase='test41.db'\n",
    "\n",
    "conn = sqlite3.connect(dbase)\n",
    "print (\"Opened database successfully\")\n",
    "\n",
    "conn.execute('''CREATE TABLE USERS\n",
    "         (\n",
    "         id_api, first_name, last_name, about, activities, bdate, books, career, domain, education, followers_count, games, home_town, interests, last_seen, maiden_name, movies, music, nickname, occupation, personal,  photo_100,  photo_max_orig, quotes, relatives, relation, schools, screen_name, sex,  status,  tv, universities,  university, university_name, faculty, faculty_name, chair_name, graduation, education_form, education_status, political, langs, religion, inspired_by, people_main, life_main, smoking, alcohol, city_name, country_name, university_name_, faculty_name_, graduation_, platform, last_time, relation_name,  occupation_type, occupation_place, contacts   TEXT    \n",
    "         \n",
    "         );''')\n",
    "print (\"Table created successfully\")\n",
    "\n",
    "\n",
    "\n",
    "#school_1_country, school_1_city, school_1_name, school_1_year_from, school_1_year_to, school_1_year_graduated, school_1_class, school_1_speciality, school_1_type_str, school_2_country, school_2_city, school_2_name, school_2_year_from, school_2_year_to, school_2_year_graduated, school_2_class, school_2_speciality, school_2_type_str,\n",
    "\n",
    "\n",
    "conn.close()"
   ]
  },
  {
   "cell_type": "code",
   "execution_count": 63,
   "metadata": {},
   "outputs": [],
   "source": [
    "from pprint import pprint  \n",
    "import requests  \n",
    "import sqlite3"
   ]
  },
  {
   "cell_type": "code",
   "execution_count": null,
   "metadata": {},
   "outputs": [],
   "source": []
  },
  {
   "cell_type": "code",
   "execution_count": null,
   "metadata": {},
   "outputs": [],
   "source": []
  },
  {
   "cell_type": "code",
   "execution_count": null,
   "metadata": {},
   "outputs": [],
   "source": []
  },
  {
   "cell_type": "code",
   "execution_count": 64,
   "metadata": {},
   "outputs": [],
   "source": [
    "def write_to (LLL):\n",
    "    conn = sqlite3.connect(dbase)\n",
    "    print (\"Opened database successfully\")\n",
    "    cursor = conn.cursor()\n",
    "\n",
    "    cursor.executemany(\"INSERT INTO USERS VALUES (?,?,?,?,?,?,?,?,?,?,?,?,?,?,?,?,?,?,?,?,?,?,?,?,?,?,?,?,?,?,?,?,?,?,?,?,?,?,?,?,?,?,?,?,?,?,?,?,?,?,?,?,?,?,?,?,?,?,?)\", LLL)\n",
    "\n",
    "    conn.commit()\n",
    "    print (\"Records created successfully\",'____', LLL[0][0])\n",
    "    conn.close()"
   ]
  },
  {
   "cell_type": "code",
   "execution_count": 65,
   "metadata": {},
   "outputs": [],
   "source": [
    "columns_bd='id, first_name, last_name, about, activities, bdate, books, career, domain, education, followers_count, games, home_town, interests, last_seen, maiden_name, movies, music, nickname, occupation, personal, photo_100, photo_max_orig, quotes, relatives, relation, schools, screen_name, sex, status, tv, universities, university, university_name, faculty, faculty_name, chair_name, graduation, education_form, education_status'\n",
    "L=columns_bd.split(', ')\n",
    "\n",
    "\n",
    "def robot(response_):\n",
    "\n",
    "    LLx=list()\n",
    "    LLL=tuple()\n",
    "    \n",
    "    for ii in range(0, len(response_)):\n",
    "        LL=list()\n",
    "       # print(ii)\n",
    "        user = response_[ii]\n",
    "        if 'deactivated' in user:\n",
    "            continue\n",
    "       # user =list(response[ii])\n",
    "        for X in L:\n",
    "            if X in user:\n",
    "                LL.append(str(user[X]))\n",
    "                \n",
    "                print('X__',X,'____',user[X])\n",
    "               # print('yes')\n",
    "            else:\n",
    "                LL.append('?')\n",
    "                print('X__',X,'____?',)\n",
    "                #print('no')\n",
    "\n",
    "\n",
    "        #print(ii, school_funk (user)[0],school_funk (user)[1])\n",
    "\n",
    "        LL=LL+personal_result_funk (user)\n",
    "        LL.append(city_funk(user))\n",
    "        LL.append(country_funk(user))\n",
    "        LL=LL+education_funk(user)\n",
    "        LL=LL+last_seen_funk(user)\n",
    "        LL.append(relation_funk(user))\n",
    "\n",
    "\n",
    "       # LL=LL+school_funk (user)[0]\n",
    "        #LL=LL+school_funk (user)[1]\n",
    "        LL=LL+occupation_funk(user)\n",
    "        LL.append(str(contacts_funk(user)))\n",
    "\n",
    "        LLx.append(LL)\n",
    "        #print('check lll')\n",
    "        LLL=tuple(LLx)\n",
    "        \n",
    "    #if len(LLL)==0:\n",
    "        #LLL=tuple(LLx)\n",
    "    return LLL"
   ]
  },
  {
   "cell_type": "code",
   "execution_count": null,
   "metadata": {},
   "outputs": [],
   "source": []
  },
  {
   "cell_type": "code",
   "execution_count": 66,
   "metadata": {},
   "outputs": [
    {
     "name": "stdout",
     "output_type": "stream",
     "text": [
      "{'id': 30, 'title': 'Afghanistan'}\n"
     ]
    },
    {
     "data": {
      "text/plain": [
       "'Afghanistan'"
      ]
     },
     "execution_count": 66,
     "metadata": {},
     "output_type": "execute_result"
    }
   ],
   "source": [
    "def city_id (city_id):\n",
    "    url = 'https://api.vk.com/method/database.getCitiesById' \n",
    "    \n",
    "\n",
    "    params = {'city_ids':city_id,'v': 5.103,'access_token': token}  \n",
    "\n",
    "    response_city=requests.get(url, params=params) \n",
    "    response_city=response_city.json()['response']#['title']\n",
    "    X= response_city[0]['title']\n",
    "    if X =='':\n",
    "        X='?'\n",
    "    print('citi_id')\n",
    "    return X\n",
    "\n",
    "'''\n",
    "    url = 'https://api.vk.com/method/database.getCountriesById' \n",
    "    \n",
    "    params = {'city_ids':country_id,'v': 5.103,'access_token': token}  \n",
    "\n",
    "    response_country=requests.get(url, params=params) \n",
    "    response_country=response_country.json()#['response']#['title']\n",
    "    X= response_country\n",
    "    #if X =='':\n",
    "    #    X='?'\n",
    "    return X\n",
    "'''\n",
    "# создание функции country_id \n",
    "\n",
    "url = 'https://api.vk.com/method/database.getCountries' \n",
    "\n",
    "params = {'need_all': 1,'v': 5.103,'access_token': token, 'count':1000}  \n",
    "\n",
    "response_county=requests.get(url, params=params) \n",
    "response_county=response_county.json()['response']#['title']\n",
    "pprint(response_county['items'][0])\n",
    "\n",
    "country_dict={}\n",
    "for i in range(0,234):\n",
    "    country_dict[response_county['items'][i]['id']]=response_county['items'][i]['title']\n",
    "\n",
    "def country_id (country_id):\n",
    "    return country_dict[country_id]\n",
    "\n",
    "country_id (30)"
   ]
  },
  {
   "cell_type": "code",
   "execution_count": 67,
   "metadata": {},
   "outputs": [],
   "source": [
    "education_=['university_name', 'faculty_name', 'graduation']\n",
    "education_NULL=['?','?','?']\n",
    "\n",
    "personal_ = ['political','langs','religion','inspired_by','people_main','life_main','smoking','alcohol']\n",
    "personal_NULL=['?','?','?','?','?','?','?','?']\n",
    "\n",
    "occupation_=['type','name']\n",
    "occupation_NULL=['?','?']\n",
    "\n",
    "school_=['country','city','name','year_from','year_to','year_graduated','class','speciality','type_str']\n",
    "school_NULL=['?','?','?','?','?','?','?','?','?']\n",
    "\n",
    "political_dict={'0' : '?',\n",
    "    '1' : 'коммунистические',\n",
    "'2' : 'социалистические',\n",
    "'3' : 'умеренные',\n",
    "'4' : 'либеральные',\n",
    "'5' : 'консервативные',\n",
    "'6' : 'монархические',\n",
    "'7' : 'ультраконсервативные',\n",
    "'8' : 'индифферентные',\n",
    "'9' : 'либертарианские'}\n",
    "\n",
    "people_main_dict={'0' : '?',\n",
    "                  '1' : 'ум и креативность',\n",
    "'2' : 'доброта и честность',\n",
    "'3' : 'красота и здоровье',\n",
    "'4' : 'власть и богатство',\n",
    "'5' : 'смелость и упорство',\n",
    "'6' : 'юмор и жизнелюбие'\n",
    "}\n",
    "\n",
    "life_main_dict={'0' : '?',\n",
    "                '1':'семья и дети',\n",
    "'2':'карьера и деньги',\n",
    "'3':'развлечения и отдых',\n",
    "'4':'наука и исследования',\n",
    "'5':'совершенствование мира',\n",
    "'6':'саморазвитие',\n",
    "'7':'красота и искусство',\n",
    "'8':'слава и влияние'}\n",
    "\n",
    "smoking_dict={'0' : '?',\n",
    "'1' :'резко негативное',\n",
    "'2' : 'негативное',\n",
    "'3' : 'компромиссное',\n",
    "'4' : 'нейтральное',\n",
    "'5' : 'положительное'}\n",
    "alcohol_dict={'0' : '?',\n",
    "'1' :'резко негативное',\n",
    "'2' : 'негативное',\n",
    "'3' : 'компромиссное',\n",
    "'4' : 'нейтральное',\n",
    "'5' : 'положительное'}\n",
    "\n",
    "platform_dict={\n",
    "'1':  'mobile web site',\n",
    "'2':  'iPhone',\n",
    "'3':  'iPad',\n",
    "'4':  'Android',\n",
    "'5':  'Windows Phone',\n",
    "'6':  'Windows 10',\n",
    "'7':  'full web site',\n",
    "}\n",
    "\n",
    "\n",
    "relation_dict={ \n",
    "'1' : 'не женат/не замужем',\n",
    "'2' : 'есть друг/есть подруга',\n",
    "'3' : 'помолвлен/помолвлена',\n",
    "'4' : 'женат/замужем',\n",
    "'5' : 'всё сложно',\n",
    "'6' : 'в активном поиске',\n",
    "'7' : 'влюблён/влюблена',\n",
    "'8' : 'в гражданском браке',\n",
    "'0' : '?'}\n",
    "\n",
    "\n",
    "def personal_result_funk (user):\n",
    "\n",
    "    personal_result=list()\n",
    "\n",
    "    if 'personal' in user:\n",
    "        personallist=user['personal']\n",
    "\n",
    "        for X in personal_:\n",
    "            if X in personallist:\n",
    "                if (X=='political' and personallist[X] in political_dict.keys()):\n",
    "                    personal_result.append(political_dict[str(personallist[X])])\n",
    "                    continue\n",
    "                if (X=='people_main' and personallist[X] in people_main_dict.keys()):\n",
    "                    personal_result.append(people_main_dict[str(personallist[X])])\n",
    "                    continue\n",
    "                if (X=='life_main' and personallist[X] in life_main_dict.keys()):\n",
    "                    personal_result.append(life_main_dict[str(personallist[X])])\n",
    "                    continue\n",
    "                if (X=='smoking' and personallist[X] in smoking_dict.keys()):              \n",
    "                    personal_result.append(smoking_dict[str(personallist[X])])\n",
    "                    continue\n",
    "                if (X=='alcohol' and personallist[X] in alcohol_dict.keys()):\n",
    "                    personal_result.append(alcohol_dict[str(personallist[X])])\n",
    "                    continue\n",
    "                else:\n",
    "                    personal_result.append(str(personallist[X]))\n",
    "               # print('yes')\n",
    "            else:\n",
    "                personal_result.append('?')\n",
    "                \n",
    "                \n",
    "    else: \n",
    "        personal_result=personal_result+personal_NULL\n",
    "    return personal_result\n",
    "\n",
    "\n",
    "def contacts_funk (user):\n",
    "    \n",
    "    contacts=('skype', 'facebook', 'twitter', 'livejournal', 'Instagram', 'contacts', 'mobile_phone', 'home_phone','site')\n",
    "    contact_user={}\n",
    "    for X in contacts:\n",
    "        if X in user:\n",
    "            contact_user[X]=user[X]\n",
    "        else:\n",
    "            contact_user[X]='?'\n",
    "    return contact_user\n",
    "    \n",
    "\n",
    "def education_funk (user):\n",
    "\n",
    "    _result=list()\n",
    "\n",
    "    if 'education' in user:\n",
    "        educationlist=user['education']\n",
    "\n",
    "        for X in education_:\n",
    "            if X in educationlist:\n",
    "                _result.append(str(educationlist[X]))\n",
    "                         \n",
    "            else:\n",
    "                _result.append('?')\n",
    "                \n",
    "                \n",
    "    else: \n",
    "        _result=_result+education_NULL\n",
    "    return _result\n",
    "\n",
    "def occupation_funk (user):\n",
    "\n",
    "    _result=list()\n",
    "\n",
    "    if 'occupation' in user:\n",
    "        occupationlist=user['occupation']\n",
    "\n",
    "        for X in occupation_:\n",
    "            if X in occupationlist:\n",
    "                _result.append(str(occupationlist[X]))\n",
    "                         \n",
    "            else:\n",
    "                _result.append('?')\n",
    "                \n",
    "                \n",
    "    else: \n",
    "        _result=_result+occupation_NULL\n",
    "    return _result\n",
    "\n",
    "def city_funk (user):\n",
    "    if 'city' in user:\n",
    "        city_result=user['city']['title']\n",
    "        \n",
    "    else:\n",
    "        city_result='?'\n",
    "    return str(city_result)\n",
    "\n",
    "def country_funk (user):\n",
    "    if 'country' in user:\n",
    "        result=user['country']['title']\n",
    "        \n",
    "    else:\n",
    "        result='?'\n",
    "    return str(result)\n",
    "\n",
    "\n",
    "import datetime\n",
    "\n",
    "def last_seen_funk (user):\n",
    "    time_result=list()\n",
    "    if 'last_seen' in user:    \n",
    "        if 'platform' in user['last_seen']:\n",
    "            time_result.append(platform_dict[str(user['last_seen']['platform'])])\n",
    "        else:\n",
    "            time_result.append('?')\n",
    "        if 'time' in user['last_seen']:\n",
    "        \n",
    "            time_seen=datetime.datetime.fromtimestamp(user['last_seen']['time'])\n",
    "            time_result.append(time_seen.strftime('%Y-%m-%d %H:%M:%S'))\n",
    "        else:\n",
    "            time_result.append('?')\n",
    "    else:\n",
    "        time_result.append('?')\n",
    "        time_result.append('?')\n",
    "    return time_result\n",
    "\n",
    "def relation_funk (user):\n",
    "   \n",
    "    if ('relation' in user and user['relation'] in relation_dict.keys()) :    \n",
    "      \n",
    "        _result=relation_dict[str(user['relation'])]\n",
    "      \n",
    "    else:\n",
    "        _result=relation_dict['0']\n",
    "       \n",
    "    return _result\n",
    "\n",
    "\n",
    "\n",
    "def school_funk (user):\n",
    "\n",
    "    _result_1=list()\n",
    "   \n",
    "\n",
    "    if 'schools' in user:\n",
    "        school_that=user['schools']\n",
    "        \n",
    "        if len(school_that)>1:\n",
    "            for i in range(0,len(school_that)):\n",
    "\n",
    "                school_that_that=school_that[i]\n",
    "                _result_2=list()\n",
    "\n",
    "                for X in school_:\n",
    "                    if X in school_that_that:\n",
    "                        if X=='city':\n",
    "                            _result_2.append(city_id(str(school_that_that[X])))\n",
    "                            #print(1, X,'___',city_id(str(school_that_that[X])))\n",
    "                        if X=='country':\n",
    "                            _result_2.append(country_id(school_that_that[X]))\n",
    "                            #print(2, X,'___',country_id(school_that_that[X]))\n",
    "                        if ((X!= 'country') and (X!='city')):\n",
    "                            _result_2.append(str(school_that_that[X]))\n",
    "                            #print(3, X,'___',school_that_that[X])\n",
    "\n",
    "                    else:\n",
    "                        _result_2.append('?')\n",
    "                        #print(4, X,'___','?')\n",
    "                _result_1.append(_result_2)\n",
    "        \n",
    "        if len(school_that)==1:\n",
    "            school_that_that=school_that[0]\n",
    "            _result_2=list()\n",
    "\n",
    "            for X in school_:\n",
    "                if X in school_that_that:\n",
    "                    _result_2.append(str(school_that_that[X]))\n",
    "                    #print(5, X,'___',school_that_that[X])\n",
    "                else:\n",
    "                    _result_2.append('?')\n",
    "                    #print(6, X,'___','?')\n",
    "            _result_1.append(_result_2)\n",
    "            _result_1.append(school_NULL)\n",
    "        if len(school_that)==0:\n",
    "            _result_1.append(school_NULL)\n",
    "            _result_1.append(school_NULL)\n",
    "        \n",
    "    else: \n",
    "        _result_1.append(school_NULL)\n",
    "        _result_1.append(school_NULL)\n",
    "    return _result_1\n",
    "\n",
    "#не работает!\n",
    "def replace_city_country (user):\n",
    "    if len(user)==1:\n",
    "        if 'country_id' in user:\n",
    "            user['country_id']=country_id(user['country_id'])\n",
    "        if 'city_id' in user:\n",
    "            user['city_id']=city_id(user['city_id'])\n",
    "        return user\n",
    "    \n",
    "    if len(user)>1:\n",
    "        \n",
    "        if ('country_id' or 'city_id') in user:\n",
    "            if 'country_id' in user:\n",
    "                user['country_id']=country_id(user['country_id'])\n",
    "            if 'city_id' in user:\n",
    "                user['city_id']=city_id(user['city_id'])\n",
    "            return user\n",
    "        else:\n",
    "            for i in range(0,len(user)):    \n",
    "                replace_city_country (user[i])\n",
    "            \n",
    "    if len(user)==0:\n",
    "        return '?'\n",
    "\n",
    "\n"
   ]
  },
  {
   "cell_type": "code",
   "execution_count": 71,
   "metadata": {},
   "outputs": [
    {
     "ename": "KeyError",
     "evalue": "'relations'",
     "output_type": "error",
     "traceback": [
      "\u001b[0;31m---------------------------------------------------------------------------\u001b[0m",
      "\u001b[0;31mKeyError\u001b[0m                                  Traceback (most recent call last)",
      "\u001b[0;32m<ipython-input-71-dfaebb06be21>\u001b[0m in \u001b[0;36m<module>\u001b[0;34m\u001b[0m\n\u001b[0;32m----> 1\u001b[0;31m \u001b[0mprint\u001b[0m\u001b[0;34m(\u001b[0m\u001b[0mresponse_vk\u001b[0m\u001b[0;34m[\u001b[0m\u001b[0;36m6\u001b[0m\u001b[0;34m]\u001b[0m\u001b[0;34m[\u001b[0m\u001b[0;34m'relations'\u001b[0m\u001b[0;34m]\u001b[0m\u001b[0;34m)\u001b[0m\u001b[0;34m\u001b[0m\u001b[0;34m\u001b[0m\u001b[0m\n\u001b[0m",
      "\u001b[0;31mKeyError\u001b[0m: 'relations'"
     ]
    }
   ],
   "source": []
  },
  {
   "cell_type": "code",
   "execution_count": 2,
   "metadata": {},
   "outputs": [
    {
     "name": "stdout",
     "output_type": "stream",
     "text": [
      "200\n"
     ]
    },
    {
     "ename": "NameError",
     "evalue": "name 'robot' is not defined",
     "output_type": "error",
     "traceback": [
      "\u001b[0;31m---------------------------------------------------------------------------\u001b[0m",
      "\u001b[0;31mNameError\u001b[0m                                 Traceback (most recent call last)",
      "\u001b[0;32m<ipython-input-2-afe0fd041de2>\u001b[0m in \u001b[0;36m<module>\u001b[0;34m\u001b[0m\n\u001b[1;32m     33\u001b[0m \u001b[0;34m\u001b[0m\u001b[0m\n\u001b[1;32m     34\u001b[0m \u001b[0;34m\u001b[0m\u001b[0m\n\u001b[0;32m---> 35\u001b[0;31m         \u001b[0mLLL1\u001b[0m\u001b[0;34m=\u001b[0m\u001b[0mrobot\u001b[0m\u001b[0;34m(\u001b[0m\u001b[0mresponse_vk\u001b[0m\u001b[0;34m)\u001b[0m\u001b[0;34m\u001b[0m\u001b[0;34m\u001b[0m\u001b[0m\n\u001b[0m\u001b[1;32m     36\u001b[0m \u001b[0;34m\u001b[0m\u001b[0m\n\u001b[1;32m     37\u001b[0m         \u001b[0;31m#print('check_2')\u001b[0m\u001b[0;34m\u001b[0m\u001b[0;34m\u001b[0m\u001b[0;34m\u001b[0m\u001b[0m\n",
      "\u001b[0;31mNameError\u001b[0m: name 'robot' is not defined"
     ]
    }
   ],
   "source": [
    "import time\n",
    "import requests\n",
    "\n",
    "miss_list=('deactivated', 'is_closed', 'can_access_closed','blacklisted,counters','photo_50,photo_200_orig', 'photo_200', 'photo_400_orig', 'photo_max', 'timezone', 'trendin', 'verified', 'wall_default')\n",
    "\n",
    "\n",
    "multi=10 #размер запроса\n",
    "\n",
    "for k in range(0,1): #количество запросов = порядковый номер юзера\n",
    "    #try:\n",
    "        #print(multi*k)\n",
    "       # print(multi*(k+1))\n",
    "        \n",
    "        url = 'https://api.vk.com/method/users.get' \n",
    "        token = '74cc2fc574cc2fc574cc2fc51674bd0ddd774cc74cc2fc52a52f6d01cd4498f9b895e70'\n",
    "        f='id, first_name, last_name, about, activities, bdate, city, country, books, career, domain, education, followers_count, games, home_town, interests, last_seen, maiden_name, movies, music, nickname, occupation, personal, photo_100, photo_max_orig, quotes, relatives, relation, schools, screen_name, sex, status, tv, universities, university, university_name, faculty, faculty_name, chair_name, graduation, education_form, education_status'\n",
    "\n",
    "        \n",
    "        \n",
    "        \n",
    "        ids = \",\".join(map(str, range(multi*k, (multi*(k+1))))) #\n",
    "\n",
    "        params = {'user_ids': ids, 'v': 5.103, 'fields': f, 'access_token': token, 'lang': 'ru'}  \n",
    "\n",
    "        response_vk=requests.get(url, params=params) \n",
    "        print(response_vk.status_code)\n",
    "        #print(response_vk.text)\n",
    "        response_vk=response_vk.json()['response']\n",
    "        #print('check_1')\n",
    "        #print(response_vk)\n",
    "        LLL1=list()\n",
    "        \n",
    "        \n",
    "       \n",
    "        LLL1=robot(response_vk)\n",
    "        \n",
    "        #print('check_2')\n",
    "        if len(LLL1) == 0:\n",
    "            time.sleep(0.05)\n",
    "            continue\n",
    "        else:\n",
    "            write_to(LLL1)\n",
    "        \n",
    "    #except:\n",
    "        print('k___',k)"
   ]
  },
  {
   "cell_type": "code",
   "execution_count": 61,
   "metadata": {},
   "outputs": [
    {
     "name": "stdout",
     "output_type": "stream",
     "text": [
      "0 ____ 10\n",
      "10 ____ 20\n",
      "20 ____ 30\n",
      "30 ____ 40\n",
      "40 ____ 50\n",
      "50 ____ 60\n",
      "60 ____ 70\n",
      "70 ____ 80\n",
      "80 ____ 90\n",
      "90 ____ 100\n"
     ]
    }
   ],
   "source": [
    "multi=10\n",
    "\n",
    "for k in range(0,10):\n",
    "    #try:\n",
    "        print(multi*k, '____',multi*(k+1))\n",
    "        "
   ]
  },
  {
   "cell_type": "code",
   "execution_count": 14,
   "metadata": {},
   "outputs": [
    {
     "name": "stdout",
     "output_type": "stream",
     "text": [
      "{'id': 1, 'first_name': 'Павел', 'last_name': 'Дуров', 'is_closed': False, 'can_access_closed': True, 'sex': 2, 'nickname': '', 'domain': 'durov', 'screen_name': 'durov', 'bdate': '10.10.1984', 'city': {'id': 2, 'title': 'Санкт-Петербург'}, 'country': {'id': 1, 'title': 'Россия'}, 'photo_100': 'https://sun9-53.userapi.com/c836333/v836333001/31192/y1Cm4JfplhQ.jpg?ava=1', 'photo_max_orig': 'https://sun9-50.userapi.com/c836333/v836333001/31190/RMbqDaZJd-0.jpg?ava=1', 'status': '道德經', 'last_seen': {'time': 1585047104, 'platform': 7}, 'followers_count': 5936208, 'occupation': {'type': 'work', 'name': 'Telegram'}, 'career': [{'group_id': 22822305, 'country_id': 1, 'city_id': 2, 'from': 2006, 'until': 2014, 'position': 'Генеральный директор'}, {'company': 'Telegram', 'country_id': 65, 'city_id': 458, 'from': 2014, 'position': 'CEO'}], 'university': 1, 'university_name': 'СПбГУ', 'faculty': 0, 'faculty_name': '', 'graduation': 2006, 'home_town': '', 'relation': 0, 'personal': {'political': 9, 'langs': ['Русский', 'English', 'Français', 'Deutsch', 'Español', 'Italiano', 'Lingua Latina', 'فارسی'], 'religion': 'Laissez-faire', 'inspired_by': 'Steve Jobs', 'people_main': 5, 'life_main': 6, 'smoking': 1, 'alcohol': 1, 'religion_id': 0}, 'interests': '', 'music': '', 'activities': '', 'movies': '12 Angry Men', 'tv': '', 'books': '', 'games': '', 'universities': [{'id': 1, 'country': 1, 'city': 2, 'name': 'СПбГУ', 'graduation': 2006}], 'schools': [{'id': '1035386', 'country': 88, 'city': 16, 'name': 'Sc.Elem. Coppino - Falletti di Barolo', 'year_from': 1990, 'year_to': 1992, 'class': ''}, {'id': '1', 'country': 1, 'city': 2, 'name': 'Академическая гимназия им. Д. К. Фаддеева СПбГУ', 'year_from': 1996, 'year_to': 2001, 'year_graduated': 2001, 'class': 'о', 'type': 1, 'type_str': 'Гимназия'}], 'about': '', 'relatives': [], 'quotes': \"Being free, being truly free consists of not being bound by the opinions that others choose to display in regards to the decisions that one chooses to make on a daily weekly, or lifetime basis. \\n\\nIn order to be free we have to be willing to think for ourselves, learn for our selves, and to live our lives as our real true selves. Being free is when you are able to stand up and speak in public spewing your beliefs not caring what anyone else will think of them. \\n\\nBeing free is when you are able to go against the grain, when you are able to make a left when everyone else is going right, and not worry about why everyone is talking about you, or looking at you in a manner that is unfavorable, and with faces that blatantly say that they don't approve of your choices. \\n\\nOne of the greatest challenges is being yourself in a world that's trying to make you like everyone else.\"}\n"
     ]
    }
   ],
   "source": [
    "print(response_vk[0])"
   ]
  },
  {
   "cell_type": "code",
   "execution_count": 52,
   "metadata": {},
   "outputs": [
    {
     "name": "stdout",
     "output_type": "stream",
     "text": [
      "59\n"
     ]
    }
   ],
   "source": [
    "print(len(LLL1[0]))"
   ]
  },
  {
   "cell_type": "code",
   "execution_count": 16,
   "metadata": {},
   "outputs": [
    {
     "name": "stdout",
     "output_type": "stream",
     "text": [
      "10,11,12,13,14\n"
     ]
    }
   ],
   "source": [
    "ids = \",\".join(map(str, range(10,15)))\n",
    "print(ids)\n"
   ]
  },
  {
   "cell_type": "code",
   "execution_count": 72,
   "metadata": {},
   "outputs": [
    {
     "data": {
      "text/plain": [
       "{'id': 7,\n",
       " 'first_name': 'Алексей',\n",
       " 'last_name': 'Кобылянский',\n",
       " 'is_closed': False,\n",
       " 'can_access_closed': True,\n",
       " 'sex': 2,\n",
       " 'nickname': '',\n",
       " 'domain': 'id7',\n",
       " 'screen_name': 'id7',\n",
       " 'city': {'id': 295, 'title': 'London'},\n",
       " 'country': {'id': 49, 'title': 'Великобритания'},\n",
       " 'photo_100': 'https://sun9-59.userapi.com/c844616/v844616442/cdacd/ea3cONAYAbo.jpg?ava=1',\n",
       " 'photo_max_orig': 'https://sun9-16.userapi.com/c844616/v844616442/cdaca/ltQP-cUEeAY.jpg?ava=1',\n",
       " 'status': '',\n",
       " 'last_seen': {'time': 1587563573, 'platform': 2},\n",
       " 'followers_count': 7276,\n",
       " 'occupation': {'type': 'work', 'name': 'Fitch Ratings'}}"
      ]
     },
     "execution_count": 72,
     "metadata": {},
     "output_type": "execute_result"
    }
   ],
   "source": [
    "response_vk[6]"
   ]
  },
  {
   "cell_type": "code",
   "execution_count": 18,
   "metadata": {},
   "outputs": [
    {
     "data": {
      "text/plain": [
       "-99"
      ]
     },
     "execution_count": 18,
     "metadata": {},
     "output_type": "execute_result"
    }
   ],
   "source": [
    "1069901-1070000"
   ]
  },
  {
   "cell_type": "code",
   "execution_count": null,
   "metadata": {},
   "outputs": [],
   "source": [
    "multi=100 #размер запроса\n",
    "\n",
    "for k in range(10700,11000): #ко\n",
    "    print(multi*k, (multi*(k+1)))"
   ]
  },
  {
   "cell_type": "code",
   "execution_count": 25,
   "metadata": {},
   "outputs": [
    {
     "data": {
      "text/plain": [
       "{'skype': '?',\n",
       " 'facebook': '?',\n",
       " 'twitter': '?',\n",
       " 'livejournal': '?',\n",
       " 'Instagram': '?',\n",
       " 'contacts': '?',\n",
       " 'mobile_phone': '?',\n",
       " 'home_phone': '?',\n",
       " 'site': '?'}"
      ]
     },
     "execution_count": 25,
     "metadata": {},
     "output_type": "execute_result"
    }
   ],
   "source": [
    "contacts_funk(response_vk[3])"
   ]
  },
  {
   "cell_type": "code",
   "execution_count": null,
   "metadata": {},
   "outputs": [],
   "source": []
  }
 ],
 "metadata": {
  "kernelspec": {
   "display_name": "Python 3",
   "language": "python",
   "name": "python3"
  },
  "language_info": {
   "codemirror_mode": {
    "name": "ipython",
    "version": 3
   },
   "file_extension": ".py",
   "mimetype": "text/x-python",
   "name": "python",
   "nbconvert_exporter": "python",
   "pygments_lexer": "ipython3",
   "version": "3.7.4"
  }
 },
 "nbformat": 4,
 "nbformat_minor": 4
}
