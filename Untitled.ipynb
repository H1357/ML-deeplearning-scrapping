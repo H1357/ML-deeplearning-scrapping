{
 "cells": [
  {
   "cell_type": "code",
   "execution_count": 1,
   "metadata": {},
   "outputs": [
    {
     "data": {
      "text/plain": [
       "<sqlite3.Cursor at 0x7fb178351570>"
      ]
     },
     "execution_count": 1,
     "metadata": {},
     "output_type": "execute_result"
    }
   ],
   "source": [
    "import sqlite3\n",
    " \n",
    "conn = sqlite3.connect(\"mydatabase1.db\") # или :memory: чтобы сохранить в RAM\n",
    "cursor = conn.cursor()\n",
    " \n",
    "# Создание таблицы\n",
    "cursor.execute(\"\"\"CREATE TABLE albums\n",
    "                  (title text, artist text, release_date text,\n",
    "                   publisher text, media_type text)\n",
    "               \"\"\")\n"
   ]
  },
  {
   "cell_type": "code",
   "execution_count": 13,
   "metadata": {},
   "outputs": [
    {
     "name": "stdout",
     "output_type": "stream",
     "text": [
      "(['Exodus', 'Andy Hunter', '7/9/2002', 'Sparrow Records', 'CD'], ['Exodus', 'Andy Hunter', '7/9/2002', 'Sparrow Records', 'CD'])\n"
     ]
    }
   ],
   "source": [
    "\n",
    " \n",
    " \n",
    "# Вставляем множество данных в таблицу используя безопасный метод \"?\"\n",
    "LL=list(['Exodus', 'Andy Hunter', '7/9/2002', 'Sparrow Records', 'CD'])\n",
    "LL1=list(['Exodus', 'Andy Hunter', '7/9/2002', 'Sparrow Records', 'CD'])\n",
    "LLL=tuple([LL,LL1])\n",
    "print(LLL)\n",
    "\n",
    "\n",
    " \n",
    "cursor.executemany(\"INSERT INTO albums VALUES (?,?,?,?,?)\", LLL)\n",
    "conn.commit()"
   ]
  },
  {
   "cell_type": "code",
   "execution_count": null,
   "metadata": {},
   "outputs": [],
   "source": []
  },
  {
   "cell_type": "code",
   "execution_count": null,
   "metadata": {},
   "outputs": [],
   "source": []
  }
 ],
 "metadata": {
  "kernelspec": {
   "display_name": "Python 3",
   "language": "python",
   "name": "python3"
  },
  "language_info": {
   "codemirror_mode": {
    "name": "ipython",
    "version": 3
   },
   "file_extension": ".py",
   "mimetype": "text/x-python",
   "name": "python",
   "nbconvert_exporter": "python",
   "pygments_lexer": "ipython3",
   "version": "3.7.4"
  }
 },
 "nbformat": 4,
 "nbformat_minor": 4
}
