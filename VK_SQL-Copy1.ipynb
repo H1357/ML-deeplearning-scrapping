{
 "cells": [
  {
   "cell_type": "code",
   "execution_count": 939,
   "metadata": {},
   "outputs": [
    {
     "name": "stdout",
     "output_type": "stream",
     "text": [
      "Opened database successfully\n",
      "Table created successfully\n"
     ]
    }
   ],
   "source": [
    "import sqlite3\n",
    "\n",
    "conn = sqlite3.connect('test19.db')\n",
    "print (\"Opened database successfully\")\n",
    "\n",
    "conn.execute('''CREATE TABLE COMPAN\n",
    "         (\n",
    "         idvk, first_name, last_name, deactivated, is_closed, can_access_closed, about, activities, bdate, blacklisted, books, career, city, skype, facebook, twitter, livejournal, Instagram, contacts, mobile_phone, home_phone, counters, country, domain, education, followers_count, games, home_town, interests, last_seen, maiden_name, military, movies, music, nickname, occupation, personal, photo_50, photo_100, photo_200_orig, photo_200, photo_400_orig, photo_max, photo_max_orig, quotes, relatives, relation, schools, screen_name, sex, site, status, timezone, trendin, tv, universities, verified, university, university_name, faculty, faculty_name, chair_name, graduation, education_form, education_status, political, langs, religion, inspired_by, people_main, life_main, smoking, alcohol, city_name, country_name, university_name_, faculty_name_, graduation_, platform, last_time, relation_name, school_1_country, school_1_city, school_1_name, school_1_year_from, school_1_year_to, school_1_year_graduated, school_1_class, school_1_speciality, school_1_type_str, school_2_country, school_2_city, school_2_name, school_2_year_from, school_2_year_to, school_2_year_graduated, school_2_class, school_2_speciality, school_2_type_str, occupation_type, occupation_place   TEXT    \n",
    "         \n",
    "         );''')\n",
    "print (\"Table created successfully\")\n",
    "\n",
    "conn.close()"
   ]
  },
  {
   "cell_type": "code",
   "execution_count": 711,
   "metadata": {},
   "outputs": [],
   "source": [
    "from pprint import pprint  \n",
    "import requests  \n",
    " \n",
    "ids = \",\".join(map(str, range(1, 101)))     \n",
    "    \n",
    "url = 'https://api.vk.com/method/users.get' \n",
    "token = '72610ce872610ce872610ce82e72102ef07726172610ce82cfc64ea1fc8e05a475d5949'\n",
    "f='id, first_name, last_name, deactivated, is_closed, can_access_closed, about, activities, bdate, blacklisted, books, career, city, skype, facebook, twitter, livejournal, Instagram, contacts, mobile_phone, home_phone, counters, country, domain, education, followers_count, games, home_town, interests, last_seen, maiden_name, military, movies, music, nickname, occupation, personal, photo_50, photo_100, photo_200_orig, photo_200, photo_400_orig, photo_max, photo_max_orig, quotes, relatives, relation, schools, screen_name, sex, site, status, timezone, trendin, tv, universities, verified, university, university_name, faculty, faculty_name, chair_name, graduation, education_form, education_status'\n",
    "\n",
    "\n",
    "params = {'user_ids': ids, 'v': 5.103, 'fields': f, 'access_token': token, 'lang': 'ru'}  \n",
    "         \n",
    "response=requests.get(url, params=params) \n",
    "response=response.json()['response']\n",
    "                  \n",
    "#pprint(response.json()) \n",
    "\n",
    "#user = response.json()['response'][7]\n",
    "\n",
    "\n",
    "\n",
    "#pprint(user)"
   ]
  },
  {
   "cell_type": "code",
   "execution_count": 802,
   "metadata": {},
   "outputs": [],
   "source": [
    "def city_id (city_id):\n",
    "    url = 'https://api.vk.com/method/database.getCitiesById' \n",
    "    token = '72610ce872610ce872610ce82e72102ef07726172610ce82cfc64ea1fc8e05a475d5949'\n",
    "\n",
    "    params = {'city_ids':city_id,'v': 5.103,'access_token': token}  \n",
    "\n",
    "    response_city=requests.get(url, params=params) \n",
    "    response_city=response_city.json()['response']#['title']\n",
    "    X= response_city[0]['title']\n",
    "    if X =='':\n",
    "        X='NULL'\n",
    "    return X\n",
    "\n",
    "\n",
    "    url = 'https://api.vk.com/method/database.getCountriesById' \n",
    "    token = '72610ce872610ce872610ce82e72102ef07726172610ce82cfc64ea1fc8e05a475d5949'\n",
    "\n",
    "    params = {'city_ids':country_id,'v': 5.103,'access_token': token}  \n",
    "\n",
    "    response_country=requests.get(url, params=params) \n",
    "    response_country=response_country.json()#['response']#['title']\n",
    "    X= response_country\n",
    "    #if X =='':\n",
    "    #    X='NULL'\n",
    "    return X\n",
    "\n"
   ]
  },
  {
   "cell_type": "code",
   "execution_count": 896,
   "metadata": {},
   "outputs": [
    {
     "data": {
      "text/plain": [
       "'Torino'"
      ]
     },
     "execution_count": 896,
     "metadata": {},
     "output_type": "execute_result"
    }
   ],
   "source": [
    "city_id (16)\n",
    "#country_id(88)"
   ]
  },
  {
   "cell_type": "code",
   "execution_count": 741,
   "metadata": {},
   "outputs": [
    {
     "data": {
      "text/plain": [
       "[{'id': 5432810,\n",
       "  'title': 'Aa',\n",
       "  'area': 'Lüganuse vald',\n",
       "  'region': 'Ida-Viru maakond'},\n",
       " {'id': 5437597,\n",
       "  'title': 'Aabra',\n",
       "  'area': 'Rõuge vald',\n",
       "  'region': 'Võru maakond'},\n",
       " {'id': 5436389,\n",
       "  'title': 'Aadami',\n",
       "  'area': 'Haaslava vald',\n",
       "  'region': 'Tartu maakond'}]"
      ]
     },
     "execution_count": 741,
     "metadata": {},
     "output_type": "execute_result"
    }
   ],
   "source": [
    "def city_list_for_country(id_country):  \n",
    "    url = 'https://api.vk.com/method/database.getCities' \n",
    "    token = '72610ce872610ce872610ce82e72102ef07726172610ce82cfc64ea1fc8e05a475d5949'\n",
    "\n",
    "    params = {'need_all': 1,'country_id':id_country,'v': 5.103,'access_token': token}  \n",
    "\n",
    "    response_city=requests.get(url, params=params) \n",
    "    response_city=response_city.json()['response']['items']\n",
    "    return response_city\n",
    "city_list_for_country(14)[0:3]"
   ]
  },
  {
   "cell_type": "code",
   "execution_count": null,
   "metadata": {},
   "outputs": [],
   "source": []
  },
  {
   "cell_type": "code",
   "execution_count": null,
   "metadata": {},
   "outputs": [],
   "source": []
  },
  {
   "cell_type": "code",
   "execution_count": null,
   "metadata": {},
   "outputs": [],
   "source": []
  },
  {
   "cell_type": "code",
   "execution_count": 812,
   "metadata": {},
   "outputs": [
    {
     "name": "stdout",
     "output_type": "stream",
     "text": [
      "{'id': 30, 'title': 'Afghanistan'}\n"
     ]
    },
    {
     "data": {
      "text/plain": [
       "'Afghanistan'"
      ]
     },
     "execution_count": 812,
     "metadata": {},
     "output_type": "execute_result"
    }
   ],
   "source": [
    "# создание функции country_id \n",
    "\n",
    "url = 'https://api.vk.com/method/database.getCountries' \n",
    "token = '72610ce872610ce872610ce82e72102ef07726172610ce82cfc64ea1fc8e05a475d5949'\n",
    "\n",
    "params = {'need_all': 1,'v': 5.103,'access_token': token, 'count':1000}  \n",
    "\n",
    "response_county=requests.get(url, params=params) \n",
    "response_county=response_county.json()['response']#['title']\n",
    "pprint(response_county['items'][0])\n",
    "\n",
    "country_dict={}\n",
    "for i in range(0,234):\n",
    "    country_dict[response_county['items'][i]['id']]=response_county['items'][i]['title']\n",
    "\n",
    "def country_id (country_id):\n",
    "    return country_dict[country_id]\n",
    "\n",
    "country_id (30)"
   ]
  },
  {
   "cell_type": "code",
   "execution_count": 807,
   "metadata": {},
   "outputs": [],
   "source": [
    "len(response_county['items'])\n",
    "country_dict={}\n",
    "for i in range(0,234):\n",
    "    country_dict[response_county['items'][i]['id']]=response_county['items'][i]['title']"
   ]
  },
  {
   "cell_type": "code",
   "execution_count": 811,
   "metadata": {},
   "outputs": [
    {
     "data": {
      "text/plain": [
       "'Italy'"
      ]
     },
     "execution_count": 811,
     "metadata": {},
     "output_type": "execute_result"
    }
   ],
   "source": [
    "def country_id (country_id):\n",
    "    return country_dict[country_id]\n",
    "\n",
    "country_id (88)"
   ]
  },
  {
   "cell_type": "code",
   "execution_count": null,
   "metadata": {},
   "outputs": [],
   "source": [
    "\n",
    "    "
   ]
  },
  {
   "cell_type": "code",
   "execution_count": null,
   "metadata": {},
   "outputs": [],
   "source": []
  },
  {
   "cell_type": "code",
   "execution_count": 745,
   "metadata": {},
   "outputs": [
    {
     "name": "stdout",
     "output_type": "stream",
     "text": [
      "{0: 0, 1: 1, 2: 4, 3: 9, 4: 16, 5: 25, 6: 36}\n"
     ]
    }
   ],
   "source": [
    "d = {a: a ** 2 for a in range(7)}\n",
    "\n",
    "print(d)"
   ]
  },
  {
   "cell_type": "code",
   "execution_count": 921,
   "metadata": {},
   "outputs": [],
   "source": [
    "education_=['university_name', 'faculty_name', 'graduation']\n",
    "education_NULL=['NULL','NULL','NULL']\n",
    "\n",
    "personal_ = ['political','langs','religion','inspired_by','people_main','life_main','smoking','alcohol']\n",
    "personal_NULL=['NULL','NULL','NULL','NULL','NULL','NULL','NULL','NULL']\n",
    "\n",
    "occupation_=['type','name']\n",
    "occupation_NULL=['NULL','NULL']\n",
    "\n",
    "school_=['country','city','name','year_from','year_to','year_graduated','class','speciality','type_str']\n",
    "school_NULL=['NULL','NULL','NULL','NULL','NULL','NULL','NULL','NULL','NULL']\n",
    "\n",
    "political_dict={'0' : 'NULL',\n",
    "    '1' : 'коммунистические',\n",
    "'2' : 'социалистические',\n",
    "'3' : 'умеренные',\n",
    "'4' : 'либеральные',\n",
    "'5' : 'консервативные',\n",
    "'6' : 'монархические',\n",
    "'7' : 'ультраконсервативные',\n",
    "'8' : 'индифферентные',\n",
    "'9' : 'либертарианские'}\n",
    "\n",
    "people_main_dict={'0' : 'NULL',\n",
    "                  '1' : 'ум и креативность',\n",
    "'2' : 'доброта и честность',\n",
    "'3' : 'красота и здоровье',\n",
    "'4' : 'власть и богатство',\n",
    "'5' : 'смелость и упорство',\n",
    "'6' : 'юмор и жизнелюбие'\n",
    "}\n",
    "\n",
    "life_main_dict={'0' : 'NULL',\n",
    "                '1':'семья и дети',\n",
    "'2':'карьера и деньги',\n",
    "'3':'развлечения и отдых',\n",
    "'4':'наука и исследования',\n",
    "'5':'совершенствование мира',\n",
    "'6':'саморазвитие',\n",
    "'7':'красота и искусство',\n",
    "'8':'слава и влияние'}\n",
    "\n",
    "smoking_dict={'0' : 'NULL',\n",
    "'1' :'резко негативное',\n",
    "'2' : 'негативное',\n",
    "'3' : 'компромиссное',\n",
    "'4' : 'нейтральное',\n",
    "'5' : 'положительное'}\n",
    "alcohol_dict={'0' : 'NULL',\n",
    "'1' :'резко негативное',\n",
    "'2' : 'негативное',\n",
    "'3' : 'компромиссное',\n",
    "'4' : 'нейтральное',\n",
    "'5' : 'положительное'}\n",
    "\n",
    "platform_dict={\n",
    "'1':  'мобильная версия',\n",
    "'2':  'приложение для iPhone',\n",
    "'3':  'приложение для iPad',\n",
    "'4':  'приложение для Android',\n",
    "'5':  'приложение для Windows Phone',\n",
    "'6':  'приложение для Windows 10',\n",
    "'7':  'полная версия сайта',\n",
    "}\n",
    "\n",
    "\n",
    "relation_dict={ \n",
    "'1' : 'не женат/не замужем',\n",
    "'2' : 'есть друг/есть подруга',\n",
    "'3' : 'помолвлен/помолвлена',\n",
    "'4' : 'женат/замужем',\n",
    "'5' : 'всё сложно',\n",
    "'6' : 'в активном поиске',\n",
    "'7' : 'влюблён/влюблена',\n",
    "'8' : 'в гражданском браке',\n",
    "'0' : 'NULL'}\n",
    "\n",
    "\n",
    "def personal_result_funk (user):\n",
    "\n",
    "    personal_result=list()\n",
    "\n",
    "    if 'personal' in user:\n",
    "        personallist=user['personal']\n",
    "\n",
    "        for X in personal_:\n",
    "            if X in personallist:\n",
    "                if X=='political':\n",
    "                    personal_result.append(political_dict[str(personallist[X])])\n",
    "                    continue\n",
    "                if X=='people_main':\n",
    "                    personal_result.append(people_main_dict[str(personallist[X])])\n",
    "                    continue\n",
    "                if X=='life_main':\n",
    "                    personal_result.append(life_main_dict[str(personallist[X])])\n",
    "                    continue\n",
    "                if X=='smoking':              \n",
    "                    personal_result.append(smoking_dict[str(personallist[X])])\n",
    "                    continue\n",
    "                if X=='alcohol':\n",
    "                    personal_result.append(alcohol_dict[str(personallist[X])])\n",
    "                    continue\n",
    "                else:\n",
    "                    personal_result.append(str(personallist[X]))\n",
    "               # print('yes')\n",
    "            else:\n",
    "                personal_result.append('NULL')\n",
    "                \n",
    "                \n",
    "    else: \n",
    "        personal_result=personal_result+personal_NULL\n",
    "    return personal_result\n",
    "\n",
    "\n",
    "def education_funk (user):\n",
    "\n",
    "    _result=list()\n",
    "\n",
    "    if 'education' in user:\n",
    "        educationlist=user['education']\n",
    "\n",
    "        for X in education_:\n",
    "            if X in educationlist:\n",
    "                _result.append(str(educationlist[X]))\n",
    "                         \n",
    "            else:\n",
    "                _result.append('NULL')\n",
    "                \n",
    "                \n",
    "    else: \n",
    "        _result=_result+education_NULL\n",
    "    return _result\n",
    "\n",
    "def occupation_funk (user):\n",
    "\n",
    "    _result=list()\n",
    "\n",
    "    if 'occupation' in user:\n",
    "        occupationlist=user['occupation']\n",
    "\n",
    "        for X in occupation_:\n",
    "            if X in occupationlist:\n",
    "                _result.append(str(occupationlist[X]))\n",
    "                         \n",
    "            else:\n",
    "                _result.append('NULL')\n",
    "                \n",
    "                \n",
    "    else: \n",
    "        _result=_result+occupation_NULL\n",
    "    return _result\n",
    "\n",
    "def city_funk (user):\n",
    "    if 'city' in user:\n",
    "        city_result=user['city']['title']\n",
    "        \n",
    "    else:\n",
    "        city_result='NULL'\n",
    "    return str(city_result)\n",
    "\n",
    "def country_funk (user):\n",
    "    if 'country' in user:\n",
    "        result=user['country']['title']\n",
    "        \n",
    "    else:\n",
    "        result='NULL'\n",
    "    return str(result)\n",
    "\n",
    "\n",
    "import datetime\n",
    "\n",
    "def last_seen_funk (user):\n",
    "    time_result=list()\n",
    "    if 'last_seen' in user:    \n",
    "      \n",
    "        time_result.append(platform_dict[str(user['last_seen']['platform'])])\n",
    "        time_seen=datetime.datetime.fromtimestamp(user['last_seen']['time'])\n",
    "        time_result.append(time_seen.strftime('%Y-%m-%d %H:%M:%S'))\n",
    "    else:\n",
    "        time_result.append('NULL')\n",
    "        time_result.append('NULL')\n",
    "    return time_result\n",
    "\n",
    "def relation_funk (user):\n",
    "   \n",
    "    if 'relation' in user:    \n",
    "      \n",
    "        _result=relation_dict[str(user['relation'])]\n",
    "      \n",
    "    else:\n",
    "        _result=relation_dict['0']\n",
    "       \n",
    "    return _result\n",
    "\n",
    "\n",
    "\n",
    "def school_funk (user):\n",
    "\n",
    "    _result_1=list()\n",
    "   \n",
    "\n",
    "    if 'schools' in user:\n",
    "        school_that=user['schools']\n",
    "        \n",
    "        if len(school_that)>1:\n",
    "            for i in range(0,len(school_that)):\n",
    "\n",
    "                school_that_that=school_that[i]\n",
    "                _result_2=list()\n",
    "\n",
    "                for X in school_:\n",
    "                    if X in school_that_that:\n",
    "                        if X=='city':\n",
    "                            _result_2.append(city_id(str(school_that_that[X])))\n",
    "                            #print(1, X,'___',city_id(str(school_that_that[X])))\n",
    "                        if X=='country':\n",
    "                            _result_2.append(country_id(school_that_that[X]))\n",
    "                            #print(2, X,'___',country_id(school_that_that[X]))\n",
    "                        if ((X!= 'country') and (X!='city')):\n",
    "                            _result_2.append(str(school_that_that[X]))\n",
    "                            #print(3, X,'___',school_that_that[X])\n",
    "\n",
    "                    else:\n",
    "                        _result_2.append('NULL')\n",
    "                        #print(4, X,'___','NULL')\n",
    "                _result_1.append(_result_2)\n",
    "        \n",
    "        if len(school_that)==1:\n",
    "            school_that_that=school_that[0]\n",
    "            _result_2=list()\n",
    "\n",
    "            for X in school_:\n",
    "                if X in school_that_that:\n",
    "                    _result_2.append(str(school_that_that[X]))\n",
    "                    #print(5, X,'___',school_that_that[X])\n",
    "                else:\n",
    "                    _result_2.append('NULL')\n",
    "                    #print(6, X,'___','NULL')\n",
    "            _result_1.append(_result_2)\n",
    "            _result_1.append(school_NULL)\n",
    "        if len(school_that)==0:\n",
    "            _result_1.append(school_NULL)\n",
    "            _result_1.append(school_NULL)\n",
    "        \n",
    "    else: \n",
    "        _result_1.append(school_NULL)\n",
    "        _result_1.append(school_NULL)\n",
    "    return _result_1\n",
    "\n",
    "#не работает!\n",
    "def replace_city_country (user):\n",
    "    if len(user)==1:\n",
    "        if 'country_id' in user:\n",
    "            user['country_id']=country_id(user['country_id'])\n",
    "        if 'city_id' in user:\n",
    "            user['city_id']=city_id(user['city_id'])\n",
    "        return user\n",
    "    \n",
    "    if len(user)>1:\n",
    "        \n",
    "        if ('country_id' or 'city_id') in user:\n",
    "            if 'country_id' in user:\n",
    "                user['country_id']=country_id(user['country_id'])\n",
    "            if 'city_id' in user:\n",
    "                user['city_id']=city_id(user['city_id'])\n",
    "            return user\n",
    "        else:\n",
    "            for i in range(0,len(user)):    \n",
    "                replace_city_country (user[i])\n",
    "            \n",
    "    if len(user)==0:\n",
    "        return 'NULL'\n"
   ]
  },
  {
   "cell_type": "code",
   "execution_count": 912,
   "metadata": {},
   "outputs": [
    {
     "name": "stdout",
     "output_type": "stream",
     "text": [
      "0\n",
      "1\n"
     ]
    }
   ],
   "source": [
    "for i in range(0,2):\n",
    "    print(i)"
   ]
  },
  {
   "cell_type": "code",
   "execution_count": 895,
   "metadata": {},
   "outputs": [
    {
     "name": "stdout",
     "output_type": "stream",
     "text": [
      "[{'id': '1035386', 'country': 88, 'city': 16, 'name': 'Sc.Elem. Coppino - Falletti di Barolo', 'year_from': 1990, 'year_to': 1992, 'class': ''}, {'id': '1', 'country': 1, 'city': 2, 'name': 'Академическая гимназия им. Д. К. Фаддеева СПбГУ', 'year_from': 1996, 'year_to': 2001, 'year_graduated': 2001, 'class': 'о', 'type': 1, 'type_str': 'Гимназия'}]\n"
     ]
    }
   ],
   "source": [
    "print(response[0]['schools'])"
   ]
  },
  {
   "cell_type": "code",
   "execution_count": 902,
   "metadata": {},
   "outputs": [
    {
     "name": "stdout",
     "output_type": "stream",
     "text": [
      "2 country ___ Italy\n",
      "1 city ___ Torino\n",
      "3 name ___ Sc.Elem. Coppino - Falletti di Barolo\n",
      "3 year_from ___ 1990\n",
      "3 year_to ___ 1992\n",
      "4 year_graduated ___ NULL\n",
      "3 class ___ \n",
      "4 speciality ___ NULL\n",
      "4 type_str ___ NULL\n",
      "2 country ___ Russia\n",
      "1 city ___ Saint Petersburg\n",
      "3 name ___ Академическая гимназия им. Д. К. Фаддеева СПбГУ\n",
      "3 year_from ___ 1996\n",
      "3 year_to ___ 2001\n",
      "3 year_graduated ___ 2001\n",
      "3 class ___ о\n",
      "4 speciality ___ NULL\n",
      "3 type_str ___ Гимназия\n",
      "[['Italy', 'Torino', 'Sc.Elem. Coppino - Falletti di Barolo', '1990', '1992', 'NULL', '', 'NULL', 'NULL'], ['Russia', 'Saint Petersburg', 'Академическая гимназия им. Д. К. Фаддеева СПбГУ', '1996', '2001', '2001', 'о', 'NULL', 'Гимназия']]\n"
     ]
    }
   ],
   "source": [
    "print(school_funk(response[0]))\n",
    "#print(XXX_funk(response[0]))"
   ]
  },
  {
   "cell_type": "code",
   "execution_count": 823,
   "metadata": {},
   "outputs": [
    {
     "name": "stdout",
     "output_type": "stream",
     "text": [
      "{'type': 'work', 'name': 'Telegram'}\n",
      "{'type': 'work', 'name': 'Telegram'}\n",
      "{'type': 'university', 'id': 1, 'name': 'СПбГУ'}\n",
      "{'type': 'work', 'name': 'Fitch Ratings'}\n",
      "{'type': 'university', 'id': 233160, 'name': 'АУ МВД Украины'}\n",
      "{'type': 'work', 'name': 'Институт Физики Атмосферы РАН'}\n",
      "{'type': 'work', 'name': 'Replika'}\n",
      "{'type': 'university', 'id': 1, 'name': 'СПбГУ'}\n",
      "{'type': 'university', 'id': 1, 'name': 'СПбГУ'}\n",
      "{'type': 'university', 'id': 68, 'name': 'СПбГЭТУ (ЛЭТИ)'}\n",
      "{'type': 'work', 'id': 110270984, 'name': 'Maxilect'}\n",
      "{'type': 'university', 'id': 59, 'name': 'ТЭУ СПбПУ (бывш. СПбГТЭУ, СПбТЭИ)'}\n",
      "{'type': 'university', 'id': 1, 'name': 'СПбГУ'}\n",
      "{'type': 'university', 'id': 1, 'name': 'СПбГУ'}\n",
      "{'type': 'university', 'id': 1173072, 'name': 'СПбГЭУ'}\n",
      "{'type': 'university', 'id': 1, 'name': 'СПбГУ'}\n",
      "{'type': 'university', 'id': 1, 'name': 'СПбГУ'}\n"
     ]
    }
   ],
   "source": [
    "for i in range (0,30):\n",
    "    if 'occupation' in response[i]:\n",
    "        print(response[i]['occupation'])\n",
    "        \n",
    "#response[1]['occupation']"
   ]
  },
  {
   "cell_type": "code",
   "execution_count": 931,
   "metadata": {},
   "outputs": [],
   "source": [
    "L=f.split(', ')\n",
    "LLx=list()\n",
    "\n",
    "for ii in range(0,100):\n",
    "    LL=list()\n",
    "    user = response[ii]\n",
    "    \n",
    "   # user =list(response[ii])\n",
    "    for X in L:\n",
    "        if X in user:\n",
    "            LL.append(str(user[X]))\n",
    "           # print('yes')\n",
    "        else:\n",
    "            LL.append('NULL')\n",
    "            #print('no')\n",
    "    \n",
    "    \n",
    "    #print(ii, school_funk (user)[0],school_funk (user)[1])\n",
    "        \n",
    "    LL=LL+personal_result_funk (user)\n",
    "    LL.append(city_funk(user))\n",
    "    LL.append(country_funk(user))\n",
    "    LL=LL+education_funk(user)\n",
    "    LL=LL+last_seen_funk(user)\n",
    "    LL.append(relation_funk(user))\n",
    "    \n",
    "        \n",
    "    LL=LL+school_funk (user)[0]\n",
    "    LL=LL+school_funk (user)[1]\n",
    "    LL=LL+occupation_funk(user)\n",
    "   \n",
    "    LLx.append(LL)\n",
    "    \n",
    "LLL=tuple(LLx)"
   ]
  },
  {
   "cell_type": "code",
   "execution_count": 495,
   "metadata": {},
   "outputs": [
    {
     "data": {
      "text/plain": [
       "'либертарианские'"
      ]
     },
     "execution_count": 495,
     "metadata": {},
     "output_type": "execute_result"
    }
   ],
   "source": [
    "political_dict[str(9)]"
   ]
  },
  {
   "cell_type": "code",
   "execution_count": null,
   "metadata": {},
   "outputs": [],
   "source": []
  },
  {
   "cell_type": "code",
   "execution_count": null,
   "metadata": {},
   "outputs": [],
   "source": []
  },
  {
   "cell_type": "code",
   "execution_count": 652,
   "metadata": {},
   "outputs": [],
   "source": [
    "for i in range (1,1):       \n",
    "    print(i)"
   ]
  },
  {
   "cell_type": "code",
   "execution_count": 880,
   "metadata": {},
   "outputs": [
    {
     "name": "stdout",
     "output_type": "stream",
     "text": [
      "['Italy', 'Torino', '16', 'Sc.Elem. Coppino - Falletti di Barolo', '1990', '1992', 'NULL', '', 'NULL', 'NULL'] ['Russia', 'Saint Petersburg', '2', 'Академическая гимназия им. Д. К. Фаддеева СПбГУ', '1996', '2001', '2001', 'о', 'NULL', 'Гимназия']\n"
     ]
    }
   ],
   "source": [
    "ek=response[0]\n",
    "\n",
    "#if 'schools' in ek:\n",
    "#    print(ek['schools'])\n",
    "\n",
    "print(school_funk (ek)[0],school_funk (ek)[1])\n",
    "\n",
    "#print(len(ek['schools']))\n",
    "#print(ek['schools'][0])\n",
    "#print(ek['schools'][1])\n"
   ]
  },
  {
   "cell_type": "code",
   "execution_count": 905,
   "metadata": {},
   "outputs": [
    {
     "name": "stdout",
     "output_type": "stream",
     "text": [
      "9 ___ 2\n",
      "9 ___ 1\n",
      "9 ___ 0\n",
      "9 ___ 4\n",
      "9 ___ 0\n",
      "9 ___ 2\n",
      "9 ___ 1\n",
      "9 ___ 0\n",
      "9 ___ 1\n",
      "9 ___ 0\n",
      "9 ___ 0\n",
      "9 ___ 1\n",
      "9 ___ 2\n",
      "9 ___ 2\n",
      "9 ___ 0\n"
     ]
    }
   ],
   "source": [
    "for i in range (0,100):\n",
    "    u=response[i]\n",
    "    if 'schools' in u:\n",
    "        \n",
    "        print(len(school_funk(u)[0]),'___',len(u['schools']))"
   ]
  },
  {
   "cell_type": "code",
   "execution_count": null,
   "metadata": {},
   "outputs": [],
   "source": [
    "  "
   ]
  },
  {
   "cell_type": "code",
   "execution_count": null,
   "metadata": {},
   "outputs": [],
   "source": []
  },
  {
   "cell_type": "code",
   "execution_count": 923,
   "metadata": {},
   "outputs": [],
   "source": [
    "#LLL=tuple([LLx[0],LLx[1],LLx[2],LLx[3],LLx[4]])\n"
   ]
  },
  {
   "cell_type": "code",
   "execution_count": 937,
   "metadata": {},
   "outputs": [
    {
     "name": "stdout",
     "output_type": "stream",
     "text": [
      "101\n",
      "101\n",
      "101\n",
      "101\n",
      "101\n",
      "101\n",
      "101\n",
      "101\n",
      "101\n",
      "101\n"
     ]
    }
   ],
   "source": [
    "for i in range(0,10):\n",
    "    print(len(LLx[i]))"
   ]
  },
  {
   "cell_type": "code",
   "execution_count": 925,
   "metadata": {},
   "outputs": [
    {
     "data": {
      "text/plain": [
       "tuple"
      ]
     },
     "execution_count": 925,
     "metadata": {},
     "output_type": "execute_result"
    }
   ],
   "source": [
    "type(LLL)"
   ]
  },
  {
   "cell_type": "code",
   "execution_count": 926,
   "metadata": {},
   "outputs": [
    {
     "data": {
      "text/plain": [
       "100"
      ]
     },
     "execution_count": 926,
     "metadata": {},
     "output_type": "execute_result"
    }
   ],
   "source": [
    "len(LLL)"
   ]
  },
  {
   "cell_type": "code",
   "execution_count": 940,
   "metadata": {},
   "outputs": [
    {
     "name": "stdout",
     "output_type": "stream",
     "text": [
      "Opened database successfully\n",
      "Records created successfully\n"
     ]
    }
   ],
   "source": [
    "\n",
    "\n",
    "conn = sqlite3.connect('test19.db')\n",
    "print (\"Opened database successfully\")\n",
    "cursor = conn.cursor()\n",
    "\n",
    "\n",
    "cursor.executemany(\"INSERT INTO COMPAN VALUES (?,?,?,?,?,?,?,?,?,?,?,?,?,?,?,?,?,?,?,?,?,?,?,?,?,?,?,?,?,?,?,?,?,?,?,?,?,?,?,?,?,?,?,?,?,?,?,?,?,?,?,?,?,?,?,?,?,?,?,?,?,?,?,?,?,?,?,?,?,?,?,?,?,?,?,?,?,?,?,?,?,?,?,?,?,?,?,?,?,?,?,?,?,?,?,?,?,?,?,?,?)\", LLL)\n",
    "\n",
    "\n",
    "\n",
    "conn.commit()\n",
    "print (\"Records created successfully\")\n",
    "conn.close()"
   ]
  },
  {
   "cell_type": "code",
   "execution_count": null,
   "metadata": {},
   "outputs": [],
   "source": [
    "user = response.json()['response'][3]\n",
    "pprint(user)"
   ]
  },
  {
   "cell_type": "code",
   "execution_count": 870,
   "metadata": {},
   "outputs": [],
   "source": [
    "gg='idvk, first_name, last_name, deactivated, is_closed, can_access_closed, about, activities, bdate, blacklisted, books, career, city, skype, facebook, twitter, livejournal, Instagram, contacts, mobile_phone, home_phone, counters, country, domain, education, followers_count, games, home_town, interests, last_seen, maiden_name, military, movies, music, nickname, occupation, personal, photo_50, photo_100, photo_200_orig, photo_200, photo_400_orig, photo_max, photo_max_orig, quotes, relatives, relation, schools, screen_name, sex, site, status, timezone, trendin, tv, universities, verified, university, university_name, faculty, faculty_name, chair_name, graduation, education_form, education_status, political, langs, religion, inspired_by, people_main, life_main, smoking, alcohol, city_name, country_name, university_name_, faculty_name_, graduation_, platform, last_time, relation_name, school_1_country, school_1_city, school_1_name, school_1_year_from, school_1_year_to, school_1_year_graduated, school_1_class, school_1_speciality, school_1_type_str, school_2_country, school_2_city, school_2_name, school_2_year_from, school_2_year_to, school_2_year_graduated, school_2_class, school_2_speciality, school_2_type_str'    \n",
    "GG=gg.split(',')              "
   ]
  },
  {
   "cell_type": "code",
   "execution_count": 871,
   "metadata": {},
   "outputs": [
    {
     "data": {
      "text/plain": [
       "99"
      ]
     },
     "execution_count": 871,
     "metadata": {},
     "output_type": "execute_result"
    }
   ],
   "source": [
    "len(GG)"
   ]
  },
  {
   "cell_type": "code",
   "execution_count": null,
   "metadata": {},
   "outputs": [],
   "source": [
    "for i in range (0,100):\n",
    "    print(len(LLx[0][i]))\n"
   ]
  },
  {
   "cell_type": "code",
   "execution_count": 873,
   "metadata": {},
   "outputs": [
    {
     "name": "stdout",
     "output_type": "stream",
     "text": [
      "1 ___ idvk\n",
      "Павел ___  first_name\n",
      "Дуров ___  last_name\n",
      "NULL ___  deactivated\n",
      "False ___  is_closed\n",
      "True ___  can_access_closed\n",
      " ___  about\n",
      " ___  activities\n",
      "10.10.1984 ___  bdate\n",
      "0 ___  blacklisted\n",
      " ___  books\n",
      "[{'group_id': 22822305, 'country_id': 1, 'city_id': 2, 'from': 2006, 'until': 2014, 'position': 'Генеральный директор'}, {'company': 'Telegram', 'country_id': 65, 'city_id': 458, 'from': 2014, 'position': 'CEO'}] ___  career\n",
      "{'id': 2, 'title': 'Санкт-Петербург'} ___  city\n",
      "NULL ___  skype\n",
      "NULL ___  facebook\n",
      "NULL ___  twitter\n",
      "NULL ___  livejournal\n",
      "NULL ___  Instagram\n",
      "NULL ___  contacts\n",
      "NULL ___  mobile_phone\n",
      "NULL ___  home_phone\n",
      "NULL ___  counters\n",
      "{'id': 1, 'title': 'Россия'} ___  country\n",
      "durov ___  domain\n",
      "NULL ___  education\n",
      "5935171 ___  followers_count\n",
      " ___  games\n",
      " ___  home_town\n",
      " ___  interests\n",
      "{'time': 1585047104, 'platform': 7} ___  last_seen\n",
      "NULL ___  maiden_name\n",
      "NULL ___  military\n",
      "12 Angry Men ___  movies\n",
      " ___  music\n",
      " ___  nickname\n",
      "{'type': 'work', 'name': 'Telegram'} ___  occupation\n",
      "{'political': 9, 'langs': ['Русский', 'English', 'Français', 'Deutsch', 'Español', 'Italiano', 'Lingua Latina', 'فارسی'], 'religion': 'Laissez-faire', 'inspired_by': 'Steve Jobs', 'people_main': 5, 'life_main': 6, 'smoking': 1, 'alcohol': 1, 'religion_id': 0} ___  personal\n",
      "https://sun9-13.userapi.com/c836333/v836333001/31193/dNxZpRF-z_M.jpg?ava=1 ___  photo_50\n",
      "https://sun9-53.userapi.com/c836333/v836333001/31192/y1Cm4JfplhQ.jpg?ava=1 ___  photo_100\n",
      "https://sun9-10.userapi.com/c836333/v836333001/3118f/3OWOVNTv67U.jpg?ava=1 ___  photo_200_orig\n",
      "https://sun9-42.userapi.com/c836333/v836333001/31191/qC6rVW5YSD8.jpg?ava=1 ___  photo_200\n",
      "https://sun9-50.userapi.com/c836333/v836333001/31190/RMbqDaZJd-0.jpg?ava=1 ___  photo_400_orig\n",
      "https://sun9-42.userapi.com/c836333/v836333001/31191/qC6rVW5YSD8.jpg?ava=1 ___  photo_max\n",
      "https://sun9-50.userapi.com/c836333/v836333001/31190/RMbqDaZJd-0.jpg?ava=1 ___  photo_max_orig\n",
      "Being free, being truly free consists of not being bound by the opinions that others choose to display in regards to the decisions that one chooses to make on a daily weekly, or lifetime basis. \n",
      "\n",
      "In order to be free we have to be willing to think for ourselves, learn for our selves, and to live our lives as our real true selves. Being free is when you are able to stand up and speak in public spewing your beliefs not caring what anyone else will think of them. \n",
      "\n",
      "Being free is when you are able to go against the grain, when you are able to make a left when everyone else is going right, and not worry about why everyone is talking about you, or looking at you in a manner that is unfavorable, and with faces that blatantly say that they don't approve of your choices. \n",
      "\n",
      "One of the greatest challenges is being yourself in a world that's trying to make you like everyone else. ___  quotes\n",
      "[] ___  relatives\n",
      "0 ___  relation\n",
      "[{'id': '1035386', 'country': 88, 'city': 16, 'name': 'Sc.Elem. Coppino - Falletti di Barolo', 'year_from': 1990, 'year_to': 1992, 'class': ''}, {'id': '1', 'country': 1, 'city': 2, 'name': 'Академическая гимназия им. Д. К. Фаддеева СПбГУ', 'year_from': 1996, 'year_to': 2001, 'year_graduated': 2001, 'class': 'о', 'type': 1, 'type_str': 'Гимназия'}] ___  schools\n",
      "durov ___  screen_name\n",
      "2 ___  sex\n",
      "http://t.me/durov ___  site\n",
      "道德經 ___  status\n",
      "NULL ___  timezone\n",
      "NULL ___  trendin\n",
      " ___  tv\n",
      "[{'id': 1, 'country': 1, 'city': 2, 'name': 'СПбГУ', 'graduation': 2006}] ___  universities\n",
      "1 ___  verified\n",
      "1 ___  university\n",
      "СПбГУ ___  university_name\n",
      "0 ___  faculty\n",
      " ___  faculty_name\n",
      "NULL ___  chair_name\n",
      "2006 ___  graduation\n",
      "NULL ___  education_form\n",
      "NULL ___  education_status\n",
      "либертарианские ___  political\n",
      "['Русский', 'English', 'Français', 'Deutsch', 'Español', 'Italiano', 'Lingua Latina', 'فارسی'] ___  langs\n",
      "Laissez-faire ___  religion\n",
      "Steve Jobs ___  inspired_by\n",
      "смелость и упорство ___  people_main\n",
      "саморазвитие ___  life_main\n",
      "резко негативное ___  smoking\n",
      "резко негативное ___  alcohol\n",
      "Санкт-Петербург ___  city_name\n",
      "Россия ___  country_name\n",
      "NULL ___  university_name_\n",
      "NULL ___  faculty_name_\n",
      "NULL ___  graduation_\n",
      "полная версия сайта ___  platform\n",
      "2020-03-24 13:51:44 ___  last_time\n",
      "NULL ___  relation_name\n",
      "Italy ___  school_1_country\n",
      "Torino ___  school_1_city\n",
      "16 ___  school_1_name\n",
      "Sc.Elem. Coppino - Falletti di Barolo ___  school_1_year_from\n",
      "1990 ___  school_1_year_to\n",
      "1992 ___  school_1_year_graduated\n",
      "NULL ___  school_1_class\n",
      " ___  school_1_speciality\n",
      "NULL ___  school_1_type_str\n",
      "NULL ___  school_2_country\n",
      "Russia ___  school_2_city\n",
      "Saint Petersburg ___  school_2_name\n",
      "2 ___  school_2_year_from\n",
      "Академическая гимназия им. Д. К. Фаддеева СПбГУ ___  school_2_year_to\n",
      "1996 ___  school_2_year_graduated\n",
      "2001 ___  school_2_class\n",
      "2001 ___  school_2_speciality\n",
      "о ___  school_2_type_str\n"
     ]
    },
    {
     "ename": "IndexError",
     "evalue": "list index out of range",
     "output_type": "error",
     "traceback": [
      "\u001b[0;31m---------------------------------------------------------------------------\u001b[0m",
      "\u001b[0;31mIndexError\u001b[0m                                Traceback (most recent call last)",
      "\u001b[0;32m<ipython-input-873-2eece3d36c76>\u001b[0m in \u001b[0;36m<module>\u001b[0;34m\u001b[0m\n\u001b[1;32m      1\u001b[0m \u001b[0;32mfor\u001b[0m \u001b[0mi\u001b[0m \u001b[0;32min\u001b[0m \u001b[0mrange\u001b[0m \u001b[0;34m(\u001b[0m\u001b[0;36m0\u001b[0m\u001b[0;34m,\u001b[0m\u001b[0;36m100\u001b[0m\u001b[0;34m)\u001b[0m\u001b[0;34m:\u001b[0m\u001b[0;34m\u001b[0m\u001b[0;34m\u001b[0m\u001b[0m\n\u001b[0;32m----> 2\u001b[0;31m     \u001b[0mprint\u001b[0m\u001b[0;34m(\u001b[0m\u001b[0mLLx\u001b[0m\u001b[0;34m[\u001b[0m\u001b[0;36m0\u001b[0m\u001b[0;34m]\u001b[0m\u001b[0;34m[\u001b[0m\u001b[0mi\u001b[0m\u001b[0;34m]\u001b[0m\u001b[0;34m,\u001b[0m\u001b[0;34m'___'\u001b[0m\u001b[0;34m,\u001b[0m\u001b[0mGG\u001b[0m\u001b[0;34m[\u001b[0m\u001b[0mi\u001b[0m\u001b[0;34m]\u001b[0m\u001b[0;34m)\u001b[0m\u001b[0;34m\u001b[0m\u001b[0;34m\u001b[0m\u001b[0m\n\u001b[0m",
      "\u001b[0;31mIndexError\u001b[0m: list index out of range"
     ]
    }
   ],
   "source": [
    "for i in range (0,100):\n",
    "    print(LLx[0][i],'___',GG[i])"
   ]
  },
  {
   "cell_type": "code",
   "execution_count": null,
   "metadata": {},
   "outputs": [],
   "source": []
  }
 ],
 "metadata": {
  "kernelspec": {
   "display_name": "Python 3",
   "language": "python",
   "name": "python3"
  },
  "language_info": {
   "codemirror_mode": {
    "name": "ipython",
    "version": 3
   },
   "file_extension": ".py",
   "mimetype": "text/x-python",
   "name": "python",
   "nbconvert_exporter": "python",
   "pygments_lexer": "ipython3",
   "version": "3.7.4"
  }
 },
 "nbformat": 4,
 "nbformat_minor": 4
}
